{
  "nbformat": 4,
  "nbformat_minor": 0,
  "metadata": {
    "colab": {
      "provenance": []
    },
    "kernelspec": {
      "name": "python3",
      "display_name": "Python 3"
    },
    "language_info": {
      "name": "python"
    }
  },
  "cells": [
    {
      "cell_type": "code",
      "execution_count": null,
      "metadata": {
        "colab": {
          "base_uri": "https://localhost:8080/"
        },
        "id": "YGIftcYARlu0",
        "outputId": "df326f61-f990-4c31-8221-411b6697f93c"
      },
      "outputs": [
        {
          "output_type": "stream",
          "name": "stdout",
          "text": [
            "Mounted at /content/drive\n"
          ]
        }
      ],
      "source": [
        "    from google.colab import drive\n",
        "    drive.mount('/content/drive')"
      ]
    },
    {
      "cell_type": "code",
      "source": [
        "#creating folders\n",
        "import os\n",
        "dataset_dir = '/content/drive/My Drive/Dataset/'\n",
        "raw_img_dir   = dataset_dir+'raw_img_1_MOV/'\n",
        "raw_lbl_dir   = dataset_dir+'raw_lbl_1_MOV'\n",
        "\n",
        "classes_file_path= dataset_dir+'classes.txt'\n",
        "os.makedirs(raw_img_dir, exist_ok=True)\n",
        "os.makedirs(raw_lbl_dir, exist_ok=True)\n"
      ],
      "metadata": {
        "id": "Ah5ZmLzwR7YN"
      },
      "execution_count": null,
      "outputs": []
    },
    {
      "cell_type": "code",
      "source": [
        "# access the video file where is located in google drive\n",
        "\n",
        "print(classes_file_path)"
      ],
      "metadata": {
        "colab": {
          "base_uri": "https://localhost:8080/"
        },
        "id": "XXPeLDwCU6Dv",
        "outputId": "fa3a76ca-fb36-4c32-a4b2-0b91d4a25338"
      },
      "execution_count": null,
      "outputs": [
        {
          "output_type": "stream",
          "name": "stdout",
          "text": [
            "/content/drive/My Drive/Dataset/classes.txt\n"
          ]
        }
      ]
    },
    {
      "cell_type": "markdown",
      "source": [
        "classes in classes.txt"
      ],
      "metadata": {
        "id": "szSRm7pto1ow"
      }
    },
    {
      "cell_type": "code",
      "source": [
        "\n",
        "Classes=list()\n",
        "Classes.append(\"Dinner Table\") #0\n",
        "Classes.append(\"Tea Glass\") #1\n",
        "Classes.append(\"Spoon Box\")#2\n",
        "Classes.append(\"Person\")#3\n",
        "Classes.append(\"Tea Jar\")#4\n",
        "Classes.append(\"Human Hand\") #5\n",
        "\n",
        "index=0;\n",
        "with open(classes_file_path, 'w') as writefile:\n",
        "  while index<6:\n",
        "    line=Classes[index]+\"\\n\";\n",
        "    writefile.write(line);\n",
        "    index+=1;\n"
      ],
      "metadata": {
        "id": "7-2dkx79o4ZH"
      },
      "execution_count": null,
      "outputs": []
    },
    {
      "cell_type": "code",
      "source": [
        "  import os\n",
        "  import cv2\n",
        "\n",
        "  video_path = '/content/drive/My Drive/Video/1.MOV'\n",
        "  cap = cv2.VideoCapture(video_path)\n",
        "\n",
        "  imgs_dir = raw_img_dir\n",
        "  lbls_dir = raw_lbl_dir\n",
        "  frame_count = 0\n",
        "\n",
        "  # first video has fixed set of objects (table,tea glass, spoon box)\n",
        "  # so for every frame add lables and boxes for these objects\n",
        "  while True:\n",
        "       ret, frame = cap.read()\n",
        "       if not ret:\n",
        "           break\n",
        "\n",
        "       H, W = frame.shape[:2]\n",
        "\n",
        "       print(height, width )\n",
        "\n",
        "       # Save frame\n",
        "       image_filename = os.path.join(imgs_dir, f'frame_{frame_count:05d}.jpg')  # image file\n",
        "       lbl_filename   = os.path.join(lbls_dir, f'frame_{frame_count:05d}.txt')  # label file according YOLO TXT format\n",
        "       cv2.imwrite(image_filename, frame)\n",
        "       with open(lbl_filename, 'w') as writefile:\n",
        "          ## class_id, center_x,center_y,with,hieght  normalized values\n",
        "          writefile.write(\"0 0.58 0.5  0.85  0.7\\n\")\n",
        "          writefile.write(\"1 0.32 0.19  0.08  0.12\\n\")\n",
        "          writefile.write(\"1 0.32 0.76  0.08  0.12\\n\")\n",
        "          writefile.write(\"2 0.165 0.3  0.07  0.28\\n\")\n",
        "\n",
        "       frame_count += 1\n",
        "       print(f\"Processed {frame_count} frames\")\n",
        "\n",
        "\n",
        "\n",
        "\n",
        "  cap.release()"
      ],
      "metadata": {
        "id": "TJFR-eZYU96e"
      },
      "execution_count": null,
      "outputs": []
    },
    {
      "cell_type": "code",
      "source": [
        "# moving tea jar and hand\n",
        "frame_count=102\n",
        "while frame_count<=178 :\n",
        "   lbl_filename   = os.path.join(lbls_dir, f'frame_{frame_count:05d}.txt')  # label file according YOLO TXT format\n",
        "   with open(lbl_filename, 'w') as writefile:\n",
        "          ## class_id, center_x,center_y,with,hieght  normalized values\n",
        "          writefile.write(\"0 0.58 0.5  0.85  0.7\\n\")\n",
        "          writefile.write(\"1 0.32 0.19  0.08  0.12\\n\")\n",
        "          writefile.write(\"1 0.32 0.76  0.08  0.12\\n\")\n",
        "          writefile.write(\"2 0.165 0.3  0.07  0.28\\n\")\n",
        "          x=0.035+0.022*frame_count\n",
        "          if x> 0.52:\n",
        "            x=0.52\n",
        "          y=0.16+0.04*frame_count\n",
        "          if y > 0.4:\n",
        "              y=0.4\n",
        "          line=\"4 \"+str(x)+\" \"+str(y)+\" 0.067  0.16\\n\";\n",
        "          writefile.write(line)\n",
        "          if frame_count>112 :\n",
        "            if frame_count<144:\n",
        "              writefile.write(\"5 0.15 0.26 0.14  0.08\\n\")\n",
        "            elif frame_count <156:\n",
        "               writefile.write(\"5 0.15 0.2 0.14  0.08\\n\")\n",
        "\n",
        "   frame_count+=1;"
      ],
      "metadata": {
        "id": "lklupUk0ACah"
      },
      "execution_count": null,
      "outputs": []
    },
    {
      "cell_type": "markdown",
      "source": [
        "Splitting Data into Train/Val/Test\n",
        "70%  training  15% valid  15% test"
      ],
      "metadata": {
        "id": "SjooXYkgTAbj"
      }
    },
    {
      "cell_type": "code",
      "source": [
        "import os\n",
        "import random\n",
        "import shutil\n",
        "from sklearn.model_selection import train_test_split\n",
        "\n",
        "\n",
        "images_dir = raw_img_dir\n",
        "labels_dir = raw_lbl_dir\n",
        "output_dir = dataset_dir\n",
        "\n",
        "# Create output directories\n",
        "for folder in ['train', 'val', 'test']:\n",
        "    os.makedirs(os.path.join(output_dir, 'images', folder), exist_ok=True)\n",
        "    os.makedirs(os.path.join(output_dir, 'labels', folder), exist_ok=True)\n"
      ],
      "metadata": {
        "id": "KIOVQUWDdK0M"
      },
      "execution_count": null,
      "outputs": []
    },
    {
      "cell_type": "code",
      "source": [
        "# Get list of image files (assuming .jpg, modify if different)\n",
        "image_files = [f for f in os.listdir(images_dir) if f.endswith('.jpg')]\n",
        "\n",
        "# Split into train+temp (80%), then split temp into val and test (50% each)\n",
        "train_files, temp_files = train_test_split(image_files, test_size=0.2, random_state=42)\n",
        "val_files, test_files = train_test_split(temp_files, test_size=0.5, random_state=42)"
      ],
      "metadata": {
        "id": "EBGHgn5RdcT8"
      },
      "execution_count": null,
      "outputs": []
    },
    {
      "cell_type": "code",
      "source": [
        "\n",
        "def copy_files(files, split_name):\n",
        "\n",
        "    for file in files:\n",
        "        # Copy image\n",
        "        shutil.copy(\n",
        "            os.path.join(images_dir, file),\n",
        "            os.path.join(output_dir, 'images', split_name, file)\n",
        "        )\n",
        "\n",
        "        # Copy corresponding label file (assuming .txt format)\n",
        "        label_file = os.path.splitext(file)[0] + '.txt'\n",
        "        shutil.copy(\n",
        "            os.path.join(labels_dir, label_file),\n",
        "            os.path.join(output_dir, 'labels', split_name, label_file)\n",
        "        )\n",
        "\n",
        "# Copy files to their respective directories\n",
        "copy_files(train_files, 'train')\n",
        "copy_files(val_files, 'val')\n",
        "copy_files(test_files, 'test')\n",
        "\n",
        "# Print statistics\n",
        "print(f\"Total images: {len(image_files)}\")\n",
        "print(f\"Train: {len(train_files)} ({len(train_files)/len(image_files):.1%})\")\n",
        "print(f\"Validation: {len(val_files)} ({len(val_files)/len(image_files):.1%})\")\n",
        "print(f\"Test: {len(test_files)} ({len(test_files)/len(image_files):.1%})\")"
      ],
      "metadata": {
        "colab": {
          "base_uri": "https://localhost:8080/"
        },
        "id": "uOy674GbTeD7",
        "outputId": "24ad9470-8ae4-448c-c11d-2e9c32cdcc96"
      },
      "execution_count": null,
      "outputs": [
        {
          "output_type": "stream",
          "name": "stdout",
          "text": [
            "Total images: 179\n",
            "Train: 143 (79.9%)\n",
            "Validation: 18 (10.1%)\n",
            "Test: 18 (10.1%)\n"
          ]
        }
      ]
    },
    {
      "cell_type": "markdown",
      "source": [
        "Building YOLO11"
      ],
      "metadata": {
        "id": "T7wb-IZ4flbu"
      }
    },
    {
      "cell_type": "code",
      "source": [
        "!pip install ultralytics"
      ],
      "metadata": {
        "colab": {
          "base_uri": "https://localhost:8080/"
        },
        "id": "bS7X62NNgOEs",
        "outputId": "69cb7664-ef1f-4c2f-8272-520726f3958e"
      },
      "execution_count": null,
      "outputs": [
        {
          "output_type": "stream",
          "name": "stdout",
          "text": [
            "Collecting ultralytics\n",
            "  Downloading ultralytics-8.3.158-py3-none-any.whl.metadata (37 kB)\n",
            "Requirement already satisfied: numpy>=1.23.0 in /usr/local/lib/python3.11/dist-packages (from ultralytics) (2.0.2)\n",
            "Requirement already satisfied: matplotlib>=3.3.0 in /usr/local/lib/python3.11/dist-packages (from ultralytics) (3.10.0)\n",
            "Requirement already satisfied: opencv-python>=4.6.0 in /usr/local/lib/python3.11/dist-packages (from ultralytics) (4.11.0.86)\n",
            "Requirement already satisfied: pillow>=7.1.2 in /usr/local/lib/python3.11/dist-packages (from ultralytics) (11.2.1)\n",
            "Requirement already satisfied: pyyaml>=5.3.1 in /usr/local/lib/python3.11/dist-packages (from ultralytics) (6.0.2)\n",
            "Requirement already satisfied: requests>=2.23.0 in /usr/local/lib/python3.11/dist-packages (from ultralytics) (2.32.3)\n",
            "Requirement already satisfied: scipy>=1.4.1 in /usr/local/lib/python3.11/dist-packages (from ultralytics) (1.15.3)\n",
            "Requirement already satisfied: torch>=1.8.0 in /usr/local/lib/python3.11/dist-packages (from ultralytics) (2.6.0+cu124)\n",
            "Requirement already satisfied: torchvision>=0.9.0 in /usr/local/lib/python3.11/dist-packages (from ultralytics) (0.21.0+cu124)\n",
            "Requirement already satisfied: tqdm>=4.64.0 in /usr/local/lib/python3.11/dist-packages (from ultralytics) (4.67.1)\n",
            "Requirement already satisfied: psutil in /usr/local/lib/python3.11/dist-packages (from ultralytics) (5.9.5)\n",
            "Requirement already satisfied: py-cpuinfo in /usr/local/lib/python3.11/dist-packages (from ultralytics) (9.0.0)\n",
            "Requirement already satisfied: pandas>=1.1.4 in /usr/local/lib/python3.11/dist-packages (from ultralytics) (2.2.2)\n",
            "Collecting ultralytics-thop>=2.0.0 (from ultralytics)\n",
            "  Downloading ultralytics_thop-2.0.14-py3-none-any.whl.metadata (9.4 kB)\n",
            "Requirement already satisfied: contourpy>=1.0.1 in /usr/local/lib/python3.11/dist-packages (from matplotlib>=3.3.0->ultralytics) (1.3.2)\n",
            "Requirement already satisfied: cycler>=0.10 in /usr/local/lib/python3.11/dist-packages (from matplotlib>=3.3.0->ultralytics) (0.12.1)\n",
            "Requirement already satisfied: fonttools>=4.22.0 in /usr/local/lib/python3.11/dist-packages (from matplotlib>=3.3.0->ultralytics) (4.58.4)\n",
            "Requirement already satisfied: kiwisolver>=1.3.1 in /usr/local/lib/python3.11/dist-packages (from matplotlib>=3.3.0->ultralytics) (1.4.8)\n",
            "Requirement already satisfied: packaging>=20.0 in /usr/local/lib/python3.11/dist-packages (from matplotlib>=3.3.0->ultralytics) (24.2)\n",
            "Requirement already satisfied: pyparsing>=2.3.1 in /usr/local/lib/python3.11/dist-packages (from matplotlib>=3.3.0->ultralytics) (3.2.3)\n",
            "Requirement already satisfied: python-dateutil>=2.7 in /usr/local/lib/python3.11/dist-packages (from matplotlib>=3.3.0->ultralytics) (2.9.0.post0)\n",
            "Requirement already satisfied: pytz>=2020.1 in /usr/local/lib/python3.11/dist-packages (from pandas>=1.1.4->ultralytics) (2025.2)\n",
            "Requirement already satisfied: tzdata>=2022.7 in /usr/local/lib/python3.11/dist-packages (from pandas>=1.1.4->ultralytics) (2025.2)\n",
            "Requirement already satisfied: charset-normalizer<4,>=2 in /usr/local/lib/python3.11/dist-packages (from requests>=2.23.0->ultralytics) (3.4.2)\n",
            "Requirement already satisfied: idna<4,>=2.5 in /usr/local/lib/python3.11/dist-packages (from requests>=2.23.0->ultralytics) (3.10)\n",
            "Requirement already satisfied: urllib3<3,>=1.21.1 in /usr/local/lib/python3.11/dist-packages (from requests>=2.23.0->ultralytics) (2.4.0)\n",
            "Requirement already satisfied: certifi>=2017.4.17 in /usr/local/lib/python3.11/dist-packages (from requests>=2.23.0->ultralytics) (2025.6.15)\n",
            "Requirement already satisfied: filelock in /usr/local/lib/python3.11/dist-packages (from torch>=1.8.0->ultralytics) (3.18.0)\n",
            "Requirement already satisfied: typing-extensions>=4.10.0 in /usr/local/lib/python3.11/dist-packages (from torch>=1.8.0->ultralytics) (4.14.0)\n",
            "Requirement already satisfied: networkx in /usr/local/lib/python3.11/dist-packages (from torch>=1.8.0->ultralytics) (3.5)\n",
            "Requirement already satisfied: jinja2 in /usr/local/lib/python3.11/dist-packages (from torch>=1.8.0->ultralytics) (3.1.6)\n",
            "Requirement already satisfied: fsspec in /usr/local/lib/python3.11/dist-packages (from torch>=1.8.0->ultralytics) (2025.3.2)\n",
            "Collecting nvidia-cuda-nvrtc-cu12==12.4.127 (from torch>=1.8.0->ultralytics)\n",
            "  Downloading nvidia_cuda_nvrtc_cu12-12.4.127-py3-none-manylinux2014_x86_64.whl.metadata (1.5 kB)\n",
            "Collecting nvidia-cuda-runtime-cu12==12.4.127 (from torch>=1.8.0->ultralytics)\n",
            "  Downloading nvidia_cuda_runtime_cu12-12.4.127-py3-none-manylinux2014_x86_64.whl.metadata (1.5 kB)\n",
            "Collecting nvidia-cuda-cupti-cu12==12.4.127 (from torch>=1.8.0->ultralytics)\n",
            "  Downloading nvidia_cuda_cupti_cu12-12.4.127-py3-none-manylinux2014_x86_64.whl.metadata (1.6 kB)\n",
            "Collecting nvidia-cudnn-cu12==9.1.0.70 (from torch>=1.8.0->ultralytics)\n",
            "  Downloading nvidia_cudnn_cu12-9.1.0.70-py3-none-manylinux2014_x86_64.whl.metadata (1.6 kB)\n",
            "Collecting nvidia-cublas-cu12==12.4.5.8 (from torch>=1.8.0->ultralytics)\n",
            "  Downloading nvidia_cublas_cu12-12.4.5.8-py3-none-manylinux2014_x86_64.whl.metadata (1.5 kB)\n",
            "Collecting nvidia-cufft-cu12==11.2.1.3 (from torch>=1.8.0->ultralytics)\n",
            "  Downloading nvidia_cufft_cu12-11.2.1.3-py3-none-manylinux2014_x86_64.whl.metadata (1.5 kB)\n",
            "Collecting nvidia-curand-cu12==10.3.5.147 (from torch>=1.8.0->ultralytics)\n",
            "  Downloading nvidia_curand_cu12-10.3.5.147-py3-none-manylinux2014_x86_64.whl.metadata (1.5 kB)\n",
            "Collecting nvidia-cusolver-cu12==11.6.1.9 (from torch>=1.8.0->ultralytics)\n",
            "  Downloading nvidia_cusolver_cu12-11.6.1.9-py3-none-manylinux2014_x86_64.whl.metadata (1.6 kB)\n",
            "Collecting nvidia-cusparse-cu12==12.3.1.170 (from torch>=1.8.0->ultralytics)\n",
            "  Downloading nvidia_cusparse_cu12-12.3.1.170-py3-none-manylinux2014_x86_64.whl.metadata (1.6 kB)\n",
            "Requirement already satisfied: nvidia-cusparselt-cu12==0.6.2 in /usr/local/lib/python3.11/dist-packages (from torch>=1.8.0->ultralytics) (0.6.2)\n",
            "Requirement already satisfied: nvidia-nccl-cu12==2.21.5 in /usr/local/lib/python3.11/dist-packages (from torch>=1.8.0->ultralytics) (2.21.5)\n",
            "Requirement already satisfied: nvidia-nvtx-cu12==12.4.127 in /usr/local/lib/python3.11/dist-packages (from torch>=1.8.0->ultralytics) (12.4.127)\n",
            "Collecting nvidia-nvjitlink-cu12==12.4.127 (from torch>=1.8.0->ultralytics)\n",
            "  Downloading nvidia_nvjitlink_cu12-12.4.127-py3-none-manylinux2014_x86_64.whl.metadata (1.5 kB)\n",
            "Requirement already satisfied: triton==3.2.0 in /usr/local/lib/python3.11/dist-packages (from torch>=1.8.0->ultralytics) (3.2.0)\n",
            "Requirement already satisfied: sympy==1.13.1 in /usr/local/lib/python3.11/dist-packages (from torch>=1.8.0->ultralytics) (1.13.1)\n",
            "Requirement already satisfied: mpmath<1.4,>=1.1.0 in /usr/local/lib/python3.11/dist-packages (from sympy==1.13.1->torch>=1.8.0->ultralytics) (1.3.0)\n",
            "Requirement already satisfied: six>=1.5 in /usr/local/lib/python3.11/dist-packages (from python-dateutil>=2.7->matplotlib>=3.3.0->ultralytics) (1.17.0)\n",
            "Requirement already satisfied: MarkupSafe>=2.0 in /usr/local/lib/python3.11/dist-packages (from jinja2->torch>=1.8.0->ultralytics) (3.0.2)\n",
            "Downloading ultralytics-8.3.158-py3-none-any.whl (1.0 MB)\n",
            "\u001b[2K   \u001b[90m━━━━━━━━━━━━━━━━━━━━━━━━━━━━━━━━━━━━━━━━\u001b[0m \u001b[32m1.0/1.0 MB\u001b[0m \u001b[31m15.6 MB/s\u001b[0m eta \u001b[36m0:00:00\u001b[0m\n",
            "\u001b[?25hDownloading nvidia_cublas_cu12-12.4.5.8-py3-none-manylinux2014_x86_64.whl (363.4 MB)\n",
            "\u001b[2K   \u001b[90m━━━━━━━━━━━━━━━━━━━━━━━━━━━━━━━━━━━━━━━━\u001b[0m \u001b[32m363.4/363.4 MB\u001b[0m \u001b[31m3.6 MB/s\u001b[0m eta \u001b[36m0:00:00\u001b[0m\n",
            "\u001b[?25hDownloading nvidia_cuda_cupti_cu12-12.4.127-py3-none-manylinux2014_x86_64.whl (13.8 MB)\n",
            "\u001b[2K   \u001b[90m━━━━━━━━━━━━━━━━━━━━━━━━━━━━━━━━━━━━━━━━\u001b[0m \u001b[32m13.8/13.8 MB\u001b[0m \u001b[31m99.7 MB/s\u001b[0m eta \u001b[36m0:00:00\u001b[0m\n",
            "\u001b[?25hDownloading nvidia_cuda_nvrtc_cu12-12.4.127-py3-none-manylinux2014_x86_64.whl (24.6 MB)\n",
            "\u001b[2K   \u001b[90m━━━━━━━━━━━━━━━━━━━━━━━━━━━━━━━━━━━━━━━━\u001b[0m \u001b[32m24.6/24.6 MB\u001b[0m \u001b[31m80.8 MB/s\u001b[0m eta \u001b[36m0:00:00\u001b[0m\n",
            "\u001b[?25hDownloading nvidia_cuda_runtime_cu12-12.4.127-py3-none-manylinux2014_x86_64.whl (883 kB)\n",
            "\u001b[2K   \u001b[90m━━━━━━━━━━━━━━━━━━━━━━━━━━━━━━━━━━━━━━━━\u001b[0m \u001b[32m883.7/883.7 kB\u001b[0m \u001b[31m45.7 MB/s\u001b[0m eta \u001b[36m0:00:00\u001b[0m\n",
            "\u001b[?25hDownloading nvidia_cudnn_cu12-9.1.0.70-py3-none-manylinux2014_x86_64.whl (664.8 MB)\n",
            "\u001b[2K   \u001b[90m━━━━━━━━━━━━━━━━━━━━━━━━━━━━━━━━━━━━━━━\u001b[0m \u001b[32m664.8/664.8 MB\u001b[0m \u001b[31m841.5 kB/s\u001b[0m eta \u001b[36m0:00:00\u001b[0m\n",
            "\u001b[?25hDownloading nvidia_cufft_cu12-11.2.1.3-py3-none-manylinux2014_x86_64.whl (211.5 MB)\n",
            "\u001b[2K   \u001b[90m━━━━━━━━━━━━━━━━━━━━━━━━━━━━━━━━━━━━━━━━\u001b[0m \u001b[32m211.5/211.5 MB\u001b[0m \u001b[31m6.0 MB/s\u001b[0m eta \u001b[36m0:00:00\u001b[0m\n",
            "\u001b[?25hDownloading nvidia_curand_cu12-10.3.5.147-py3-none-manylinux2014_x86_64.whl (56.3 MB)\n",
            "\u001b[2K   \u001b[90m━━━━━━━━━━━━━━━━━━━━━━━━━━━━━━━━━━━━━━━━\u001b[0m \u001b[32m56.3/56.3 MB\u001b[0m \u001b[31m15.1 MB/s\u001b[0m eta \u001b[36m0:00:00\u001b[0m\n",
            "\u001b[?25hDownloading nvidia_cusolver_cu12-11.6.1.9-py3-none-manylinux2014_x86_64.whl (127.9 MB)\n",
            "\u001b[2K   \u001b[90m━━━━━━━━━━━━━━━━━━━━━━━━━━━━━━━━━━━━━━━━\u001b[0m \u001b[32m127.9/127.9 MB\u001b[0m \u001b[31m7.7 MB/s\u001b[0m eta \u001b[36m0:00:00\u001b[0m\n",
            "\u001b[?25hDownloading nvidia_cusparse_cu12-12.3.1.170-py3-none-manylinux2014_x86_64.whl (207.5 MB)\n",
            "\u001b[2K   \u001b[90m━━━━━━━━━━━━━━━━━━━━━━━━━━━━━━━━━━━━━━━━\u001b[0m \u001b[32m207.5/207.5 MB\u001b[0m \u001b[31m6.2 MB/s\u001b[0m eta \u001b[36m0:00:00\u001b[0m\n",
            "\u001b[?25hDownloading nvidia_nvjitlink_cu12-12.4.127-py3-none-manylinux2014_x86_64.whl (21.1 MB)\n",
            "\u001b[2K   \u001b[90m━━━━━━━━━━━━━━━━━━━━━━━━━━━━━━━━━━━━━━━━\u001b[0m \u001b[32m21.1/21.1 MB\u001b[0m \u001b[31m63.0 MB/s\u001b[0m eta \u001b[36m0:00:00\u001b[0m\n",
            "\u001b[?25hDownloading ultralytics_thop-2.0.14-py3-none-any.whl (26 kB)\n",
            "Installing collected packages: nvidia-nvjitlink-cu12, nvidia-curand-cu12, nvidia-cufft-cu12, nvidia-cuda-runtime-cu12, nvidia-cuda-nvrtc-cu12, nvidia-cuda-cupti-cu12, nvidia-cublas-cu12, nvidia-cusparse-cu12, nvidia-cudnn-cu12, nvidia-cusolver-cu12, ultralytics-thop, ultralytics\n",
            "  Attempting uninstall: nvidia-nvjitlink-cu12\n",
            "    Found existing installation: nvidia-nvjitlink-cu12 12.5.82\n",
            "    Uninstalling nvidia-nvjitlink-cu12-12.5.82:\n",
            "      Successfully uninstalled nvidia-nvjitlink-cu12-12.5.82\n",
            "  Attempting uninstall: nvidia-curand-cu12\n",
            "    Found existing installation: nvidia-curand-cu12 10.3.6.82\n",
            "    Uninstalling nvidia-curand-cu12-10.3.6.82:\n",
            "      Successfully uninstalled nvidia-curand-cu12-10.3.6.82\n",
            "  Attempting uninstall: nvidia-cufft-cu12\n",
            "    Found existing installation: nvidia-cufft-cu12 11.2.3.61\n",
            "    Uninstalling nvidia-cufft-cu12-11.2.3.61:\n",
            "      Successfully uninstalled nvidia-cufft-cu12-11.2.3.61\n",
            "  Attempting uninstall: nvidia-cuda-runtime-cu12\n",
            "    Found existing installation: nvidia-cuda-runtime-cu12 12.5.82\n",
            "    Uninstalling nvidia-cuda-runtime-cu12-12.5.82:\n",
            "      Successfully uninstalled nvidia-cuda-runtime-cu12-12.5.82\n",
            "  Attempting uninstall: nvidia-cuda-nvrtc-cu12\n",
            "    Found existing installation: nvidia-cuda-nvrtc-cu12 12.5.82\n",
            "    Uninstalling nvidia-cuda-nvrtc-cu12-12.5.82:\n",
            "      Successfully uninstalled nvidia-cuda-nvrtc-cu12-12.5.82\n",
            "  Attempting uninstall: nvidia-cuda-cupti-cu12\n",
            "    Found existing installation: nvidia-cuda-cupti-cu12 12.5.82\n",
            "    Uninstalling nvidia-cuda-cupti-cu12-12.5.82:\n",
            "      Successfully uninstalled nvidia-cuda-cupti-cu12-12.5.82\n",
            "  Attempting uninstall: nvidia-cublas-cu12\n",
            "    Found existing installation: nvidia-cublas-cu12 12.5.3.2\n",
            "    Uninstalling nvidia-cublas-cu12-12.5.3.2:\n",
            "      Successfully uninstalled nvidia-cublas-cu12-12.5.3.2\n",
            "  Attempting uninstall: nvidia-cusparse-cu12\n",
            "    Found existing installation: nvidia-cusparse-cu12 12.5.1.3\n",
            "    Uninstalling nvidia-cusparse-cu12-12.5.1.3:\n",
            "      Successfully uninstalled nvidia-cusparse-cu12-12.5.1.3\n",
            "  Attempting uninstall: nvidia-cudnn-cu12\n",
            "    Found existing installation: nvidia-cudnn-cu12 9.3.0.75\n",
            "    Uninstalling nvidia-cudnn-cu12-9.3.0.75:\n",
            "      Successfully uninstalled nvidia-cudnn-cu12-9.3.0.75\n",
            "  Attempting uninstall: nvidia-cusolver-cu12\n",
            "    Found existing installation: nvidia-cusolver-cu12 11.6.3.83\n",
            "    Uninstalling nvidia-cusolver-cu12-11.6.3.83:\n",
            "      Successfully uninstalled nvidia-cusolver-cu12-11.6.3.83\n",
            "Successfully installed nvidia-cublas-cu12-12.4.5.8 nvidia-cuda-cupti-cu12-12.4.127 nvidia-cuda-nvrtc-cu12-12.4.127 nvidia-cuda-runtime-cu12-12.4.127 nvidia-cudnn-cu12-9.1.0.70 nvidia-cufft-cu12-11.2.1.3 nvidia-curand-cu12-10.3.5.147 nvidia-cusolver-cu12-11.6.1.9 nvidia-cusparse-cu12-12.3.1.170 nvidia-nvjitlink-cu12-12.4.127 ultralytics-8.3.158 ultralytics-thop-2.0.14\n"
          ]
        }
      ]
    },
    {
      "cell_type": "code",
      "source": [
        "from ultralytics import YOLO\n",
        "\n",
        "# Load a pretrained YOLO11n model\n",
        "model = YOLO(\"yolo11n.pt\")\n"
      ],
      "metadata": {
        "colab": {
          "base_uri": "https://localhost:8080/"
        },
        "id": "26A0MjiffkdO",
        "outputId": "1142b894-cfcb-4247-a58c-b5a2c033940f"
      },
      "execution_count": null,
      "outputs": [
        {
          "output_type": "stream",
          "name": "stdout",
          "text": [
            "Creating new Ultralytics Settings v0.0.6 file ✅ \n",
            "View Ultralytics Settings with 'yolo settings' or at '/root/.config/Ultralytics/settings.json'\n",
            "Update Settings with 'yolo settings key=value', i.e. 'yolo settings runs_dir=path/to/dir'. For help see https://docs.ultralytics.com/quickstart/#ultralytics-settings.\n",
            "Downloading https://github.com/ultralytics/assets/releases/download/v8.3.0/yolo11n.pt to 'yolo11n.pt'...\n"
          ]
        },
        {
          "output_type": "stream",
          "name": "stderr",
          "text": [
            "100%|██████████| 5.35M/5.35M [00:00<00:00, 15.8MB/s]\n"
          ]
        }
      ]
    },
    {
      "cell_type": "markdown",
      "source": [
        "First Training for 40 Epoch"
      ],
      "metadata": {
        "id": "A90kkBzRbjE6"
      }
    },
    {
      "cell_type": "code",
      "source": [
        "# Train the model\n",
        "results = model.train(\n",
        "    data= dataset_dir+'Dinner_dataset.yaml',\n",
        "    epochs=40,\n",
        "    imgsz=640,\n",
        "    batch=16,\n",
        "    device='cpu',\n",
        "    val=True,       # Enable validation\n",
        "    plots=True,    # Generate metric plots\n",
        "    save_json=True  # Save metrics to JSON\n",
        ")\n"
      ],
      "metadata": {
        "colab": {
          "base_uri": "https://localhost:8080/"
        },
        "id": "jTsur5Muoom3",
        "outputId": "b17b741b-d15d-4452-d3b1-7866c834e038"
      },
      "execution_count": null,
      "outputs": [
        {
          "output_type": "stream",
          "name": "stdout",
          "text": [
            "New https://pypi.org/project/ultralytics/8.3.159 available 😃 Update with 'pip install -U ultralytics'\n",
            "Ultralytics 8.3.158 🚀 Python-3.11.13 torch-2.6.0+cu124 CPU (Intel Xeon 2.20GHz)\n",
            "\u001b[34m\u001b[1mengine/trainer: \u001b[0magnostic_nms=False, amp=True, augment=False, auto_augment=randaugment, batch=16, bgr=0.0, box=7.5, cache=False, cfg=None, classes=None, close_mosaic=10, cls=0.5, conf=None, copy_paste=0.0, copy_paste_mode=flip, cos_lr=False, cutmix=0.0, data=/content/drive/My Drive/Dataset/Dinner_dataset.yaml, degrees=0.0, deterministic=True, device=cpu, dfl=1.5, dnn=False, dropout=0.0, dynamic=False, embed=None, epochs=40, erasing=0.4, exist_ok=False, fliplr=0.5, flipud=0.0, format=torchscript, fraction=1.0, freeze=None, half=False, hsv_h=0.015, hsv_s=0.7, hsv_v=0.4, imgsz=640, int8=False, iou=0.7, keras=False, kobj=1.0, line_width=None, lr0=0.01, lrf=0.01, mask_ratio=4, max_det=300, mixup=0.0, mode=train, model=yolo11n.pt, momentum=0.937, mosaic=1.0, multi_scale=False, name=train19, nbs=64, nms=False, opset=None, optimize=False, optimizer=auto, overlap_mask=True, patience=100, perspective=0.0, plots=True, pose=12.0, pretrained=True, profile=False, project=None, rect=False, resume=False, retina_masks=False, save=True, save_conf=False, save_crop=False, save_dir=runs/detect/train19, save_frames=False, save_json=True, save_period=-1, save_txt=False, scale=0.5, seed=0, shear=0.0, show=False, show_boxes=True, show_conf=True, show_labels=True, simplify=True, single_cls=False, source=None, split=val, stream_buffer=False, task=detect, time=None, tracker=botsort.yaml, translate=0.1, val=True, verbose=True, vid_stride=1, visualize=False, warmup_bias_lr=0.1, warmup_epochs=3.0, warmup_momentum=0.8, weight_decay=0.0005, workers=8, workspace=None\n",
            "\n",
            "                   from  n    params  module                                       arguments                     \n",
            "  0                  -1  1       464  ultralytics.nn.modules.conv.Conv             [3, 16, 3, 2]                 \n",
            "  1                  -1  1      4672  ultralytics.nn.modules.conv.Conv             [16, 32, 3, 2]                \n",
            "  2                  -1  1      6640  ultralytics.nn.modules.block.C3k2            [32, 64, 1, False, 0.25]      \n",
            "  3                  -1  1     36992  ultralytics.nn.modules.conv.Conv             [64, 64, 3, 2]                \n",
            "  4                  -1  1     26080  ultralytics.nn.modules.block.C3k2            [64, 128, 1, False, 0.25]     \n",
            "  5                  -1  1    147712  ultralytics.nn.modules.conv.Conv             [128, 128, 3, 2]              \n",
            "  6                  -1  1     87040  ultralytics.nn.modules.block.C3k2            [128, 128, 1, True]           \n",
            "  7                  -1  1    295424  ultralytics.nn.modules.conv.Conv             [128, 256, 3, 2]              \n",
            "  8                  -1  1    346112  ultralytics.nn.modules.block.C3k2            [256, 256, 1, True]           \n",
            "  9                  -1  1    164608  ultralytics.nn.modules.block.SPPF            [256, 256, 5]                 \n",
            " 10                  -1  1    249728  ultralytics.nn.modules.block.C2PSA           [256, 256, 1]                 \n",
            " 11                  -1  1         0  torch.nn.modules.upsampling.Upsample         [None, 2, 'nearest']          \n",
            " 12             [-1, 6]  1         0  ultralytics.nn.modules.conv.Concat           [1]                           \n",
            " 13                  -1  1    111296  ultralytics.nn.modules.block.C3k2            [384, 128, 1, False]          \n",
            " 14                  -1  1         0  torch.nn.modules.upsampling.Upsample         [None, 2, 'nearest']          \n",
            " 15             [-1, 4]  1         0  ultralytics.nn.modules.conv.Concat           [1]                           \n",
            " 16                  -1  1     32096  ultralytics.nn.modules.block.C3k2            [256, 64, 1, False]           \n",
            " 17                  -1  1     36992  ultralytics.nn.modules.conv.Conv             [64, 64, 3, 2]                \n",
            " 18            [-1, 13]  1         0  ultralytics.nn.modules.conv.Concat           [1]                           \n",
            " 19                  -1  1     86720  ultralytics.nn.modules.block.C3k2            [192, 128, 1, False]          \n",
            " 20                  -1  1    147712  ultralytics.nn.modules.conv.Conv             [128, 128, 3, 2]              \n",
            " 21            [-1, 10]  1         0  ultralytics.nn.modules.conv.Concat           [1]                           \n",
            " 22                  -1  1    378880  ultralytics.nn.modules.block.C3k2            [384, 256, 1, True]           \n",
            " 23        [16, 19, 22]  1    431842  ultralytics.nn.modules.head.Detect           [6, [64, 128, 256]]           \n",
            "YOLO11n summary: 181 layers, 2,591,010 parameters, 2,590,994 gradients, 6.4 GFLOPs\n",
            "\n",
            "Transferred 499/499 items from pretrained weights\n",
            "Freezing layer 'model.23.dfl.conv.weight'\n",
            "\u001b[34m\u001b[1mtrain: \u001b[0mFast image access ✅ (ping: 0.5±0.2 ms, read: 177.9±160.7 MB/s, size: 2057.1 KB)\n"
          ]
        },
        {
          "output_type": "stream",
          "name": "stderr",
          "text": [
            "\u001b[34m\u001b[1mtrain: \u001b[0mScanning /content/drive/My Drive/Dataset/labels/train.cache... 23 images, 120 backgrounds, 0 corrupt: 100%|██████████| 143/143 [00:00<?, ?it/s]"
          ]
        },
        {
          "output_type": "stream",
          "name": "stdout",
          "text": [
            "\u001b[34m\u001b[1malbumentations: \u001b[0mBlur(p=0.01, blur_limit=(3, 7)), MedianBlur(p=0.01, blur_limit=(3, 7)), ToGray(p=0.01, method='weighted_average', num_output_channels=3), CLAHE(p=0.01, clip_limit=(1.0, 4.0), tile_grid_size=(8, 8))\n",
            "\u001b[34m\u001b[1mval: \u001b[0mFast image access ✅ (ping: 0.4±0.1 ms, read: 257.4±43.1 MB/s, size: 2059.8 KB)\n"
          ]
        },
        {
          "output_type": "stream",
          "name": "stderr",
          "text": [
            "\n",
            "\u001b[34m\u001b[1mval: \u001b[0mScanning /content/drive/My Drive/Dataset/labels/val.cache... 22 images, 0 backgrounds, 0 corrupt: 100%|██████████| 22/22 [00:00<?, ?it/s]\n"
          ]
        },
        {
          "output_type": "stream",
          "name": "stdout",
          "text": [
            "Plotting labels to runs/detect/train19/labels.jpg... \n",
            "\u001b[34m\u001b[1moptimizer:\u001b[0m 'optimizer=auto' found, ignoring 'lr0=0.01' and 'momentum=0.937' and determining best 'optimizer', 'lr0' and 'momentum' automatically... \n",
            "\u001b[34m\u001b[1moptimizer:\u001b[0m AdamW(lr=0.001, momentum=0.9) with parameter groups 81 weight(decay=0.0), 88 weight(decay=0.0005), 87 bias(decay=0.0)\n",
            "Image sizes 640 train, 640 val\n",
            "Using 0 dataloader workers\n",
            "Logging results to \u001b[1mruns/detect/train19\u001b[0m\n",
            "Starting training for 40 epochs...\n",
            "\n",
            "      Epoch    GPU_mem   box_loss   cls_loss   dfl_loss  Instances       Size\n"
          ]
        },
        {
          "output_type": "stream",
          "name": "stderr",
          "text": [
            "       1/40         0G      0.392      1.471      0.866         34        640: 100%|██████████| 9/9 [02:11<00:00, 14.63s/it]\n",
            "                 Class     Images  Instances      Box(P          R      mAP50  mAP50-95): 100%|██████████| 1/1 [00:05<00:00,  5.45s/it]"
          ]
        },
        {
          "output_type": "stream",
          "name": "stdout",
          "text": [
            "                   all         22        106      0.993      0.331      0.462      0.442\n"
          ]
        },
        {
          "output_type": "stream",
          "name": "stderr",
          "text": [
            "\n"
          ]
        },
        {
          "output_type": "stream",
          "name": "stdout",
          "text": [
            "\n",
            "      Epoch    GPU_mem   box_loss   cls_loss   dfl_loss  Instances       Size\n"
          ]
        },
        {
          "output_type": "stream",
          "name": "stderr",
          "text": [
            "       2/40         0G     0.3596      1.487     0.8643         26        640: 100%|██████████| 9/9 [02:08<00:00, 14.24s/it]\n",
            "                 Class     Images  Instances      Box(P          R      mAP50  mAP50-95): 100%|██████████| 1/1 [00:04<00:00,  4.74s/it]"
          ]
        },
        {
          "output_type": "stream",
          "name": "stdout",
          "text": [
            "                   all         22        106          1      0.315      0.429      0.409\n"
          ]
        },
        {
          "output_type": "stream",
          "name": "stderr",
          "text": [
            "\n"
          ]
        },
        {
          "output_type": "stream",
          "name": "stdout",
          "text": [
            "\n",
            "      Epoch    GPU_mem   box_loss   cls_loss   dfl_loss  Instances       Size\n"
          ]
        },
        {
          "output_type": "stream",
          "name": "stderr",
          "text": [
            "       3/40         0G     0.3528      1.253     0.8304         27        640: 100%|██████████| 9/9 [02:03<00:00, 13.70s/it]\n",
            "                 Class     Images  Instances      Box(P          R      mAP50  mAP50-95): 100%|██████████| 1/1 [00:04<00:00,  4.77s/it]"
          ]
        },
        {
          "output_type": "stream",
          "name": "stdout",
          "text": [
            "                   all         22        106      0.983      0.284      0.414      0.401\n"
          ]
        },
        {
          "output_type": "stream",
          "name": "stderr",
          "text": [
            "\n"
          ]
        },
        {
          "output_type": "stream",
          "name": "stdout",
          "text": [
            "\n",
            "      Epoch    GPU_mem   box_loss   cls_loss   dfl_loss  Instances       Size\n"
          ]
        },
        {
          "output_type": "stream",
          "name": "stderr",
          "text": [
            "       4/40         0G     0.3784      1.362     0.8722         18        640: 100%|██████████| 9/9 [02:00<00:00, 13.41s/it]\n",
            "                 Class     Images  Instances      Box(P          R      mAP50  mAP50-95): 100%|██████████| 1/1 [00:04<00:00,  4.72s/it]"
          ]
        },
        {
          "output_type": "stream",
          "name": "stdout",
          "text": [
            "                   all         22        106      0.973      0.334      0.469      0.439\n"
          ]
        },
        {
          "output_type": "stream",
          "name": "stderr",
          "text": [
            "\n"
          ]
        },
        {
          "output_type": "stream",
          "name": "stdout",
          "text": [
            "\n",
            "      Epoch    GPU_mem   box_loss   cls_loss   dfl_loss  Instances       Size\n"
          ]
        },
        {
          "output_type": "stream",
          "name": "stderr",
          "text": [
            "       5/40         0G     0.3657       1.43     0.8442         22        640: 100%|██████████| 9/9 [02:02<00:00, 13.59s/it]\n",
            "                 Class     Images  Instances      Box(P          R      mAP50  mAP50-95): 100%|██████████| 1/1 [00:04<00:00,  4.76s/it]"
          ]
        },
        {
          "output_type": "stream",
          "name": "stdout",
          "text": [
            "                   all         22        106          1      0.393      0.487      0.461\n"
          ]
        },
        {
          "output_type": "stream",
          "name": "stderr",
          "text": [
            "\n"
          ]
        },
        {
          "output_type": "stream",
          "name": "stdout",
          "text": [
            "\n",
            "      Epoch    GPU_mem   box_loss   cls_loss   dfl_loss  Instances       Size\n"
          ]
        },
        {
          "output_type": "stream",
          "name": "stderr",
          "text": [
            "       6/40         0G     0.3555      1.084     0.8254         27        640: 100%|██████████| 9/9 [02:04<00:00, 13.84s/it]\n",
            "                 Class     Images  Instances      Box(P          R      mAP50  mAP50-95): 100%|██████████| 1/1 [00:06<00:00,  6.20s/it]"
          ]
        },
        {
          "output_type": "stream",
          "name": "stdout",
          "text": [
            "                   all         22        106      0.981      0.338      0.424      0.395\n"
          ]
        },
        {
          "output_type": "stream",
          "name": "stderr",
          "text": [
            "\n"
          ]
        },
        {
          "output_type": "stream",
          "name": "stdout",
          "text": [
            "\n",
            "      Epoch    GPU_mem   box_loss   cls_loss   dfl_loss  Instances       Size\n"
          ]
        },
        {
          "output_type": "stream",
          "name": "stderr",
          "text": [
            "       7/40         0G     0.4282      1.674     0.8662         31        640: 100%|██████████| 9/9 [02:05<00:00, 13.94s/it]\n",
            "                 Class     Images  Instances      Box(P          R      mAP50  mAP50-95): 100%|██████████| 1/1 [00:04<00:00,  4.73s/it]"
          ]
        },
        {
          "output_type": "stream",
          "name": "stdout",
          "text": [
            "                   all         22        106      0.951      0.232      0.292      0.259\n"
          ]
        },
        {
          "output_type": "stream",
          "name": "stderr",
          "text": [
            "\n"
          ]
        },
        {
          "output_type": "stream",
          "name": "stdout",
          "text": [
            "\n",
            "      Epoch    GPU_mem   box_loss   cls_loss   dfl_loss  Instances       Size\n"
          ]
        },
        {
          "output_type": "stream",
          "name": "stderr",
          "text": [
            "       8/40         0G     0.3908      1.284     0.8602         17        640: 100%|██████████| 9/9 [02:05<00:00, 13.92s/it]\n",
            "                 Class     Images  Instances      Box(P          R      mAP50  mAP50-95): 100%|██████████| 1/1 [00:04<00:00,  4.96s/it]"
          ]
        },
        {
          "output_type": "stream",
          "name": "stdout",
          "text": [
            "                   all         22        106          1     0.0799      0.209      0.164\n"
          ]
        },
        {
          "output_type": "stream",
          "name": "stderr",
          "text": [
            "\n"
          ]
        },
        {
          "output_type": "stream",
          "name": "stdout",
          "text": [
            "\n",
            "      Epoch    GPU_mem   box_loss   cls_loss   dfl_loss  Instances       Size\n"
          ]
        },
        {
          "output_type": "stream",
          "name": "stderr",
          "text": [
            "       9/40         0G     0.3947       1.28     0.8585         42        640: 100%|██████████| 9/9 [01:59<00:00, 13.24s/it]\n",
            "                 Class     Images  Instances      Box(P          R      mAP50  mAP50-95): 100%|██████████| 1/1 [00:04<00:00,  4.69s/it]"
          ]
        },
        {
          "output_type": "stream",
          "name": "stdout",
          "text": [
            "                   all         22        106          1     0.0795      0.222      0.192\n"
          ]
        },
        {
          "output_type": "stream",
          "name": "stderr",
          "text": [
            "\n"
          ]
        },
        {
          "output_type": "stream",
          "name": "stdout",
          "text": [
            "\n",
            "      Epoch    GPU_mem   box_loss   cls_loss   dfl_loss  Instances       Size\n"
          ]
        },
        {
          "output_type": "stream",
          "name": "stderr",
          "text": [
            "      10/40         0G     0.3908      1.355      0.849          8        640: 100%|██████████| 9/9 [02:00<00:00, 13.39s/it]\n",
            "                 Class     Images  Instances      Box(P          R      mAP50  mAP50-95): 100%|██████████| 1/1 [00:04<00:00,  4.74s/it]"
          ]
        },
        {
          "output_type": "stream",
          "name": "stdout",
          "text": [
            "                   all         22        106      0.979      0.183      0.285      0.262\n"
          ]
        },
        {
          "output_type": "stream",
          "name": "stderr",
          "text": [
            "\n"
          ]
        },
        {
          "output_type": "stream",
          "name": "stdout",
          "text": [
            "\n",
            "      Epoch    GPU_mem   box_loss   cls_loss   dfl_loss  Instances       Size\n"
          ]
        },
        {
          "output_type": "stream",
          "name": "stderr",
          "text": [
            "      11/40         0G     0.3736      1.275     0.8709         14        640: 100%|██████████| 9/9 [02:00<00:00, 13.44s/it]\n",
            "                 Class     Images  Instances      Box(P          R      mAP50  mAP50-95): 100%|██████████| 1/1 [00:04<00:00,  4.85s/it]"
          ]
        },
        {
          "output_type": "stream",
          "name": "stdout",
          "text": [
            "                   all         22        106      0.945      0.133      0.327      0.285\n"
          ]
        },
        {
          "output_type": "stream",
          "name": "stderr",
          "text": [
            "\n"
          ]
        },
        {
          "output_type": "stream",
          "name": "stdout",
          "text": [
            "\n",
            "      Epoch    GPU_mem   box_loss   cls_loss   dfl_loss  Instances       Size\n"
          ]
        },
        {
          "output_type": "stream",
          "name": "stderr",
          "text": [
            "      12/40         0G     0.3836      1.662     0.8506         16        640: 100%|██████████| 9/9 [01:58<00:00, 13.19s/it]\n",
            "                 Class     Images  Instances      Box(P          R      mAP50  mAP50-95): 100%|██████████| 1/1 [00:04<00:00,  4.76s/it]"
          ]
        },
        {
          "output_type": "stream",
          "name": "stdout",
          "text": [
            "                   all         22        106      0.961      0.274      0.423      0.384\n"
          ]
        },
        {
          "output_type": "stream",
          "name": "stderr",
          "text": [
            "\n"
          ]
        },
        {
          "output_type": "stream",
          "name": "stdout",
          "text": [
            "\n",
            "      Epoch    GPU_mem   box_loss   cls_loss   dfl_loss  Instances       Size\n"
          ]
        },
        {
          "output_type": "stream",
          "name": "stderr",
          "text": [
            "      13/40         0G     0.3663      1.304     0.8647         14        640: 100%|██████████| 9/9 [02:00<00:00, 13.37s/it]\n",
            "                 Class     Images  Instances      Box(P          R      mAP50  mAP50-95): 100%|██████████| 1/1 [00:04<00:00,  4.68s/it]"
          ]
        },
        {
          "output_type": "stream",
          "name": "stdout",
          "text": [
            "                   all         22        106      0.957      0.271       0.41      0.381\n"
          ]
        },
        {
          "output_type": "stream",
          "name": "stderr",
          "text": [
            "\n"
          ]
        },
        {
          "output_type": "stream",
          "name": "stdout",
          "text": [
            "\n",
            "      Epoch    GPU_mem   box_loss   cls_loss   dfl_loss  Instances       Size\n"
          ]
        },
        {
          "output_type": "stream",
          "name": "stderr",
          "text": [
            "      14/40         0G     0.3462      1.201     0.8364         18        640: 100%|██████████| 9/9 [02:06<00:00, 14.09s/it]\n",
            "                 Class     Images  Instances      Box(P          R      mAP50  mAP50-95): 100%|██████████| 1/1 [00:05<00:00,  5.87s/it]"
          ]
        },
        {
          "output_type": "stream",
          "name": "stdout",
          "text": [
            "                   all         22        106          1       0.26      0.382      0.346\n"
          ]
        },
        {
          "output_type": "stream",
          "name": "stderr",
          "text": [
            "\n"
          ]
        },
        {
          "output_type": "stream",
          "name": "stdout",
          "text": [
            "\n",
            "      Epoch    GPU_mem   box_loss   cls_loss   dfl_loss  Instances       Size\n"
          ]
        },
        {
          "output_type": "stream",
          "name": "stderr",
          "text": [
            "      15/40         0G      0.368      1.287     0.8468         10        640: 100%|██████████| 9/9 [02:01<00:00, 13.49s/it]\n",
            "                 Class     Images  Instances      Box(P          R      mAP50  mAP50-95): 100%|██████████| 1/1 [00:05<00:00,  5.49s/it]"
          ]
        },
        {
          "output_type": "stream",
          "name": "stdout",
          "text": [
            "                   all         22        106      0.968      0.237      0.351      0.317\n"
          ]
        },
        {
          "output_type": "stream",
          "name": "stderr",
          "text": [
            "\n"
          ]
        },
        {
          "output_type": "stream",
          "name": "stdout",
          "text": [
            "\n",
            "      Epoch    GPU_mem   box_loss   cls_loss   dfl_loss  Instances       Size\n"
          ]
        },
        {
          "output_type": "stream",
          "name": "stderr",
          "text": [
            "      16/40         0G     0.4013      1.186     0.8805         11        640: 100%|██████████| 9/9 [01:58<00:00, 13.14s/it]\n",
            "                 Class     Images  Instances      Box(P          R      mAP50  mAP50-95): 100%|██████████| 1/1 [00:05<00:00,  5.87s/it]"
          ]
        },
        {
          "output_type": "stream",
          "name": "stdout",
          "text": [
            "                   all         22        106      0.931      0.226      0.383      0.353\n"
          ]
        },
        {
          "output_type": "stream",
          "name": "stderr",
          "text": [
            "\n"
          ]
        },
        {
          "output_type": "stream",
          "name": "stdout",
          "text": [
            "\n",
            "      Epoch    GPU_mem   box_loss   cls_loss   dfl_loss  Instances       Size\n"
          ]
        },
        {
          "output_type": "stream",
          "name": "stderr",
          "text": [
            "      17/40         0G     0.4041     0.9983     0.8769         20        640: 100%|██████████| 9/9 [02:05<00:00, 13.98s/it]\n",
            "                 Class     Images  Instances      Box(P          R      mAP50  mAP50-95): 100%|██████████| 1/1 [00:04<00:00,  4.71s/it]"
          ]
        },
        {
          "output_type": "stream",
          "name": "stdout",
          "text": [
            "                   all         22        106      0.908      0.226      0.373      0.361\n"
          ]
        },
        {
          "output_type": "stream",
          "name": "stderr",
          "text": [
            "\n"
          ]
        },
        {
          "output_type": "stream",
          "name": "stdout",
          "text": [
            "\n",
            "      Epoch    GPU_mem   box_loss   cls_loss   dfl_loss  Instances       Size\n"
          ]
        },
        {
          "output_type": "stream",
          "name": "stderr",
          "text": [
            "      18/40         0G     0.3653      1.074     0.8432         22        640: 100%|██████████| 9/9 [02:03<00:00, 13.74s/it]\n",
            "                 Class     Images  Instances      Box(P          R      mAP50  mAP50-95): 100%|██████████| 1/1 [00:04<00:00,  4.66s/it]"
          ]
        },
        {
          "output_type": "stream",
          "name": "stdout",
          "text": [
            "                   all         22        106      0.968      0.209      0.367      0.335\n"
          ]
        },
        {
          "output_type": "stream",
          "name": "stderr",
          "text": [
            "\n"
          ]
        },
        {
          "output_type": "stream",
          "name": "stdout",
          "text": [
            "\n",
            "      Epoch    GPU_mem   box_loss   cls_loss   dfl_loss  Instances       Size\n"
          ]
        },
        {
          "output_type": "stream",
          "name": "stderr",
          "text": [
            "      19/40         0G     0.3927      1.255     0.8594         25        640: 100%|██████████| 9/9 [02:00<00:00, 13.39s/it]\n",
            "                 Class     Images  Instances      Box(P          R      mAP50  mAP50-95): 100%|██████████| 1/1 [00:04<00:00,  4.96s/it]"
          ]
        },
        {
          "output_type": "stream",
          "name": "stdout",
          "text": [
            "                   all         22        106      0.975      0.263      0.465      0.407\n"
          ]
        },
        {
          "output_type": "stream",
          "name": "stderr",
          "text": [
            "\n"
          ]
        },
        {
          "output_type": "stream",
          "name": "stdout",
          "text": [
            "\n",
            "      Epoch    GPU_mem   box_loss   cls_loss   dfl_loss  Instances       Size\n"
          ]
        },
        {
          "output_type": "stream",
          "name": "stderr",
          "text": [
            "      20/40         0G        0.4      1.056     0.8284         24        640: 100%|██████████| 9/9 [01:59<00:00, 13.32s/it]\n",
            "                 Class     Images  Instances      Box(P          R      mAP50  mAP50-95): 100%|██████████| 1/1 [00:04<00:00,  4.77s/it]"
          ]
        },
        {
          "output_type": "stream",
          "name": "stdout",
          "text": [
            "                   all         22        106      0.916      0.372      0.491       0.45\n"
          ]
        },
        {
          "output_type": "stream",
          "name": "stderr",
          "text": [
            "\n"
          ]
        },
        {
          "output_type": "stream",
          "name": "stdout",
          "text": [
            "\n",
            "      Epoch    GPU_mem   box_loss   cls_loss   dfl_loss  Instances       Size\n"
          ]
        },
        {
          "output_type": "stream",
          "name": "stderr",
          "text": [
            "      21/40         0G     0.3519      1.126     0.8512         25        640: 100%|██████████| 9/9 [02:00<00:00, 13.43s/it]\n",
            "                 Class     Images  Instances      Box(P          R      mAP50  mAP50-95): 100%|██████████| 1/1 [00:04<00:00,  4.65s/it]"
          ]
        },
        {
          "output_type": "stream",
          "name": "stdout",
          "text": [
            "                   all         22        106      0.986      0.324        0.5       0.46\n"
          ]
        },
        {
          "output_type": "stream",
          "name": "stderr",
          "text": [
            "\n"
          ]
        },
        {
          "output_type": "stream",
          "name": "stdout",
          "text": [
            "\n",
            "      Epoch    GPU_mem   box_loss   cls_loss   dfl_loss  Instances       Size\n"
          ]
        },
        {
          "output_type": "stream",
          "name": "stderr",
          "text": [
            "      22/40         0G      0.343     0.9656     0.8404         21        640: 100%|██████████| 9/9 [02:02<00:00, 13.57s/it]\n",
            "                 Class     Images  Instances      Box(P          R      mAP50  mAP50-95): 100%|██████████| 1/1 [00:05<00:00,  5.19s/it]"
          ]
        },
        {
          "output_type": "stream",
          "name": "stdout",
          "text": [
            "                   all         22        106      0.942      0.303      0.486       0.46\n"
          ]
        },
        {
          "output_type": "stream",
          "name": "stderr",
          "text": [
            "\n"
          ]
        },
        {
          "output_type": "stream",
          "name": "stdout",
          "text": [
            "\n",
            "      Epoch    GPU_mem   box_loss   cls_loss   dfl_loss  Instances       Size\n"
          ]
        },
        {
          "output_type": "stream",
          "name": "stderr",
          "text": [
            "      23/40         0G     0.3773      1.199     0.8556         19        640: 100%|██████████| 9/9 [01:57<00:00, 13.02s/it]\n",
            "                 Class     Images  Instances      Box(P          R      mAP50  mAP50-95): 100%|██████████| 1/1 [00:04<00:00,  4.65s/it]"
          ]
        },
        {
          "output_type": "stream",
          "name": "stdout",
          "text": [
            "                   all         22        106      0.916      0.222      0.438       0.41\n"
          ]
        },
        {
          "output_type": "stream",
          "name": "stderr",
          "text": [
            "\n"
          ]
        },
        {
          "output_type": "stream",
          "name": "stdout",
          "text": [
            "\n",
            "      Epoch    GPU_mem   box_loss   cls_loss   dfl_loss  Instances       Size\n"
          ]
        },
        {
          "output_type": "stream",
          "name": "stderr",
          "text": [
            "      24/40         0G     0.3677      1.518     0.8357         25        640: 100%|██████████| 9/9 [01:59<00:00, 13.32s/it]\n",
            "                 Class     Images  Instances      Box(P          R      mAP50  mAP50-95): 100%|██████████| 1/1 [00:04<00:00,  4.72s/it]"
          ]
        },
        {
          "output_type": "stream",
          "name": "stdout",
          "text": [
            "                   all         22        106      0.679      0.173       0.36      0.343\n"
          ]
        },
        {
          "output_type": "stream",
          "name": "stderr",
          "text": [
            "\n"
          ]
        },
        {
          "output_type": "stream",
          "name": "stdout",
          "text": [
            "\n",
            "      Epoch    GPU_mem   box_loss   cls_loss   dfl_loss  Instances       Size\n"
          ]
        },
        {
          "output_type": "stream",
          "name": "stderr",
          "text": [
            "      25/40         0G     0.3592      1.119     0.8303         14        640: 100%|██████████| 9/9 [02:00<00:00, 13.42s/it]\n",
            "                 Class     Images  Instances      Box(P          R      mAP50  mAP50-95): 100%|██████████| 1/1 [00:04<00:00,  4.65s/it]"
          ]
        },
        {
          "output_type": "stream",
          "name": "stdout",
          "text": [
            "                   all         22        106      0.767      0.198       0.35      0.334\n"
          ]
        },
        {
          "output_type": "stream",
          "name": "stderr",
          "text": [
            "\n"
          ]
        },
        {
          "output_type": "stream",
          "name": "stdout",
          "text": [
            "\n",
            "      Epoch    GPU_mem   box_loss   cls_loss   dfl_loss  Instances       Size\n"
          ]
        },
        {
          "output_type": "stream",
          "name": "stderr",
          "text": [
            "      26/40         0G     0.3075      1.131     0.8392         19        640: 100%|██████████| 9/9 [02:01<00:00, 13.45s/it]\n",
            "                 Class     Images  Instances      Box(P          R      mAP50  mAP50-95): 100%|██████████| 1/1 [00:04<00:00,  4.63s/it]"
          ]
        },
        {
          "output_type": "stream",
          "name": "stdout",
          "text": [
            "                   all         22        106      0.768      0.195      0.352      0.345\n"
          ]
        },
        {
          "output_type": "stream",
          "name": "stderr",
          "text": [
            "\n"
          ]
        },
        {
          "output_type": "stream",
          "name": "stdout",
          "text": [
            "\n",
            "      Epoch    GPU_mem   box_loss   cls_loss   dfl_loss  Instances       Size\n"
          ]
        },
        {
          "output_type": "stream",
          "name": "stderr",
          "text": [
            "      27/40         0G     0.3294      1.315     0.8744         20        640: 100%|██████████| 9/9 [01:59<00:00, 13.27s/it]\n",
            "                 Class     Images  Instances      Box(P          R      mAP50  mAP50-95): 100%|██████████| 1/1 [00:04<00:00,  4.60s/it]"
          ]
        },
        {
          "output_type": "stream",
          "name": "stdout",
          "text": [
            "                   all         22        106      0.967       0.18      0.388      0.377\n"
          ]
        },
        {
          "output_type": "stream",
          "name": "stderr",
          "text": [
            "\n"
          ]
        },
        {
          "output_type": "stream",
          "name": "stdout",
          "text": [
            "\n",
            "      Epoch    GPU_mem   box_loss   cls_loss   dfl_loss  Instances       Size\n"
          ]
        },
        {
          "output_type": "stream",
          "name": "stderr",
          "text": [
            "      28/40         0G     0.2851     0.9242     0.8101         26        640: 100%|██████████| 9/9 [01:59<00:00, 13.33s/it]\n",
            "                 Class     Images  Instances      Box(P          R      mAP50  mAP50-95): 100%|██████████| 1/1 [00:04<00:00,  4.67s/it]"
          ]
        },
        {
          "output_type": "stream",
          "name": "stdout",
          "text": [
            "                   all         22        106      0.707      0.202      0.446      0.414\n"
          ]
        },
        {
          "output_type": "stream",
          "name": "stderr",
          "text": [
            "\n"
          ]
        },
        {
          "output_type": "stream",
          "name": "stdout",
          "text": [
            "\n",
            "      Epoch    GPU_mem   box_loss   cls_loss   dfl_loss  Instances       Size\n"
          ]
        },
        {
          "output_type": "stream",
          "name": "stderr",
          "text": [
            "      29/40         0G     0.3008     0.9125     0.8455         21        640: 100%|██████████| 9/9 [02:00<00:00, 13.37s/it]\n",
            "                 Class     Images  Instances      Box(P          R      mAP50  mAP50-95): 100%|██████████| 1/1 [00:04<00:00,  4.68s/it]"
          ]
        },
        {
          "output_type": "stream",
          "name": "stdout",
          "text": [
            "                   all         22        106      0.726      0.264      0.462      0.431\n"
          ]
        },
        {
          "output_type": "stream",
          "name": "stderr",
          "text": [
            "\n"
          ]
        },
        {
          "output_type": "stream",
          "name": "stdout",
          "text": [
            "\n",
            "      Epoch    GPU_mem   box_loss   cls_loss   dfl_loss  Instances       Size\n"
          ]
        },
        {
          "output_type": "stream",
          "name": "stderr",
          "text": [
            "      30/40         0G     0.3194     0.9876     0.8311         25        640: 100%|██████████| 9/9 [02:00<00:00, 13.36s/it]\n",
            "                 Class     Images  Instances      Box(P          R      mAP50  mAP50-95): 100%|██████████| 1/1 [00:04<00:00,  4.70s/it]"
          ]
        },
        {
          "output_type": "stream",
          "name": "stdout",
          "text": [
            "                   all         22        106      0.718      0.208      0.444       0.42\n"
          ]
        },
        {
          "output_type": "stream",
          "name": "stderr",
          "text": [
            "\n"
          ]
        },
        {
          "output_type": "stream",
          "name": "stdout",
          "text": [
            "Closing dataloader mosaic\n",
            "\u001b[34m\u001b[1malbumentations: \u001b[0mBlur(p=0.01, blur_limit=(3, 7)), MedianBlur(p=0.01, blur_limit=(3, 7)), ToGray(p=0.01, method='weighted_average', num_output_channels=3), CLAHE(p=0.01, clip_limit=(1.0, 4.0), tile_grid_size=(8, 8))\n",
            "\n",
            "      Epoch    GPU_mem   box_loss   cls_loss   dfl_loss  Instances       Size\n"
          ]
        },
        {
          "output_type": "stream",
          "name": "stderr",
          "text": [
            "      31/40         0G     0.3157      11.51     0.7226         16        640: 100%|██████████| 9/9 [02:00<00:00, 13.34s/it]\n",
            "                 Class     Images  Instances      Box(P          R      mAP50  mAP50-95): 100%|██████████| 1/1 [00:04<00:00,  4.66s/it]"
          ]
        },
        {
          "output_type": "stream",
          "name": "stdout",
          "text": [
            "                   all         22        106      0.776      0.196       0.42      0.403\n"
          ]
        },
        {
          "output_type": "stream",
          "name": "stderr",
          "text": [
            "\n"
          ]
        },
        {
          "output_type": "stream",
          "name": "stdout",
          "text": [
            "\n",
            "      Epoch    GPU_mem   box_loss   cls_loss   dfl_loss  Instances       Size\n"
          ]
        },
        {
          "output_type": "stream",
          "name": "stderr",
          "text": [
            "      32/40         0G     0.3242      6.763     0.7059          8        640: 100%|██████████| 9/9 [02:00<00:00, 13.38s/it]\n",
            "                 Class     Images  Instances      Box(P          R      mAP50  mAP50-95): 100%|██████████| 1/1 [00:04<00:00,  4.69s/it]"
          ]
        },
        {
          "output_type": "stream",
          "name": "stdout",
          "text": [
            "                   all         22        106      0.793      0.163      0.354      0.334\n"
          ]
        },
        {
          "output_type": "stream",
          "name": "stderr",
          "text": [
            "\n"
          ]
        },
        {
          "output_type": "stream",
          "name": "stdout",
          "text": [
            "\n",
            "      Epoch    GPU_mem   box_loss   cls_loss   dfl_loss  Instances       Size\n"
          ]
        },
        {
          "output_type": "stream",
          "name": "stderr",
          "text": [
            "      33/40         0G     0.3025      1.471     0.8167          8        640: 100%|██████████| 9/9 [02:02<00:00, 13.63s/it]\n",
            "                 Class     Images  Instances      Box(P          R      mAP50  mAP50-95): 100%|██████████| 1/1 [00:04<00:00,  4.70s/it]"
          ]
        },
        {
          "output_type": "stream",
          "name": "stdout",
          "text": [
            "                   all         22        106      0.768      0.149      0.357      0.321\n"
          ]
        },
        {
          "output_type": "stream",
          "name": "stderr",
          "text": [
            "\n"
          ]
        },
        {
          "output_type": "stream",
          "name": "stdout",
          "text": [
            "\n",
            "      Epoch    GPU_mem   box_loss   cls_loss   dfl_loss  Instances       Size\n"
          ]
        },
        {
          "output_type": "stream",
          "name": "stderr",
          "text": [
            "      34/40         0G     0.2838      5.955     0.7336          4        640: 100%|██████████| 9/9 [02:02<00:00, 13.59s/it]\n",
            "                 Class     Images  Instances      Box(P          R      mAP50  mAP50-95): 100%|██████████| 1/1 [00:05<00:00,  5.33s/it]"
          ]
        },
        {
          "output_type": "stream",
          "name": "stdout",
          "text": [
            "                   all         22        106      0.768      0.149      0.363       0.33\n"
          ]
        },
        {
          "output_type": "stream",
          "name": "stderr",
          "text": [
            "\n"
          ]
        },
        {
          "output_type": "stream",
          "name": "stdout",
          "text": [
            "\n",
            "      Epoch    GPU_mem   box_loss   cls_loss   dfl_loss  Instances       Size\n"
          ]
        },
        {
          "output_type": "stream",
          "name": "stderr",
          "text": [
            "      35/40         0G     0.2744      1.144     0.8035          8        640: 100%|██████████| 9/9 [02:03<00:00, 13.75s/it]\n",
            "                 Class     Images  Instances      Box(P          R      mAP50  mAP50-95): 100%|██████████| 1/1 [00:05<00:00,  5.54s/it]"
          ]
        },
        {
          "output_type": "stream",
          "name": "stdout",
          "text": [
            "                   all         22        106      0.768       0.15      0.364      0.336\n"
          ]
        },
        {
          "output_type": "stream",
          "name": "stderr",
          "text": [
            "\n"
          ]
        },
        {
          "output_type": "stream",
          "name": "stdout",
          "text": [
            "\n",
            "      Epoch    GPU_mem   box_loss   cls_loss   dfl_loss  Instances       Size\n"
          ]
        },
        {
          "output_type": "stream",
          "name": "stderr",
          "text": [
            "      36/40         0G     0.2298      5.193     0.6753          0        640: 100%|██████████| 9/9 [02:02<00:00, 13.65s/it]\n",
            "                 Class     Images  Instances      Box(P          R      mAP50  mAP50-95): 100%|██████████| 1/1 [00:04<00:00,  4.71s/it]"
          ]
        },
        {
          "output_type": "stream",
          "name": "stdout",
          "text": [
            "                   all         22        106      0.768       0.15      0.374      0.348\n"
          ]
        },
        {
          "output_type": "stream",
          "name": "stderr",
          "text": [
            "\n"
          ]
        },
        {
          "output_type": "stream",
          "name": "stdout",
          "text": [
            "\n",
            "      Epoch    GPU_mem   box_loss   cls_loss   dfl_loss  Instances       Size\n"
          ]
        },
        {
          "output_type": "stream",
          "name": "stderr",
          "text": [
            "      37/40         0G     0.2499      6.458      0.707          0        640: 100%|██████████| 9/9 [02:04<00:00, 13.82s/it]\n",
            "                 Class     Images  Instances      Box(P          R      mAP50  mAP50-95): 100%|██████████| 1/1 [00:04<00:00,  4.65s/it]"
          ]
        },
        {
          "output_type": "stream",
          "name": "stdout",
          "text": [
            "                   all         22        106      0.768       0.15      0.395      0.357\n"
          ]
        },
        {
          "output_type": "stream",
          "name": "stderr",
          "text": [
            "\n"
          ]
        },
        {
          "output_type": "stream",
          "name": "stdout",
          "text": [
            "\n",
            "      Epoch    GPU_mem   box_loss   cls_loss   dfl_loss  Instances       Size\n"
          ]
        },
        {
          "output_type": "stream",
          "name": "stderr",
          "text": [
            "      38/40         0G     0.2774      1.321     0.8122         16        640: 100%|██████████| 9/9 [02:05<00:00, 13.95s/it]\n",
            "                 Class     Images  Instances      Box(P          R      mAP50  mAP50-95): 100%|██████████| 1/1 [00:05<00:00,  5.85s/it]"
          ]
        },
        {
          "output_type": "stream",
          "name": "stdout",
          "text": [
            "                   all         22        106        0.8      0.158      0.419      0.375\n"
          ]
        },
        {
          "output_type": "stream",
          "name": "stderr",
          "text": [
            "\n"
          ]
        },
        {
          "output_type": "stream",
          "name": "stdout",
          "text": [
            "\n",
            "      Epoch    GPU_mem   box_loss   cls_loss   dfl_loss  Instances       Size\n"
          ]
        },
        {
          "output_type": "stream",
          "name": "stderr",
          "text": [
            "      39/40         0G     0.2859      1.064      0.805         12        640: 100%|██████████| 9/9 [02:02<00:00, 13.58s/it]\n",
            "                 Class     Images  Instances      Box(P          R      mAP50  mAP50-95): 100%|██████████| 1/1 [00:05<00:00,  5.26s/it]"
          ]
        },
        {
          "output_type": "stream",
          "name": "stdout",
          "text": [
            "                   all         22        106        0.8      0.158      0.417      0.371\n"
          ]
        },
        {
          "output_type": "stream",
          "name": "stderr",
          "text": [
            "\n"
          ]
        },
        {
          "output_type": "stream",
          "name": "stdout",
          "text": [
            "\n",
            "      Epoch    GPU_mem   box_loss   cls_loss   dfl_loss  Instances       Size\n"
          ]
        },
        {
          "output_type": "stream",
          "name": "stderr",
          "text": [
            "      40/40         0G     0.2742      1.425     0.8198          8        640: 100%|██████████| 9/9 [02:00<00:00, 13.42s/it]\n",
            "                 Class     Images  Instances      Box(P          R      mAP50  mAP50-95): 100%|██████████| 1/1 [00:05<00:00,  5.01s/it]"
          ]
        },
        {
          "output_type": "stream",
          "name": "stdout",
          "text": [
            "                   all         22        106      0.768       0.15       0.42      0.375\n"
          ]
        },
        {
          "output_type": "stream",
          "name": "stderr",
          "text": [
            "\n"
          ]
        },
        {
          "output_type": "stream",
          "name": "stdout",
          "text": [
            "\n",
            "40 epochs completed in 1.416 hours.\n",
            "Optimizer stripped from runs/detect/train19/weights/last.pt, 5.4MB\n",
            "Optimizer stripped from runs/detect/train19/weights/best.pt, 5.4MB\n",
            "\n",
            "Validating runs/detect/train19/weights/best.pt...\n",
            "Ultralytics 8.3.158 🚀 Python-3.11.13 torch-2.6.0+cu124 CPU (Intel Xeon 2.20GHz)\n",
            "YOLO11n summary (fused): 100 layers, 2,583,322 parameters, 0 gradients, 6.3 GFLOPs\n"
          ]
        },
        {
          "output_type": "stream",
          "name": "stderr",
          "text": [
            "                 Class     Images  Instances      Box(P          R      mAP50  mAP50-95): 100%|██████████| 1/1 [00:04<00:00,  4.20s/it]\n"
          ]
        },
        {
          "output_type": "stream",
          "name": "stdout",
          "text": [
            "                   all         22        106      0.986      0.324      0.501       0.46\n",
            "          Dinner Table         22         22          1       0.51      0.859      0.817\n",
            "             Tea Glass         22         44          1       0.52      0.952      0.926\n",
            "             Spoon Box         22         22      0.932      0.591      0.693      0.556\n",
            "               Tea Jar          9          9          1          0          0          0\n",
            "            Human Hand          9          9          1          0          0          0\n",
            "Speed: 1.4ms preprocess, 120.0ms inference, 0.0ms loss, 0.7ms postprocess per image\n",
            "Saving runs/detect/train19/predictions.json...\n",
            "Results saved to \u001b[1mruns/detect/train19\u001b[0m\n"
          ]
        }
      ]
    },
    {
      "cell_type": "code",
      "source": [
        "\n",
        "import pandas as pd\n",
        "from google.colab import files\n",
        "from IPython.display import display\n",
        "\n",
        "\n",
        "# Read and display CSV\n",
        "results_df = pd.read_csv('/content/runs/detect/train19/results.csv')  # or next(iter(uploaded.keys()))\n",
        "display(results_df.head())  # Shows first 5 rows with nice formatting\n",
        "\n",
        "# For full table with scroll\n",
        "display(results_df.style.set_properties(**{'text-align': 'center'}).set_table_styles(   [dict(selector='th', props=[('text-align', 'center')])]))"
      ],
      "metadata": {
        "colab": {
          "base_uri": "https://localhost:8080/",
          "height": 1000
        },
        "id": "4yIF63ZaT7KI",
        "outputId": "8bfb1286-2cad-4545-9cbc-08f4ca51bb7c"
      },
      "execution_count": null,
      "outputs": [
        {
          "output_type": "display_data",
          "data": {
            "text/plain": [
              "   epoch     time  train/box_loss  train/cls_loss  train/dfl_loss  \\\n",
              "0      1  137.196         0.39202         1.47109         0.86600   \n",
              "1      2  270.623         0.35955         1.48669         0.86429   \n",
              "2      3  399.074         0.35277         1.25291         0.83036   \n",
              "3      4  525.178         0.37845         1.36198         0.87225   \n",
              "4      5  652.625         0.36572         1.42988         0.84420   \n",
              "\n",
              "   metrics/precision(B)  metrics/recall(B)  metrics/mAP50(B)  \\\n",
              "0               0.99285            0.33054           0.46159   \n",
              "1               1.00000            0.31493           0.42869   \n",
              "2               0.98254            0.28377           0.41386   \n",
              "3               0.97260            0.33405           0.46883   \n",
              "4               0.99961            0.39275           0.48685   \n",
              "\n",
              "   metrics/mAP50-95(B)  val/box_loss  val/cls_loss  val/dfl_loss    lr/pg0  \\\n",
              "0              0.44179       0.68476       1.94944       1.09687  0.000080   \n",
              "1              0.40872       0.73786       2.22974       1.10985  0.000166   \n",
              "2              0.40061       0.71506       2.20789       1.10003  0.000247   \n",
              "3              0.43920       0.77119       1.91359       1.13296  0.000324   \n",
              "4              0.46059       0.74114       1.74915       1.10028  0.000396   \n",
              "\n",
              "     lr/pg1    lr/pg2  \n",
              "0  0.000080  0.000080  \n",
              "1  0.000166  0.000166  \n",
              "2  0.000247  0.000247  \n",
              "3  0.000324  0.000324  \n",
              "4  0.000396  0.000396  "
            ],
            "text/html": [
              "\n",
              "  <div id=\"df-0285166e-d555-4b59-a8ba-18d552846bb6\" class=\"colab-df-container\">\n",
              "    <div>\n",
              "<style scoped>\n",
              "    .dataframe tbody tr th:only-of-type {\n",
              "        vertical-align: middle;\n",
              "    }\n",
              "\n",
              "    .dataframe tbody tr th {\n",
              "        vertical-align: top;\n",
              "    }\n",
              "\n",
              "    .dataframe thead th {\n",
              "        text-align: right;\n",
              "    }\n",
              "</style>\n",
              "<table border=\"1\" class=\"dataframe\">\n",
              "  <thead>\n",
              "    <tr style=\"text-align: right;\">\n",
              "      <th></th>\n",
              "      <th>epoch</th>\n",
              "      <th>time</th>\n",
              "      <th>train/box_loss</th>\n",
              "      <th>train/cls_loss</th>\n",
              "      <th>train/dfl_loss</th>\n",
              "      <th>metrics/precision(B)</th>\n",
              "      <th>metrics/recall(B)</th>\n",
              "      <th>metrics/mAP50(B)</th>\n",
              "      <th>metrics/mAP50-95(B)</th>\n",
              "      <th>val/box_loss</th>\n",
              "      <th>val/cls_loss</th>\n",
              "      <th>val/dfl_loss</th>\n",
              "      <th>lr/pg0</th>\n",
              "      <th>lr/pg1</th>\n",
              "      <th>lr/pg2</th>\n",
              "    </tr>\n",
              "  </thead>\n",
              "  <tbody>\n",
              "    <tr>\n",
              "      <th>0</th>\n",
              "      <td>1</td>\n",
              "      <td>137.196</td>\n",
              "      <td>0.39202</td>\n",
              "      <td>1.47109</td>\n",
              "      <td>0.86600</td>\n",
              "      <td>0.99285</td>\n",
              "      <td>0.33054</td>\n",
              "      <td>0.46159</td>\n",
              "      <td>0.44179</td>\n",
              "      <td>0.68476</td>\n",
              "      <td>1.94944</td>\n",
              "      <td>1.09687</td>\n",
              "      <td>0.000080</td>\n",
              "      <td>0.000080</td>\n",
              "      <td>0.000080</td>\n",
              "    </tr>\n",
              "    <tr>\n",
              "      <th>1</th>\n",
              "      <td>2</td>\n",
              "      <td>270.623</td>\n",
              "      <td>0.35955</td>\n",
              "      <td>1.48669</td>\n",
              "      <td>0.86429</td>\n",
              "      <td>1.00000</td>\n",
              "      <td>0.31493</td>\n",
              "      <td>0.42869</td>\n",
              "      <td>0.40872</td>\n",
              "      <td>0.73786</td>\n",
              "      <td>2.22974</td>\n",
              "      <td>1.10985</td>\n",
              "      <td>0.000166</td>\n",
              "      <td>0.000166</td>\n",
              "      <td>0.000166</td>\n",
              "    </tr>\n",
              "    <tr>\n",
              "      <th>2</th>\n",
              "      <td>3</td>\n",
              "      <td>399.074</td>\n",
              "      <td>0.35277</td>\n",
              "      <td>1.25291</td>\n",
              "      <td>0.83036</td>\n",
              "      <td>0.98254</td>\n",
              "      <td>0.28377</td>\n",
              "      <td>0.41386</td>\n",
              "      <td>0.40061</td>\n",
              "      <td>0.71506</td>\n",
              "      <td>2.20789</td>\n",
              "      <td>1.10003</td>\n",
              "      <td>0.000247</td>\n",
              "      <td>0.000247</td>\n",
              "      <td>0.000247</td>\n",
              "    </tr>\n",
              "    <tr>\n",
              "      <th>3</th>\n",
              "      <td>4</td>\n",
              "      <td>525.178</td>\n",
              "      <td>0.37845</td>\n",
              "      <td>1.36198</td>\n",
              "      <td>0.87225</td>\n",
              "      <td>0.97260</td>\n",
              "      <td>0.33405</td>\n",
              "      <td>0.46883</td>\n",
              "      <td>0.43920</td>\n",
              "      <td>0.77119</td>\n",
              "      <td>1.91359</td>\n",
              "      <td>1.13296</td>\n",
              "      <td>0.000324</td>\n",
              "      <td>0.000324</td>\n",
              "      <td>0.000324</td>\n",
              "    </tr>\n",
              "    <tr>\n",
              "      <th>4</th>\n",
              "      <td>5</td>\n",
              "      <td>652.625</td>\n",
              "      <td>0.36572</td>\n",
              "      <td>1.42988</td>\n",
              "      <td>0.84420</td>\n",
              "      <td>0.99961</td>\n",
              "      <td>0.39275</td>\n",
              "      <td>0.48685</td>\n",
              "      <td>0.46059</td>\n",
              "      <td>0.74114</td>\n",
              "      <td>1.74915</td>\n",
              "      <td>1.10028</td>\n",
              "      <td>0.000396</td>\n",
              "      <td>0.000396</td>\n",
              "      <td>0.000396</td>\n",
              "    </tr>\n",
              "  </tbody>\n",
              "</table>\n",
              "</div>\n",
              "    <div class=\"colab-df-buttons\">\n",
              "\n",
              "  <div class=\"colab-df-container\">\n",
              "    <button class=\"colab-df-convert\" onclick=\"convertToInteractive('df-0285166e-d555-4b59-a8ba-18d552846bb6')\"\n",
              "            title=\"Convert this dataframe to an interactive table.\"\n",
              "            style=\"display:none;\">\n",
              "\n",
              "  <svg xmlns=\"http://www.w3.org/2000/svg\" height=\"24px\" viewBox=\"0 -960 960 960\">\n",
              "    <path d=\"M120-120v-720h720v720H120Zm60-500h600v-160H180v160Zm220 220h160v-160H400v160Zm0 220h160v-160H400v160ZM180-400h160v-160H180v160Zm440 0h160v-160H620v160ZM180-180h160v-160H180v160Zm440 0h160v-160H620v160Z\"/>\n",
              "  </svg>\n",
              "    </button>\n",
              "\n",
              "  <style>\n",
              "    .colab-df-container {\n",
              "      display:flex;\n",
              "      gap: 12px;\n",
              "    }\n",
              "\n",
              "    .colab-df-convert {\n",
              "      background-color: #E8F0FE;\n",
              "      border: none;\n",
              "      border-radius: 50%;\n",
              "      cursor: pointer;\n",
              "      display: none;\n",
              "      fill: #1967D2;\n",
              "      height: 32px;\n",
              "      padding: 0 0 0 0;\n",
              "      width: 32px;\n",
              "    }\n",
              "\n",
              "    .colab-df-convert:hover {\n",
              "      background-color: #E2EBFA;\n",
              "      box-shadow: 0px 1px 2px rgba(60, 64, 67, 0.3), 0px 1px 3px 1px rgba(60, 64, 67, 0.15);\n",
              "      fill: #174EA6;\n",
              "    }\n",
              "\n",
              "    .colab-df-buttons div {\n",
              "      margin-bottom: 4px;\n",
              "    }\n",
              "\n",
              "    [theme=dark] .colab-df-convert {\n",
              "      background-color: #3B4455;\n",
              "      fill: #D2E3FC;\n",
              "    }\n",
              "\n",
              "    [theme=dark] .colab-df-convert:hover {\n",
              "      background-color: #434B5C;\n",
              "      box-shadow: 0px 1px 3px 1px rgba(0, 0, 0, 0.15);\n",
              "      filter: drop-shadow(0px 1px 2px rgba(0, 0, 0, 0.3));\n",
              "      fill: #FFFFFF;\n",
              "    }\n",
              "  </style>\n",
              "\n",
              "    <script>\n",
              "      const buttonEl =\n",
              "        document.querySelector('#df-0285166e-d555-4b59-a8ba-18d552846bb6 button.colab-df-convert');\n",
              "      buttonEl.style.display =\n",
              "        google.colab.kernel.accessAllowed ? 'block' : 'none';\n",
              "\n",
              "      async function convertToInteractive(key) {\n",
              "        const element = document.querySelector('#df-0285166e-d555-4b59-a8ba-18d552846bb6');\n",
              "        const dataTable =\n",
              "          await google.colab.kernel.invokeFunction('convertToInteractive',\n",
              "                                                    [key], {});\n",
              "        if (!dataTable) return;\n",
              "\n",
              "        const docLinkHtml = 'Like what you see? Visit the ' +\n",
              "          '<a target=\"_blank\" href=https://colab.research.google.com/notebooks/data_table.ipynb>data table notebook</a>'\n",
              "          + ' to learn more about interactive tables.';\n",
              "        element.innerHTML = '';\n",
              "        dataTable['output_type'] = 'display_data';\n",
              "        await google.colab.output.renderOutput(dataTable, element);\n",
              "        const docLink = document.createElement('div');\n",
              "        docLink.innerHTML = docLinkHtml;\n",
              "        element.appendChild(docLink);\n",
              "      }\n",
              "    </script>\n",
              "  </div>\n",
              "\n",
              "\n",
              "    <div id=\"df-6e848230-8c6a-43f2-aa48-071e800ba451\">\n",
              "      <button class=\"colab-df-quickchart\" onclick=\"quickchart('df-6e848230-8c6a-43f2-aa48-071e800ba451')\"\n",
              "                title=\"Suggest charts\"\n",
              "                style=\"display:none;\">\n",
              "\n",
              "<svg xmlns=\"http://www.w3.org/2000/svg\" height=\"24px\"viewBox=\"0 0 24 24\"\n",
              "     width=\"24px\">\n",
              "    <g>\n",
              "        <path d=\"M19 3H5c-1.1 0-2 .9-2 2v14c0 1.1.9 2 2 2h14c1.1 0 2-.9 2-2V5c0-1.1-.9-2-2-2zM9 17H7v-7h2v7zm4 0h-2V7h2v10zm4 0h-2v-4h2v4z\"/>\n",
              "    </g>\n",
              "</svg>\n",
              "      </button>\n",
              "\n",
              "<style>\n",
              "  .colab-df-quickchart {\n",
              "      --bg-color: #E8F0FE;\n",
              "      --fill-color: #1967D2;\n",
              "      --hover-bg-color: #E2EBFA;\n",
              "      --hover-fill-color: #174EA6;\n",
              "      --disabled-fill-color: #AAA;\n",
              "      --disabled-bg-color: #DDD;\n",
              "  }\n",
              "\n",
              "  [theme=dark] .colab-df-quickchart {\n",
              "      --bg-color: #3B4455;\n",
              "      --fill-color: #D2E3FC;\n",
              "      --hover-bg-color: #434B5C;\n",
              "      --hover-fill-color: #FFFFFF;\n",
              "      --disabled-bg-color: #3B4455;\n",
              "      --disabled-fill-color: #666;\n",
              "  }\n",
              "\n",
              "  .colab-df-quickchart {\n",
              "    background-color: var(--bg-color);\n",
              "    border: none;\n",
              "    border-radius: 50%;\n",
              "    cursor: pointer;\n",
              "    display: none;\n",
              "    fill: var(--fill-color);\n",
              "    height: 32px;\n",
              "    padding: 0;\n",
              "    width: 32px;\n",
              "  }\n",
              "\n",
              "  .colab-df-quickchart:hover {\n",
              "    background-color: var(--hover-bg-color);\n",
              "    box-shadow: 0 1px 2px rgba(60, 64, 67, 0.3), 0 1px 3px 1px rgba(60, 64, 67, 0.15);\n",
              "    fill: var(--button-hover-fill-color);\n",
              "  }\n",
              "\n",
              "  .colab-df-quickchart-complete:disabled,\n",
              "  .colab-df-quickchart-complete:disabled:hover {\n",
              "    background-color: var(--disabled-bg-color);\n",
              "    fill: var(--disabled-fill-color);\n",
              "    box-shadow: none;\n",
              "  }\n",
              "\n",
              "  .colab-df-spinner {\n",
              "    border: 2px solid var(--fill-color);\n",
              "    border-color: transparent;\n",
              "    border-bottom-color: var(--fill-color);\n",
              "    animation:\n",
              "      spin 1s steps(1) infinite;\n",
              "  }\n",
              "\n",
              "  @keyframes spin {\n",
              "    0% {\n",
              "      border-color: transparent;\n",
              "      border-bottom-color: var(--fill-color);\n",
              "      border-left-color: var(--fill-color);\n",
              "    }\n",
              "    20% {\n",
              "      border-color: transparent;\n",
              "      border-left-color: var(--fill-color);\n",
              "      border-top-color: var(--fill-color);\n",
              "    }\n",
              "    30% {\n",
              "      border-color: transparent;\n",
              "      border-left-color: var(--fill-color);\n",
              "      border-top-color: var(--fill-color);\n",
              "      border-right-color: var(--fill-color);\n",
              "    }\n",
              "    40% {\n",
              "      border-color: transparent;\n",
              "      border-right-color: var(--fill-color);\n",
              "      border-top-color: var(--fill-color);\n",
              "    }\n",
              "    60% {\n",
              "      border-color: transparent;\n",
              "      border-right-color: var(--fill-color);\n",
              "    }\n",
              "    80% {\n",
              "      border-color: transparent;\n",
              "      border-right-color: var(--fill-color);\n",
              "      border-bottom-color: var(--fill-color);\n",
              "    }\n",
              "    90% {\n",
              "      border-color: transparent;\n",
              "      border-bottom-color: var(--fill-color);\n",
              "    }\n",
              "  }\n",
              "</style>\n",
              "\n",
              "      <script>\n",
              "        async function quickchart(key) {\n",
              "          const quickchartButtonEl =\n",
              "            document.querySelector('#' + key + ' button');\n",
              "          quickchartButtonEl.disabled = true;  // To prevent multiple clicks.\n",
              "          quickchartButtonEl.classList.add('colab-df-spinner');\n",
              "          try {\n",
              "            const charts = await google.colab.kernel.invokeFunction(\n",
              "                'suggestCharts', [key], {});\n",
              "          } catch (error) {\n",
              "            console.error('Error during call to suggestCharts:', error);\n",
              "          }\n",
              "          quickchartButtonEl.classList.remove('colab-df-spinner');\n",
              "          quickchartButtonEl.classList.add('colab-df-quickchart-complete');\n",
              "        }\n",
              "        (() => {\n",
              "          let quickchartButtonEl =\n",
              "            document.querySelector('#df-6e848230-8c6a-43f2-aa48-071e800ba451 button');\n",
              "          quickchartButtonEl.style.display =\n",
              "            google.colab.kernel.accessAllowed ? 'block' : 'none';\n",
              "        })();\n",
              "      </script>\n",
              "    </div>\n",
              "    </div>\n",
              "  </div>\n"
            ],
            "application/vnd.google.colaboratory.intrinsic+json": {
              "type": "dataframe",
              "summary": "{\n  \"name\": \"display(results_df\",\n  \"rows\": 5,\n  \"fields\": [\n    {\n      \"column\": \"epoch\",\n      \"properties\": {\n        \"dtype\": \"number\",\n        \"std\": 1,\n        \"min\": 1,\n        \"max\": 5,\n        \"num_unique_values\": 5,\n        \"samples\": [\n          2,\n          5,\n          3\n        ],\n        \"semantic_type\": \"\",\n        \"description\": \"\"\n      }\n    },\n    {\n      \"column\": \"time\",\n      \"properties\": {\n        \"dtype\": \"number\",\n        \"std\": 203.25309828315042,\n        \"min\": 137.196,\n        \"max\": 652.625,\n        \"num_unique_values\": 5,\n        \"samples\": [\n          270.623,\n          652.625,\n          399.074\n        ],\n        \"semantic_type\": \"\",\n        \"description\": \"\"\n      }\n    },\n    {\n      \"column\": \"train/box_loss\",\n      \"properties\": {\n        \"dtype\": \"number\",\n        \"std\": 0.015654333904705116,\n        \"min\": 0.35277,\n        \"max\": 0.39202,\n        \"num_unique_values\": 5,\n        \"samples\": [\n          0.35955,\n          0.36572,\n          0.35277\n        ],\n        \"semantic_type\": \"\",\n        \"description\": \"\"\n      }\n    },\n    {\n      \"column\": \"train/cls_loss\",\n      \"properties\": {\n        \"dtype\": \"number\",\n        \"std\": 0.09557908583994726,\n        \"min\": 1.25291,\n        \"max\": 1.48669,\n        \"num_unique_values\": 5,\n        \"samples\": [\n          1.48669,\n          1.42988,\n          1.25291\n        ],\n        \"semantic_type\": \"\",\n        \"description\": \"\"\n      }\n    },\n    {\n      \"column\": \"train/dfl_loss\",\n      \"properties\": {\n        \"dtype\": \"number\",\n        \"std\": 0.017519661811804477,\n        \"min\": 0.83036,\n        \"max\": 0.87225,\n        \"num_unique_values\": 5,\n        \"samples\": [\n          0.86429,\n          0.8442,\n          0.83036\n        ],\n        \"semantic_type\": \"\",\n        \"description\": \"\"\n      }\n    },\n    {\n      \"column\": \"metrics/precision(B)\",\n      \"properties\": {\n        \"dtype\": \"number\",\n        \"std\": 0.011808198423129582,\n        \"min\": 0.9726,\n        \"max\": 1.0,\n        \"num_unique_values\": 5,\n        \"samples\": [\n          1.0,\n          0.99961,\n          0.98254\n        ],\n        \"semantic_type\": \"\",\n        \"description\": \"\"\n      }\n    },\n    {\n      \"column\": \"metrics/recall(B)\",\n      \"properties\": {\n        \"dtype\": \"number\",\n        \"std\": 0.03972177639532249,\n        \"min\": 0.28377,\n        \"max\": 0.39275,\n        \"num_unique_values\": 5,\n        \"samples\": [\n          0.31493,\n          0.39275,\n          0.28377\n        ],\n        \"semantic_type\": \"\",\n        \"description\": \"\"\n      }\n    },\n    {\n      \"column\": \"metrics/mAP50(B)\",\n      \"properties\": {\n        \"dtype\": \"number\",\n        \"std\": 0.029948909496006693,\n        \"min\": 0.41386,\n        \"max\": 0.48685,\n        \"num_unique_values\": 5,\n        \"samples\": [\n          0.42869,\n          0.48685,\n          0.41386\n        ],\n        \"semantic_type\": \"\",\n        \"description\": \"\"\n      }\n    },\n    {\n      \"column\": \"metrics/mAP50-95(B)\",\n      \"properties\": {\n        \"dtype\": \"number\",\n        \"std\": 0.024878892057324405,\n        \"min\": 0.40061,\n        \"max\": 0.46059,\n        \"num_unique_values\": 5,\n        \"samples\": [\n          0.40872,\n          0.46059,\n          0.40061\n        ],\n        \"semantic_type\": \"\",\n        \"description\": \"\"\n      }\n    },\n    {\n      \"column\": \"val/box_loss\",\n      \"properties\": {\n        \"dtype\": \"number\",\n        \"std\": 0.032219390434953914,\n        \"min\": 0.68476,\n        \"max\": 0.77119,\n        \"num_unique_values\": 5,\n        \"samples\": [\n          0.73786,\n          0.74114,\n          0.71506\n        ],\n        \"semantic_type\": \"\",\n        \"description\": \"\"\n      }\n    },\n    {\n      \"column\": \"val/cls_loss\",\n      \"properties\": {\n        \"dtype\": \"number\",\n        \"std\": 0.20521405695029762,\n        \"min\": 1.74915,\n        \"max\": 2.22974,\n        \"num_unique_values\": 5,\n        \"samples\": [\n          2.22974,\n          1.74915,\n          2.20789\n        ],\n        \"semantic_type\": \"\",\n        \"description\": \"\"\n      }\n    },\n    {\n      \"column\": \"val/dfl_loss\",\n      \"properties\": {\n        \"dtype\": \"number\",\n        \"std\": 0.014776842355523711,\n        \"min\": 1.09687,\n        \"max\": 1.13296,\n        \"num_unique_values\": 5,\n        \"samples\": [\n          1.10985,\n          1.10028,\n          1.10003\n        ],\n        \"semantic_type\": \"\",\n        \"description\": \"\"\n      }\n    },\n    {\n      \"column\": \"lr/pg0\",\n      \"properties\": {\n        \"dtype\": \"number\",\n        \"std\": 0.00012515329604409148,\n        \"min\": 8e-05,\n        \"max\": 0.00039644,\n        \"num_unique_values\": 5,\n        \"samples\": [\n          0.000165793,\n          0.00039644,\n          0.00024713\n        ],\n        \"semantic_type\": \"\",\n        \"description\": \"\"\n      }\n    },\n    {\n      \"column\": \"lr/pg1\",\n      \"properties\": {\n        \"dtype\": \"number\",\n        \"std\": 0.00012515329604409148,\n        \"min\": 8e-05,\n        \"max\": 0.00039644,\n        \"num_unique_values\": 5,\n        \"samples\": [\n          0.000165793,\n          0.00039644,\n          0.00024713\n        ],\n        \"semantic_type\": \"\",\n        \"description\": \"\"\n      }\n    },\n    {\n      \"column\": \"lr/pg2\",\n      \"properties\": {\n        \"dtype\": \"number\",\n        \"std\": 0.00012515329604409148,\n        \"min\": 8e-05,\n        \"max\": 0.00039644,\n        \"num_unique_values\": 5,\n        \"samples\": [\n          0.000165793,\n          0.00039644,\n          0.00024713\n        ],\n        \"semantic_type\": \"\",\n        \"description\": \"\"\n      }\n    }\n  ]\n}"
            }
          },
          "metadata": {}
        },
        {
          "output_type": "display_data",
          "data": {
            "text/plain": [
              "<pandas.io.formats.style.Styler at 0x7cedfb1f1d10>"
            ],
            "text/html": [
              "<style type=\"text/css\">\n",
              "#T_04011 th {\n",
              "  text-align: center;\n",
              "}\n",
              "#T_04011_row0_col0, #T_04011_row0_col1, #T_04011_row0_col2, #T_04011_row0_col3, #T_04011_row0_col4, #T_04011_row0_col5, #T_04011_row0_col6, #T_04011_row0_col7, #T_04011_row0_col8, #T_04011_row0_col9, #T_04011_row0_col10, #T_04011_row0_col11, #T_04011_row0_col12, #T_04011_row0_col13, #T_04011_row0_col14, #T_04011_row1_col0, #T_04011_row1_col1, #T_04011_row1_col2, #T_04011_row1_col3, #T_04011_row1_col4, #T_04011_row1_col5, #T_04011_row1_col6, #T_04011_row1_col7, #T_04011_row1_col8, #T_04011_row1_col9, #T_04011_row1_col10, #T_04011_row1_col11, #T_04011_row1_col12, #T_04011_row1_col13, #T_04011_row1_col14, #T_04011_row2_col0, #T_04011_row2_col1, #T_04011_row2_col2, #T_04011_row2_col3, #T_04011_row2_col4, #T_04011_row2_col5, #T_04011_row2_col6, #T_04011_row2_col7, #T_04011_row2_col8, #T_04011_row2_col9, #T_04011_row2_col10, #T_04011_row2_col11, #T_04011_row2_col12, #T_04011_row2_col13, #T_04011_row2_col14, #T_04011_row3_col0, #T_04011_row3_col1, #T_04011_row3_col2, #T_04011_row3_col3, #T_04011_row3_col4, #T_04011_row3_col5, #T_04011_row3_col6, #T_04011_row3_col7, #T_04011_row3_col8, #T_04011_row3_col9, #T_04011_row3_col10, #T_04011_row3_col11, #T_04011_row3_col12, #T_04011_row3_col13, #T_04011_row3_col14, #T_04011_row4_col0, #T_04011_row4_col1, #T_04011_row4_col2, #T_04011_row4_col3, #T_04011_row4_col4, #T_04011_row4_col5, #T_04011_row4_col6, #T_04011_row4_col7, #T_04011_row4_col8, #T_04011_row4_col9, #T_04011_row4_col10, #T_04011_row4_col11, #T_04011_row4_col12, #T_04011_row4_col13, #T_04011_row4_col14, #T_04011_row5_col0, #T_04011_row5_col1, #T_04011_row5_col2, #T_04011_row5_col3, #T_04011_row5_col4, #T_04011_row5_col5, #T_04011_row5_col6, #T_04011_row5_col7, #T_04011_row5_col8, #T_04011_row5_col9, #T_04011_row5_col10, #T_04011_row5_col11, #T_04011_row5_col12, #T_04011_row5_col13, #T_04011_row5_col14, #T_04011_row6_col0, #T_04011_row6_col1, #T_04011_row6_col2, #T_04011_row6_col3, #T_04011_row6_col4, #T_04011_row6_col5, #T_04011_row6_col6, #T_04011_row6_col7, #T_04011_row6_col8, #T_04011_row6_col9, #T_04011_row6_col10, #T_04011_row6_col11, #T_04011_row6_col12, #T_04011_row6_col13, #T_04011_row6_col14, #T_04011_row7_col0, #T_04011_row7_col1, #T_04011_row7_col2, #T_04011_row7_col3, #T_04011_row7_col4, #T_04011_row7_col5, #T_04011_row7_col6, #T_04011_row7_col7, #T_04011_row7_col8, #T_04011_row7_col9, #T_04011_row7_col10, #T_04011_row7_col11, #T_04011_row7_col12, #T_04011_row7_col13, #T_04011_row7_col14, #T_04011_row8_col0, #T_04011_row8_col1, #T_04011_row8_col2, #T_04011_row8_col3, #T_04011_row8_col4, #T_04011_row8_col5, #T_04011_row8_col6, #T_04011_row8_col7, #T_04011_row8_col8, #T_04011_row8_col9, #T_04011_row8_col10, #T_04011_row8_col11, #T_04011_row8_col12, #T_04011_row8_col13, #T_04011_row8_col14, #T_04011_row9_col0, #T_04011_row9_col1, #T_04011_row9_col2, #T_04011_row9_col3, #T_04011_row9_col4, #T_04011_row9_col5, #T_04011_row9_col6, #T_04011_row9_col7, #T_04011_row9_col8, #T_04011_row9_col9, #T_04011_row9_col10, #T_04011_row9_col11, #T_04011_row9_col12, #T_04011_row9_col13, #T_04011_row9_col14, #T_04011_row10_col0, #T_04011_row10_col1, #T_04011_row10_col2, #T_04011_row10_col3, #T_04011_row10_col4, #T_04011_row10_col5, #T_04011_row10_col6, #T_04011_row10_col7, #T_04011_row10_col8, #T_04011_row10_col9, #T_04011_row10_col10, #T_04011_row10_col11, #T_04011_row10_col12, #T_04011_row10_col13, #T_04011_row10_col14, #T_04011_row11_col0, #T_04011_row11_col1, #T_04011_row11_col2, #T_04011_row11_col3, #T_04011_row11_col4, #T_04011_row11_col5, #T_04011_row11_col6, #T_04011_row11_col7, #T_04011_row11_col8, #T_04011_row11_col9, #T_04011_row11_col10, #T_04011_row11_col11, #T_04011_row11_col12, #T_04011_row11_col13, #T_04011_row11_col14, #T_04011_row12_col0, #T_04011_row12_col1, #T_04011_row12_col2, #T_04011_row12_col3, #T_04011_row12_col4, #T_04011_row12_col5, #T_04011_row12_col6, #T_04011_row12_col7, #T_04011_row12_col8, #T_04011_row12_col9, #T_04011_row12_col10, #T_04011_row12_col11, #T_04011_row12_col12, #T_04011_row12_col13, #T_04011_row12_col14, #T_04011_row13_col0, #T_04011_row13_col1, #T_04011_row13_col2, #T_04011_row13_col3, #T_04011_row13_col4, #T_04011_row13_col5, #T_04011_row13_col6, #T_04011_row13_col7, #T_04011_row13_col8, #T_04011_row13_col9, #T_04011_row13_col10, #T_04011_row13_col11, #T_04011_row13_col12, #T_04011_row13_col13, #T_04011_row13_col14, #T_04011_row14_col0, #T_04011_row14_col1, #T_04011_row14_col2, #T_04011_row14_col3, #T_04011_row14_col4, #T_04011_row14_col5, #T_04011_row14_col6, #T_04011_row14_col7, #T_04011_row14_col8, #T_04011_row14_col9, #T_04011_row14_col10, #T_04011_row14_col11, #T_04011_row14_col12, #T_04011_row14_col13, #T_04011_row14_col14, #T_04011_row15_col0, #T_04011_row15_col1, #T_04011_row15_col2, #T_04011_row15_col3, #T_04011_row15_col4, #T_04011_row15_col5, #T_04011_row15_col6, #T_04011_row15_col7, #T_04011_row15_col8, #T_04011_row15_col9, #T_04011_row15_col10, #T_04011_row15_col11, #T_04011_row15_col12, #T_04011_row15_col13, #T_04011_row15_col14, #T_04011_row16_col0, #T_04011_row16_col1, #T_04011_row16_col2, #T_04011_row16_col3, #T_04011_row16_col4, #T_04011_row16_col5, #T_04011_row16_col6, #T_04011_row16_col7, #T_04011_row16_col8, #T_04011_row16_col9, #T_04011_row16_col10, #T_04011_row16_col11, #T_04011_row16_col12, #T_04011_row16_col13, #T_04011_row16_col14, #T_04011_row17_col0, #T_04011_row17_col1, #T_04011_row17_col2, #T_04011_row17_col3, #T_04011_row17_col4, #T_04011_row17_col5, #T_04011_row17_col6, #T_04011_row17_col7, #T_04011_row17_col8, #T_04011_row17_col9, #T_04011_row17_col10, #T_04011_row17_col11, #T_04011_row17_col12, #T_04011_row17_col13, #T_04011_row17_col14, #T_04011_row18_col0, #T_04011_row18_col1, #T_04011_row18_col2, #T_04011_row18_col3, #T_04011_row18_col4, #T_04011_row18_col5, #T_04011_row18_col6, #T_04011_row18_col7, #T_04011_row18_col8, #T_04011_row18_col9, #T_04011_row18_col10, #T_04011_row18_col11, #T_04011_row18_col12, #T_04011_row18_col13, #T_04011_row18_col14, #T_04011_row19_col0, #T_04011_row19_col1, #T_04011_row19_col2, #T_04011_row19_col3, #T_04011_row19_col4, #T_04011_row19_col5, #T_04011_row19_col6, #T_04011_row19_col7, #T_04011_row19_col8, #T_04011_row19_col9, #T_04011_row19_col10, #T_04011_row19_col11, #T_04011_row19_col12, #T_04011_row19_col13, #T_04011_row19_col14, #T_04011_row20_col0, #T_04011_row20_col1, #T_04011_row20_col2, #T_04011_row20_col3, #T_04011_row20_col4, #T_04011_row20_col5, #T_04011_row20_col6, #T_04011_row20_col7, #T_04011_row20_col8, #T_04011_row20_col9, #T_04011_row20_col10, #T_04011_row20_col11, #T_04011_row20_col12, #T_04011_row20_col13, #T_04011_row20_col14, #T_04011_row21_col0, #T_04011_row21_col1, #T_04011_row21_col2, #T_04011_row21_col3, #T_04011_row21_col4, #T_04011_row21_col5, #T_04011_row21_col6, #T_04011_row21_col7, #T_04011_row21_col8, #T_04011_row21_col9, #T_04011_row21_col10, #T_04011_row21_col11, #T_04011_row21_col12, #T_04011_row21_col13, #T_04011_row21_col14, #T_04011_row22_col0, #T_04011_row22_col1, #T_04011_row22_col2, #T_04011_row22_col3, #T_04011_row22_col4, #T_04011_row22_col5, #T_04011_row22_col6, #T_04011_row22_col7, #T_04011_row22_col8, #T_04011_row22_col9, #T_04011_row22_col10, #T_04011_row22_col11, #T_04011_row22_col12, #T_04011_row22_col13, #T_04011_row22_col14, #T_04011_row23_col0, #T_04011_row23_col1, #T_04011_row23_col2, #T_04011_row23_col3, #T_04011_row23_col4, #T_04011_row23_col5, #T_04011_row23_col6, #T_04011_row23_col7, #T_04011_row23_col8, #T_04011_row23_col9, #T_04011_row23_col10, #T_04011_row23_col11, #T_04011_row23_col12, #T_04011_row23_col13, #T_04011_row23_col14, #T_04011_row24_col0, #T_04011_row24_col1, #T_04011_row24_col2, #T_04011_row24_col3, #T_04011_row24_col4, #T_04011_row24_col5, #T_04011_row24_col6, #T_04011_row24_col7, #T_04011_row24_col8, #T_04011_row24_col9, #T_04011_row24_col10, #T_04011_row24_col11, #T_04011_row24_col12, #T_04011_row24_col13, #T_04011_row24_col14, #T_04011_row25_col0, #T_04011_row25_col1, #T_04011_row25_col2, #T_04011_row25_col3, #T_04011_row25_col4, #T_04011_row25_col5, #T_04011_row25_col6, #T_04011_row25_col7, #T_04011_row25_col8, #T_04011_row25_col9, #T_04011_row25_col10, #T_04011_row25_col11, #T_04011_row25_col12, #T_04011_row25_col13, #T_04011_row25_col14, #T_04011_row26_col0, #T_04011_row26_col1, #T_04011_row26_col2, #T_04011_row26_col3, #T_04011_row26_col4, #T_04011_row26_col5, #T_04011_row26_col6, #T_04011_row26_col7, #T_04011_row26_col8, #T_04011_row26_col9, #T_04011_row26_col10, #T_04011_row26_col11, #T_04011_row26_col12, #T_04011_row26_col13, #T_04011_row26_col14, #T_04011_row27_col0, #T_04011_row27_col1, #T_04011_row27_col2, #T_04011_row27_col3, #T_04011_row27_col4, #T_04011_row27_col5, #T_04011_row27_col6, #T_04011_row27_col7, #T_04011_row27_col8, #T_04011_row27_col9, #T_04011_row27_col10, #T_04011_row27_col11, #T_04011_row27_col12, #T_04011_row27_col13, #T_04011_row27_col14, #T_04011_row28_col0, #T_04011_row28_col1, #T_04011_row28_col2, #T_04011_row28_col3, #T_04011_row28_col4, #T_04011_row28_col5, #T_04011_row28_col6, #T_04011_row28_col7, #T_04011_row28_col8, #T_04011_row28_col9, #T_04011_row28_col10, #T_04011_row28_col11, #T_04011_row28_col12, #T_04011_row28_col13, #T_04011_row28_col14, #T_04011_row29_col0, #T_04011_row29_col1, #T_04011_row29_col2, #T_04011_row29_col3, #T_04011_row29_col4, #T_04011_row29_col5, #T_04011_row29_col6, #T_04011_row29_col7, #T_04011_row29_col8, #T_04011_row29_col9, #T_04011_row29_col10, #T_04011_row29_col11, #T_04011_row29_col12, #T_04011_row29_col13, #T_04011_row29_col14, #T_04011_row30_col0, #T_04011_row30_col1, #T_04011_row30_col2, #T_04011_row30_col3, #T_04011_row30_col4, #T_04011_row30_col5, #T_04011_row30_col6, #T_04011_row30_col7, #T_04011_row30_col8, #T_04011_row30_col9, #T_04011_row30_col10, #T_04011_row30_col11, #T_04011_row30_col12, #T_04011_row30_col13, #T_04011_row30_col14, #T_04011_row31_col0, #T_04011_row31_col1, #T_04011_row31_col2, #T_04011_row31_col3, #T_04011_row31_col4, #T_04011_row31_col5, #T_04011_row31_col6, #T_04011_row31_col7, #T_04011_row31_col8, #T_04011_row31_col9, #T_04011_row31_col10, #T_04011_row31_col11, #T_04011_row31_col12, #T_04011_row31_col13, #T_04011_row31_col14, #T_04011_row32_col0, #T_04011_row32_col1, #T_04011_row32_col2, #T_04011_row32_col3, #T_04011_row32_col4, #T_04011_row32_col5, #T_04011_row32_col6, #T_04011_row32_col7, #T_04011_row32_col8, #T_04011_row32_col9, #T_04011_row32_col10, #T_04011_row32_col11, #T_04011_row32_col12, #T_04011_row32_col13, #T_04011_row32_col14, #T_04011_row33_col0, #T_04011_row33_col1, #T_04011_row33_col2, #T_04011_row33_col3, #T_04011_row33_col4, #T_04011_row33_col5, #T_04011_row33_col6, #T_04011_row33_col7, #T_04011_row33_col8, #T_04011_row33_col9, #T_04011_row33_col10, #T_04011_row33_col11, #T_04011_row33_col12, #T_04011_row33_col13, #T_04011_row33_col14, #T_04011_row34_col0, #T_04011_row34_col1, #T_04011_row34_col2, #T_04011_row34_col3, #T_04011_row34_col4, #T_04011_row34_col5, #T_04011_row34_col6, #T_04011_row34_col7, #T_04011_row34_col8, #T_04011_row34_col9, #T_04011_row34_col10, #T_04011_row34_col11, #T_04011_row34_col12, #T_04011_row34_col13, #T_04011_row34_col14, #T_04011_row35_col0, #T_04011_row35_col1, #T_04011_row35_col2, #T_04011_row35_col3, #T_04011_row35_col4, #T_04011_row35_col5, #T_04011_row35_col6, #T_04011_row35_col7, #T_04011_row35_col8, #T_04011_row35_col9, #T_04011_row35_col10, #T_04011_row35_col11, #T_04011_row35_col12, #T_04011_row35_col13, #T_04011_row35_col14, #T_04011_row36_col0, #T_04011_row36_col1, #T_04011_row36_col2, #T_04011_row36_col3, #T_04011_row36_col4, #T_04011_row36_col5, #T_04011_row36_col6, #T_04011_row36_col7, #T_04011_row36_col8, #T_04011_row36_col9, #T_04011_row36_col10, #T_04011_row36_col11, #T_04011_row36_col12, #T_04011_row36_col13, #T_04011_row36_col14, #T_04011_row37_col0, #T_04011_row37_col1, #T_04011_row37_col2, #T_04011_row37_col3, #T_04011_row37_col4, #T_04011_row37_col5, #T_04011_row37_col6, #T_04011_row37_col7, #T_04011_row37_col8, #T_04011_row37_col9, #T_04011_row37_col10, #T_04011_row37_col11, #T_04011_row37_col12, #T_04011_row37_col13, #T_04011_row37_col14, #T_04011_row38_col0, #T_04011_row38_col1, #T_04011_row38_col2, #T_04011_row38_col3, #T_04011_row38_col4, #T_04011_row38_col5, #T_04011_row38_col6, #T_04011_row38_col7, #T_04011_row38_col8, #T_04011_row38_col9, #T_04011_row38_col10, #T_04011_row38_col11, #T_04011_row38_col12, #T_04011_row38_col13, #T_04011_row38_col14, #T_04011_row39_col0, #T_04011_row39_col1, #T_04011_row39_col2, #T_04011_row39_col3, #T_04011_row39_col4, #T_04011_row39_col5, #T_04011_row39_col6, #T_04011_row39_col7, #T_04011_row39_col8, #T_04011_row39_col9, #T_04011_row39_col10, #T_04011_row39_col11, #T_04011_row39_col12, #T_04011_row39_col13, #T_04011_row39_col14 {\n",
              "  text-align: center;\n",
              "}\n",
              "</style>\n",
              "<table id=\"T_04011\" class=\"dataframe\">\n",
              "  <thead>\n",
              "    <tr>\n",
              "      <th class=\"blank level0\" >&nbsp;</th>\n",
              "      <th id=\"T_04011_level0_col0\" class=\"col_heading level0 col0\" >epoch</th>\n",
              "      <th id=\"T_04011_level0_col1\" class=\"col_heading level0 col1\" >time</th>\n",
              "      <th id=\"T_04011_level0_col2\" class=\"col_heading level0 col2\" >train/box_loss</th>\n",
              "      <th id=\"T_04011_level0_col3\" class=\"col_heading level0 col3\" >train/cls_loss</th>\n",
              "      <th id=\"T_04011_level0_col4\" class=\"col_heading level0 col4\" >train/dfl_loss</th>\n",
              "      <th id=\"T_04011_level0_col5\" class=\"col_heading level0 col5\" >metrics/precision(B)</th>\n",
              "      <th id=\"T_04011_level0_col6\" class=\"col_heading level0 col6\" >metrics/recall(B)</th>\n",
              "      <th id=\"T_04011_level0_col7\" class=\"col_heading level0 col7\" >metrics/mAP50(B)</th>\n",
              "      <th id=\"T_04011_level0_col8\" class=\"col_heading level0 col8\" >metrics/mAP50-95(B)</th>\n",
              "      <th id=\"T_04011_level0_col9\" class=\"col_heading level0 col9\" >val/box_loss</th>\n",
              "      <th id=\"T_04011_level0_col10\" class=\"col_heading level0 col10\" >val/cls_loss</th>\n",
              "      <th id=\"T_04011_level0_col11\" class=\"col_heading level0 col11\" >val/dfl_loss</th>\n",
              "      <th id=\"T_04011_level0_col12\" class=\"col_heading level0 col12\" >lr/pg0</th>\n",
              "      <th id=\"T_04011_level0_col13\" class=\"col_heading level0 col13\" >lr/pg1</th>\n",
              "      <th id=\"T_04011_level0_col14\" class=\"col_heading level0 col14\" >lr/pg2</th>\n",
              "    </tr>\n",
              "  </thead>\n",
              "  <tbody>\n",
              "    <tr>\n",
              "      <th id=\"T_04011_level0_row0\" class=\"row_heading level0 row0\" >0</th>\n",
              "      <td id=\"T_04011_row0_col0\" class=\"data row0 col0\" >1</td>\n",
              "      <td id=\"T_04011_row0_col1\" class=\"data row0 col1\" >137.196000</td>\n",
              "      <td id=\"T_04011_row0_col2\" class=\"data row0 col2\" >0.392020</td>\n",
              "      <td id=\"T_04011_row0_col3\" class=\"data row0 col3\" >1.471090</td>\n",
              "      <td id=\"T_04011_row0_col4\" class=\"data row0 col4\" >0.866000</td>\n",
              "      <td id=\"T_04011_row0_col5\" class=\"data row0 col5\" >0.992850</td>\n",
              "      <td id=\"T_04011_row0_col6\" class=\"data row0 col6\" >0.330540</td>\n",
              "      <td id=\"T_04011_row0_col7\" class=\"data row0 col7\" >0.461590</td>\n",
              "      <td id=\"T_04011_row0_col8\" class=\"data row0 col8\" >0.441790</td>\n",
              "      <td id=\"T_04011_row0_col9\" class=\"data row0 col9\" >0.684760</td>\n",
              "      <td id=\"T_04011_row0_col10\" class=\"data row0 col10\" >1.949440</td>\n",
              "      <td id=\"T_04011_row0_col11\" class=\"data row0 col11\" >1.096870</td>\n",
              "      <td id=\"T_04011_row0_col12\" class=\"data row0 col12\" >0.000080</td>\n",
              "      <td id=\"T_04011_row0_col13\" class=\"data row0 col13\" >0.000080</td>\n",
              "      <td id=\"T_04011_row0_col14\" class=\"data row0 col14\" >0.000080</td>\n",
              "    </tr>\n",
              "    <tr>\n",
              "      <th id=\"T_04011_level0_row1\" class=\"row_heading level0 row1\" >1</th>\n",
              "      <td id=\"T_04011_row1_col0\" class=\"data row1 col0\" >2</td>\n",
              "      <td id=\"T_04011_row1_col1\" class=\"data row1 col1\" >270.623000</td>\n",
              "      <td id=\"T_04011_row1_col2\" class=\"data row1 col2\" >0.359550</td>\n",
              "      <td id=\"T_04011_row1_col3\" class=\"data row1 col3\" >1.486690</td>\n",
              "      <td id=\"T_04011_row1_col4\" class=\"data row1 col4\" >0.864290</td>\n",
              "      <td id=\"T_04011_row1_col5\" class=\"data row1 col5\" >1.000000</td>\n",
              "      <td id=\"T_04011_row1_col6\" class=\"data row1 col6\" >0.314930</td>\n",
              "      <td id=\"T_04011_row1_col7\" class=\"data row1 col7\" >0.428690</td>\n",
              "      <td id=\"T_04011_row1_col8\" class=\"data row1 col8\" >0.408720</td>\n",
              "      <td id=\"T_04011_row1_col9\" class=\"data row1 col9\" >0.737860</td>\n",
              "      <td id=\"T_04011_row1_col10\" class=\"data row1 col10\" >2.229740</td>\n",
              "      <td id=\"T_04011_row1_col11\" class=\"data row1 col11\" >1.109850</td>\n",
              "      <td id=\"T_04011_row1_col12\" class=\"data row1 col12\" >0.000166</td>\n",
              "      <td id=\"T_04011_row1_col13\" class=\"data row1 col13\" >0.000166</td>\n",
              "      <td id=\"T_04011_row1_col14\" class=\"data row1 col14\" >0.000166</td>\n",
              "    </tr>\n",
              "    <tr>\n",
              "      <th id=\"T_04011_level0_row2\" class=\"row_heading level0 row2\" >2</th>\n",
              "      <td id=\"T_04011_row2_col0\" class=\"data row2 col0\" >3</td>\n",
              "      <td id=\"T_04011_row2_col1\" class=\"data row2 col1\" >399.074000</td>\n",
              "      <td id=\"T_04011_row2_col2\" class=\"data row2 col2\" >0.352770</td>\n",
              "      <td id=\"T_04011_row2_col3\" class=\"data row2 col3\" >1.252910</td>\n",
              "      <td id=\"T_04011_row2_col4\" class=\"data row2 col4\" >0.830360</td>\n",
              "      <td id=\"T_04011_row2_col5\" class=\"data row2 col5\" >0.982540</td>\n",
              "      <td id=\"T_04011_row2_col6\" class=\"data row2 col6\" >0.283770</td>\n",
              "      <td id=\"T_04011_row2_col7\" class=\"data row2 col7\" >0.413860</td>\n",
              "      <td id=\"T_04011_row2_col8\" class=\"data row2 col8\" >0.400610</td>\n",
              "      <td id=\"T_04011_row2_col9\" class=\"data row2 col9\" >0.715060</td>\n",
              "      <td id=\"T_04011_row2_col10\" class=\"data row2 col10\" >2.207890</td>\n",
              "      <td id=\"T_04011_row2_col11\" class=\"data row2 col11\" >1.100030</td>\n",
              "      <td id=\"T_04011_row2_col12\" class=\"data row2 col12\" >0.000247</td>\n",
              "      <td id=\"T_04011_row2_col13\" class=\"data row2 col13\" >0.000247</td>\n",
              "      <td id=\"T_04011_row2_col14\" class=\"data row2 col14\" >0.000247</td>\n",
              "    </tr>\n",
              "    <tr>\n",
              "      <th id=\"T_04011_level0_row3\" class=\"row_heading level0 row3\" >3</th>\n",
              "      <td id=\"T_04011_row3_col0\" class=\"data row3 col0\" >4</td>\n",
              "      <td id=\"T_04011_row3_col1\" class=\"data row3 col1\" >525.178000</td>\n",
              "      <td id=\"T_04011_row3_col2\" class=\"data row3 col2\" >0.378450</td>\n",
              "      <td id=\"T_04011_row3_col3\" class=\"data row3 col3\" >1.361980</td>\n",
              "      <td id=\"T_04011_row3_col4\" class=\"data row3 col4\" >0.872250</td>\n",
              "      <td id=\"T_04011_row3_col5\" class=\"data row3 col5\" >0.972600</td>\n",
              "      <td id=\"T_04011_row3_col6\" class=\"data row3 col6\" >0.334050</td>\n",
              "      <td id=\"T_04011_row3_col7\" class=\"data row3 col7\" >0.468830</td>\n",
              "      <td id=\"T_04011_row3_col8\" class=\"data row3 col8\" >0.439200</td>\n",
              "      <td id=\"T_04011_row3_col9\" class=\"data row3 col9\" >0.771190</td>\n",
              "      <td id=\"T_04011_row3_col10\" class=\"data row3 col10\" >1.913590</td>\n",
              "      <td id=\"T_04011_row3_col11\" class=\"data row3 col11\" >1.132960</td>\n",
              "      <td id=\"T_04011_row3_col12\" class=\"data row3 col12\" >0.000324</td>\n",
              "      <td id=\"T_04011_row3_col13\" class=\"data row3 col13\" >0.000324</td>\n",
              "      <td id=\"T_04011_row3_col14\" class=\"data row3 col14\" >0.000324</td>\n",
              "    </tr>\n",
              "    <tr>\n",
              "      <th id=\"T_04011_level0_row4\" class=\"row_heading level0 row4\" >4</th>\n",
              "      <td id=\"T_04011_row4_col0\" class=\"data row4 col0\" >5</td>\n",
              "      <td id=\"T_04011_row4_col1\" class=\"data row4 col1\" >652.625000</td>\n",
              "      <td id=\"T_04011_row4_col2\" class=\"data row4 col2\" >0.365720</td>\n",
              "      <td id=\"T_04011_row4_col3\" class=\"data row4 col3\" >1.429880</td>\n",
              "      <td id=\"T_04011_row4_col4\" class=\"data row4 col4\" >0.844200</td>\n",
              "      <td id=\"T_04011_row4_col5\" class=\"data row4 col5\" >0.999610</td>\n",
              "      <td id=\"T_04011_row4_col6\" class=\"data row4 col6\" >0.392750</td>\n",
              "      <td id=\"T_04011_row4_col7\" class=\"data row4 col7\" >0.486850</td>\n",
              "      <td id=\"T_04011_row4_col8\" class=\"data row4 col8\" >0.460590</td>\n",
              "      <td id=\"T_04011_row4_col9\" class=\"data row4 col9\" >0.741140</td>\n",
              "      <td id=\"T_04011_row4_col10\" class=\"data row4 col10\" >1.749150</td>\n",
              "      <td id=\"T_04011_row4_col11\" class=\"data row4 col11\" >1.100280</td>\n",
              "      <td id=\"T_04011_row4_col12\" class=\"data row4 col12\" >0.000396</td>\n",
              "      <td id=\"T_04011_row4_col13\" class=\"data row4 col13\" >0.000396</td>\n",
              "      <td id=\"T_04011_row4_col14\" class=\"data row4 col14\" >0.000396</td>\n",
              "    </tr>\n",
              "    <tr>\n",
              "      <th id=\"T_04011_level0_row5\" class=\"row_heading level0 row5\" >5</th>\n",
              "      <td id=\"T_04011_row5_col0\" class=\"data row5 col0\" >6</td>\n",
              "      <td id=\"T_04011_row5_col1\" class=\"data row5 col1\" >783.761000</td>\n",
              "      <td id=\"T_04011_row5_col2\" class=\"data row5 col2\" >0.355530</td>\n",
              "      <td id=\"T_04011_row5_col3\" class=\"data row5 col3\" >1.084070</td>\n",
              "      <td id=\"T_04011_row5_col4\" class=\"data row5 col4\" >0.825380</td>\n",
              "      <td id=\"T_04011_row5_col5\" class=\"data row5 col5\" >0.981220</td>\n",
              "      <td id=\"T_04011_row5_col6\" class=\"data row5 col6\" >0.337770</td>\n",
              "      <td id=\"T_04011_row5_col7\" class=\"data row5 col7\" >0.423650</td>\n",
              "      <td id=\"T_04011_row5_col8\" class=\"data row5 col8\" >0.395420</td>\n",
              "      <td id=\"T_04011_row5_col9\" class=\"data row5 col9\" >0.774100</td>\n",
              "      <td id=\"T_04011_row5_col10\" class=\"data row5 col10\" >1.996590</td>\n",
              "      <td id=\"T_04011_row5_col11\" class=\"data row5 col11\" >1.101030</td>\n",
              "      <td id=\"T_04011_row5_col12\" class=\"data row5 col12\" >0.000464</td>\n",
              "      <td id=\"T_04011_row5_col13\" class=\"data row5 col13\" >0.000464</td>\n",
              "      <td id=\"T_04011_row5_col14\" class=\"data row5 col14\" >0.000464</td>\n",
              "    </tr>\n",
              "    <tr>\n",
              "      <th id=\"T_04011_level0_row6\" class=\"row_heading level0 row6\" >6</th>\n",
              "      <td id=\"T_04011_row6_col0\" class=\"data row6 col0\" >7</td>\n",
              "      <td id=\"T_04011_row6_col1\" class=\"data row6 col1\" >914.303000</td>\n",
              "      <td id=\"T_04011_row6_col2\" class=\"data row6 col2\" >0.428160</td>\n",
              "      <td id=\"T_04011_row6_col3\" class=\"data row6 col3\" >1.674430</td>\n",
              "      <td id=\"T_04011_row6_col4\" class=\"data row6 col4\" >0.866160</td>\n",
              "      <td id=\"T_04011_row6_col5\" class=\"data row6 col5\" >0.950750</td>\n",
              "      <td id=\"T_04011_row6_col6\" class=\"data row6 col6\" >0.232200</td>\n",
              "      <td id=\"T_04011_row6_col7\" class=\"data row6 col7\" >0.292140</td>\n",
              "      <td id=\"T_04011_row6_col8\" class=\"data row6 col8\" >0.258700</td>\n",
              "      <td id=\"T_04011_row6_col9\" class=\"data row6 col9\" >0.790700</td>\n",
              "      <td id=\"T_04011_row6_col10\" class=\"data row6 col10\" >2.762800</td>\n",
              "      <td id=\"T_04011_row6_col11\" class=\"data row6 col11\" >1.142810</td>\n",
              "      <td id=\"T_04011_row6_col12\" class=\"data row6 col12\" >0.000528</td>\n",
              "      <td id=\"T_04011_row6_col13\" class=\"data row6 col13\" >0.000528</td>\n",
              "      <td id=\"T_04011_row6_col14\" class=\"data row6 col14\" >0.000528</td>\n",
              "    </tr>\n",
              "    <tr>\n",
              "      <th id=\"T_04011_level0_row7\" class=\"row_heading level0 row7\" >7</th>\n",
              "      <td id=\"T_04011_row7_col0\" class=\"data row7 col0\" >8</td>\n",
              "      <td id=\"T_04011_row7_col1\" class=\"data row7 col1\" >1044.940000</td>\n",
              "      <td id=\"T_04011_row7_col2\" class=\"data row7 col2\" >0.390820</td>\n",
              "      <td id=\"T_04011_row7_col3\" class=\"data row7 col3\" >1.283810</td>\n",
              "      <td id=\"T_04011_row7_col4\" class=\"data row7 col4\" >0.860160</td>\n",
              "      <td id=\"T_04011_row7_col5\" class=\"data row7 col5\" >1.000000</td>\n",
              "      <td id=\"T_04011_row7_col6\" class=\"data row7 col6\" >0.079900</td>\n",
              "      <td id=\"T_04011_row7_col7\" class=\"data row7 col7\" >0.208910</td>\n",
              "      <td id=\"T_04011_row7_col8\" class=\"data row7 col8\" >0.163900</td>\n",
              "      <td id=\"T_04011_row7_col9\" class=\"data row7 col9\" >0.875030</td>\n",
              "      <td id=\"T_04011_row7_col10\" class=\"data row7 col10\" >3.688340</td>\n",
              "      <td id=\"T_04011_row7_col11\" class=\"data row7 col11\" >1.216510</td>\n",
              "      <td id=\"T_04011_row7_col12\" class=\"data row7 col12\" >0.000587</td>\n",
              "      <td id=\"T_04011_row7_col13\" class=\"data row7 col13\" >0.000587</td>\n",
              "      <td id=\"T_04011_row7_col14\" class=\"data row7 col14\" >0.000587</td>\n",
              "    </tr>\n",
              "    <tr>\n",
              "      <th id=\"T_04011_level0_row8\" class=\"row_heading level0 row8\" >8</th>\n",
              "      <td id=\"T_04011_row8_col0\" class=\"data row8 col0\" >9</td>\n",
              "      <td id=\"T_04011_row8_col1\" class=\"data row8 col1\" >1169.270000</td>\n",
              "      <td id=\"T_04011_row8_col2\" class=\"data row8 col2\" >0.394670</td>\n",
              "      <td id=\"T_04011_row8_col3\" class=\"data row8 col3\" >1.280090</td>\n",
              "      <td id=\"T_04011_row8_col4\" class=\"data row8 col4\" >0.858550</td>\n",
              "      <td id=\"T_04011_row8_col5\" class=\"data row8 col5\" >1.000000</td>\n",
              "      <td id=\"T_04011_row8_col6\" class=\"data row8 col6\" >0.079470</td>\n",
              "      <td id=\"T_04011_row8_col7\" class=\"data row8 col7\" >0.222130</td>\n",
              "      <td id=\"T_04011_row8_col8\" class=\"data row8 col8\" >0.191760</td>\n",
              "      <td id=\"T_04011_row8_col9\" class=\"data row8 col9\" >0.875370</td>\n",
              "      <td id=\"T_04011_row8_col10\" class=\"data row8 col10\" >3.631640</td>\n",
              "      <td id=\"T_04011_row8_col11\" class=\"data row8 col11\" >1.230230</td>\n",
              "      <td id=\"T_04011_row8_col12\" class=\"data row8 col12\" >0.000642</td>\n",
              "      <td id=\"T_04011_row8_col13\" class=\"data row8 col13\" >0.000642</td>\n",
              "      <td id=\"T_04011_row8_col14\" class=\"data row8 col14\" >0.000642</td>\n",
              "    </tr>\n",
              "    <tr>\n",
              "      <th id=\"T_04011_level0_row9\" class=\"row_heading level0 row9\" >9</th>\n",
              "      <td id=\"T_04011_row9_col0\" class=\"data row9 col0\" >10</td>\n",
              "      <td id=\"T_04011_row9_col1\" class=\"data row9 col1\" >1295.280000</td>\n",
              "      <td id=\"T_04011_row9_col2\" class=\"data row9 col2\" >0.390800</td>\n",
              "      <td id=\"T_04011_row9_col3\" class=\"data row9 col3\" >1.354690</td>\n",
              "      <td id=\"T_04011_row9_col4\" class=\"data row9 col4\" >0.848950</td>\n",
              "      <td id=\"T_04011_row9_col5\" class=\"data row9 col5\" >0.978690</td>\n",
              "      <td id=\"T_04011_row9_col6\" class=\"data row9 col6\" >0.182690</td>\n",
              "      <td id=\"T_04011_row9_col7\" class=\"data row9 col7\" >0.285210</td>\n",
              "      <td id=\"T_04011_row9_col8\" class=\"data row9 col8\" >0.262480</td>\n",
              "      <td id=\"T_04011_row9_col9\" class=\"data row9 col9\" >0.849300</td>\n",
              "      <td id=\"T_04011_row9_col10\" class=\"data row9 col10\" >3.215250</td>\n",
              "      <td id=\"T_04011_row9_col11\" class=\"data row9 col11\" >1.202590</td>\n",
              "      <td id=\"T_04011_row9_col12\" class=\"data row9 col12\" >0.000692</td>\n",
              "      <td id=\"T_04011_row9_col13\" class=\"data row9 col13\" >0.000692</td>\n",
              "      <td id=\"T_04011_row9_col14\" class=\"data row9 col14\" >0.000692</td>\n",
              "    </tr>\n",
              "    <tr>\n",
              "      <th id=\"T_04011_level0_row10\" class=\"row_heading level0 row10\" >10</th>\n",
              "      <td id=\"T_04011_row10_col0\" class=\"data row10 col0\" >11</td>\n",
              "      <td id=\"T_04011_row10_col1\" class=\"data row10 col1\" >1421.580000</td>\n",
              "      <td id=\"T_04011_row10_col2\" class=\"data row10 col2\" >0.373620</td>\n",
              "      <td id=\"T_04011_row10_col3\" class=\"data row10 col3\" >1.274750</td>\n",
              "      <td id=\"T_04011_row10_col4\" class=\"data row10 col4\" >0.870880</td>\n",
              "      <td id=\"T_04011_row10_col5\" class=\"data row10 col5\" >0.945490</td>\n",
              "      <td id=\"T_04011_row10_col6\" class=\"data row10 col6\" >0.133290</td>\n",
              "      <td id=\"T_04011_row10_col7\" class=\"data row10 col7\" >0.326530</td>\n",
              "      <td id=\"T_04011_row10_col8\" class=\"data row10 col8\" >0.284810</td>\n",
              "      <td id=\"T_04011_row10_col9\" class=\"data row10 col9\" >0.922610</td>\n",
              "      <td id=\"T_04011_row10_col10\" class=\"data row10 col10\" >3.528980</td>\n",
              "      <td id=\"T_04011_row10_col11\" class=\"data row10 col11\" >1.248720</td>\n",
              "      <td id=\"T_04011_row10_col12\" class=\"data row10 col12\" >0.000737</td>\n",
              "      <td id=\"T_04011_row10_col13\" class=\"data row10 col13\" >0.000737</td>\n",
              "      <td id=\"T_04011_row10_col14\" class=\"data row10 col14\" >0.000737</td>\n",
              "    </tr>\n",
              "    <tr>\n",
              "      <th id=\"T_04011_level0_row11\" class=\"row_heading level0 row11\" >11</th>\n",
              "      <td id=\"T_04011_row11_col0\" class=\"data row11 col0\" >12</td>\n",
              "      <td id=\"T_04011_row11_col1\" class=\"data row11 col1\" >1545.590000</td>\n",
              "      <td id=\"T_04011_row11_col2\" class=\"data row11 col2\" >0.383600</td>\n",
              "      <td id=\"T_04011_row11_col3\" class=\"data row11 col3\" >1.662320</td>\n",
              "      <td id=\"T_04011_row11_col4\" class=\"data row11 col4\" >0.850630</td>\n",
              "      <td id=\"T_04011_row11_col5\" class=\"data row11 col5\" >0.960840</td>\n",
              "      <td id=\"T_04011_row11_col6\" class=\"data row11 col6\" >0.274180</td>\n",
              "      <td id=\"T_04011_row11_col7\" class=\"data row11 col7\" >0.423440</td>\n",
              "      <td id=\"T_04011_row11_col8\" class=\"data row11 col8\" >0.383840</td>\n",
              "      <td id=\"T_04011_row11_col9\" class=\"data row11 col9\" >0.830790</td>\n",
              "      <td id=\"T_04011_row11_col10\" class=\"data row11 col10\" >2.660260</td>\n",
              "      <td id=\"T_04011_row11_col11\" class=\"data row11 col11\" >1.182640</td>\n",
              "      <td id=\"T_04011_row11_col12\" class=\"data row11 col12\" >0.000728</td>\n",
              "      <td id=\"T_04011_row11_col13\" class=\"data row11 col13\" >0.000728</td>\n",
              "      <td id=\"T_04011_row11_col14\" class=\"data row11 col14\" >0.000728</td>\n",
              "    </tr>\n",
              "    <tr>\n",
              "      <th id=\"T_04011_level0_row12\" class=\"row_heading level0 row12\" >12</th>\n",
              "      <td id=\"T_04011_row12_col0\" class=\"data row12 col0\" >13</td>\n",
              "      <td id=\"T_04011_row12_col1\" class=\"data row12 col1\" >1670.930000</td>\n",
              "      <td id=\"T_04011_row12_col2\" class=\"data row12 col2\" >0.366300</td>\n",
              "      <td id=\"T_04011_row12_col3\" class=\"data row12 col3\" >1.303960</td>\n",
              "      <td id=\"T_04011_row12_col4\" class=\"data row12 col4\" >0.864670</td>\n",
              "      <td id=\"T_04011_row12_col5\" class=\"data row12 col5\" >0.957260</td>\n",
              "      <td id=\"T_04011_row12_col6\" class=\"data row12 col6\" >0.271450</td>\n",
              "      <td id=\"T_04011_row12_col7\" class=\"data row12 col7\" >0.409610</td>\n",
              "      <td id=\"T_04011_row12_col8\" class=\"data row12 col8\" >0.381390</td>\n",
              "      <td id=\"T_04011_row12_col9\" class=\"data row12 col9\" >0.749680</td>\n",
              "      <td id=\"T_04011_row12_col10\" class=\"data row12 col10\" >2.694150</td>\n",
              "      <td id=\"T_04011_row12_col11\" class=\"data row12 col11\" >1.153060</td>\n",
              "      <td id=\"T_04011_row12_col12\" class=\"data row12 col12\" >0.000703</td>\n",
              "      <td id=\"T_04011_row12_col13\" class=\"data row12 col13\" >0.000703</td>\n",
              "      <td id=\"T_04011_row12_col14\" class=\"data row12 col14\" >0.000703</td>\n",
              "    </tr>\n",
              "    <tr>\n",
              "      <th id=\"T_04011_level0_row13\" class=\"row_heading level0 row13\" >13</th>\n",
              "      <td id=\"T_04011_row13_col0\" class=\"data row13 col0\" >14</td>\n",
              "      <td id=\"T_04011_row13_col1\" class=\"data row13 col1\" >1803.920000</td>\n",
              "      <td id=\"T_04011_row13_col2\" class=\"data row13 col2\" >0.346220</td>\n",
              "      <td id=\"T_04011_row13_col3\" class=\"data row13 col3\" >1.201020</td>\n",
              "      <td id=\"T_04011_row13_col4\" class=\"data row13 col4\" >0.836380</td>\n",
              "      <td id=\"T_04011_row13_col5\" class=\"data row13 col5\" >1.000000</td>\n",
              "      <td id=\"T_04011_row13_col6\" class=\"data row13 col6\" >0.259980</td>\n",
              "      <td id=\"T_04011_row13_col7\" class=\"data row13 col7\" >0.382310</td>\n",
              "      <td id=\"T_04011_row13_col8\" class=\"data row13 col8\" >0.346150</td>\n",
              "      <td id=\"T_04011_row13_col9\" class=\"data row13 col9\" >0.728230</td>\n",
              "      <td id=\"T_04011_row13_col10\" class=\"data row13 col10\" >2.536650</td>\n",
              "      <td id=\"T_04011_row13_col11\" class=\"data row13 col11\" >1.146480</td>\n",
              "      <td id=\"T_04011_row13_col12\" class=\"data row13 col12\" >0.000678</td>\n",
              "      <td id=\"T_04011_row13_col13\" class=\"data row13 col13\" >0.000678</td>\n",
              "      <td id=\"T_04011_row13_col14\" class=\"data row13 col14\" >0.000678</td>\n",
              "    </tr>\n",
              "    <tr>\n",
              "      <th id=\"T_04011_level0_row14\" class=\"row_heading level0 row14\" >14</th>\n",
              "      <td id=\"T_04011_row14_col0\" class=\"data row14 col0\" >15</td>\n",
              "      <td id=\"T_04011_row14_col1\" class=\"data row14 col1\" >1931.140000</td>\n",
              "      <td id=\"T_04011_row14_col2\" class=\"data row14 col2\" >0.367980</td>\n",
              "      <td id=\"T_04011_row14_col3\" class=\"data row14 col3\" >1.286900</td>\n",
              "      <td id=\"T_04011_row14_col4\" class=\"data row14 col4\" >0.846780</td>\n",
              "      <td id=\"T_04011_row14_col5\" class=\"data row14 col5\" >0.968280</td>\n",
              "      <td id=\"T_04011_row14_col6\" class=\"data row14 col6\" >0.236730</td>\n",
              "      <td id=\"T_04011_row14_col7\" class=\"data row14 col7\" >0.351360</td>\n",
              "      <td id=\"T_04011_row14_col8\" class=\"data row14 col8\" >0.317400</td>\n",
              "      <td id=\"T_04011_row14_col9\" class=\"data row14 col9\" >0.722120</td>\n",
              "      <td id=\"T_04011_row14_col10\" class=\"data row14 col10\" >2.545770</td>\n",
              "      <td id=\"T_04011_row14_col11\" class=\"data row14 col11\" >1.167890</td>\n",
              "      <td id=\"T_04011_row14_col12\" class=\"data row14 col12\" >0.000654</td>\n",
              "      <td id=\"T_04011_row14_col13\" class=\"data row14 col13\" >0.000654</td>\n",
              "      <td id=\"T_04011_row14_col14\" class=\"data row14 col14\" >0.000654</td>\n",
              "    </tr>\n",
              "    <tr>\n",
              "      <th id=\"T_04011_level0_row15\" class=\"row_heading level0 row15\" >15</th>\n",
              "      <td id=\"T_04011_row15_col0\" class=\"data row15 col0\" >16</td>\n",
              "      <td id=\"T_04011_row15_col1\" class=\"data row15 col1\" >2055.670000</td>\n",
              "      <td id=\"T_04011_row15_col2\" class=\"data row15 col2\" >0.401340</td>\n",
              "      <td id=\"T_04011_row15_col3\" class=\"data row15 col3\" >1.186480</td>\n",
              "      <td id=\"T_04011_row15_col4\" class=\"data row15 col4\" >0.880460</td>\n",
              "      <td id=\"T_04011_row15_col5\" class=\"data row15 col5\" >0.930540</td>\n",
              "      <td id=\"T_04011_row15_col6\" class=\"data row15 col6\" >0.225670</td>\n",
              "      <td id=\"T_04011_row15_col7\" class=\"data row15 col7\" >0.382970</td>\n",
              "      <td id=\"T_04011_row15_col8\" class=\"data row15 col8\" >0.353150</td>\n",
              "      <td id=\"T_04011_row15_col9\" class=\"data row15 col9\" >0.745690</td>\n",
              "      <td id=\"T_04011_row15_col10\" class=\"data row15 col10\" >2.363880</td>\n",
              "      <td id=\"T_04011_row15_col11\" class=\"data row15 col11\" >1.167080</td>\n",
              "      <td id=\"T_04011_row15_col12\" class=\"data row15 col12\" >0.000629</td>\n",
              "      <td id=\"T_04011_row15_col13\" class=\"data row15 col13\" >0.000629</td>\n",
              "      <td id=\"T_04011_row15_col14\" class=\"data row15 col14\" >0.000629</td>\n",
              "    </tr>\n",
              "    <tr>\n",
              "      <th id=\"T_04011_level0_row16\" class=\"row_heading level0 row16\" >16</th>\n",
              "      <td id=\"T_04011_row16_col0\" class=\"data row16 col0\" >17</td>\n",
              "      <td id=\"T_04011_row16_col1\" class=\"data row16 col1\" >2186.570000</td>\n",
              "      <td id=\"T_04011_row16_col2\" class=\"data row16 col2\" >0.404140</td>\n",
              "      <td id=\"T_04011_row16_col3\" class=\"data row16 col3\" >0.998340</td>\n",
              "      <td id=\"T_04011_row16_col4\" class=\"data row16 col4\" >0.876910</td>\n",
              "      <td id=\"T_04011_row16_col5\" class=\"data row16 col5\" >0.907710</td>\n",
              "      <td id=\"T_04011_row16_col6\" class=\"data row16 col6\" >0.226130</td>\n",
              "      <td id=\"T_04011_row16_col7\" class=\"data row16 col7\" >0.373260</td>\n",
              "      <td id=\"T_04011_row16_col8\" class=\"data row16 col8\" >0.360860</td>\n",
              "      <td id=\"T_04011_row16_col9\" class=\"data row16 col9\" >0.681300</td>\n",
              "      <td id=\"T_04011_row16_col10\" class=\"data row16 col10\" >2.509020</td>\n",
              "      <td id=\"T_04011_row16_col11\" class=\"data row16 col11\" >1.143680</td>\n",
              "      <td id=\"T_04011_row16_col12\" class=\"data row16 col12\" >0.000604</td>\n",
              "      <td id=\"T_04011_row16_col13\" class=\"data row16 col13\" >0.000604</td>\n",
              "      <td id=\"T_04011_row16_col14\" class=\"data row16 col14\" >0.000604</td>\n",
              "    </tr>\n",
              "    <tr>\n",
              "      <th id=\"T_04011_level0_row17\" class=\"row_heading level0 row17\" >17</th>\n",
              "      <td id=\"T_04011_row17_col0\" class=\"data row17 col0\" >18</td>\n",
              "      <td id=\"T_04011_row17_col1\" class=\"data row17 col1\" >2315.260000</td>\n",
              "      <td id=\"T_04011_row17_col2\" class=\"data row17 col2\" >0.365340</td>\n",
              "      <td id=\"T_04011_row17_col3\" class=\"data row17 col3\" >1.073990</td>\n",
              "      <td id=\"T_04011_row17_col4\" class=\"data row17 col4\" >0.843220</td>\n",
              "      <td id=\"T_04011_row17_col5\" class=\"data row17 col5\" >0.968100</td>\n",
              "      <td id=\"T_04011_row17_col6\" class=\"data row17 col6\" >0.208530</td>\n",
              "      <td id=\"T_04011_row17_col7\" class=\"data row17 col7\" >0.366890</td>\n",
              "      <td id=\"T_04011_row17_col8\" class=\"data row17 col8\" >0.335160</td>\n",
              "      <td id=\"T_04011_row17_col9\" class=\"data row17 col9\" >0.754440</td>\n",
              "      <td id=\"T_04011_row17_col10\" class=\"data row17 col10\" >2.579060</td>\n",
              "      <td id=\"T_04011_row17_col11\" class=\"data row17 col11\" >1.147850</td>\n",
              "      <td id=\"T_04011_row17_col12\" class=\"data row17 col12\" >0.000579</td>\n",
              "      <td id=\"T_04011_row17_col13\" class=\"data row17 col13\" >0.000579</td>\n",
              "      <td id=\"T_04011_row17_col14\" class=\"data row17 col14\" >0.000579</td>\n",
              "    </tr>\n",
              "    <tr>\n",
              "      <th id=\"T_04011_level0_row18\" class=\"row_heading level0 row18\" >18</th>\n",
              "      <td id=\"T_04011_row18_col0\" class=\"data row18 col0\" >19</td>\n",
              "      <td id=\"T_04011_row18_col1\" class=\"data row18 col1\" >2441.070000</td>\n",
              "      <td id=\"T_04011_row18_col2\" class=\"data row18 col2\" >0.392680</td>\n",
              "      <td id=\"T_04011_row18_col3\" class=\"data row18 col3\" >1.254750</td>\n",
              "      <td id=\"T_04011_row18_col4\" class=\"data row18 col4\" >0.859390</td>\n",
              "      <td id=\"T_04011_row18_col5\" class=\"data row18 col5\" >0.974580</td>\n",
              "      <td id=\"T_04011_row18_col6\" class=\"data row18 col6\" >0.262510</td>\n",
              "      <td id=\"T_04011_row18_col7\" class=\"data row18 col7\" >0.465440</td>\n",
              "      <td id=\"T_04011_row18_col8\" class=\"data row18 col8\" >0.407410</td>\n",
              "      <td id=\"T_04011_row18_col9\" class=\"data row18 col9\" >0.805590</td>\n",
              "      <td id=\"T_04011_row18_col10\" class=\"data row18 col10\" >2.141530</td>\n",
              "      <td id=\"T_04011_row18_col11\" class=\"data row18 col11\" >1.186790</td>\n",
              "      <td id=\"T_04011_row18_col12\" class=\"data row18 col12\" >0.000554</td>\n",
              "      <td id=\"T_04011_row18_col13\" class=\"data row18 col13\" >0.000554</td>\n",
              "      <td id=\"T_04011_row18_col14\" class=\"data row18 col14\" >0.000554</td>\n",
              "    </tr>\n",
              "    <tr>\n",
              "      <th id=\"T_04011_level0_row19\" class=\"row_heading level0 row19\" >19</th>\n",
              "      <td id=\"T_04011_row19_col0\" class=\"data row19 col0\" >20</td>\n",
              "      <td id=\"T_04011_row19_col1\" class=\"data row19 col1\" >2566.210000</td>\n",
              "      <td id=\"T_04011_row19_col2\" class=\"data row19 col2\" >0.400010</td>\n",
              "      <td id=\"T_04011_row19_col3\" class=\"data row19 col3\" >1.056100</td>\n",
              "      <td id=\"T_04011_row19_col4\" class=\"data row19 col4\" >0.828380</td>\n",
              "      <td id=\"T_04011_row19_col5\" class=\"data row19 col5\" >0.916390</td>\n",
              "      <td id=\"T_04011_row19_col6\" class=\"data row19 col6\" >0.372070</td>\n",
              "      <td id=\"T_04011_row19_col7\" class=\"data row19 col7\" >0.491410</td>\n",
              "      <td id=\"T_04011_row19_col8\" class=\"data row19 col8\" >0.449640</td>\n",
              "      <td id=\"T_04011_row19_col9\" class=\"data row19 col9\" >0.727640</td>\n",
              "      <td id=\"T_04011_row19_col10\" class=\"data row19 col10\" >1.669210</td>\n",
              "      <td id=\"T_04011_row19_col11\" class=\"data row19 col11\" >1.141680</td>\n",
              "      <td id=\"T_04011_row19_col12\" class=\"data row19 col12\" >0.000530</td>\n",
              "      <td id=\"T_04011_row19_col13\" class=\"data row19 col13\" >0.000530</td>\n",
              "      <td id=\"T_04011_row19_col14\" class=\"data row19 col14\" >0.000530</td>\n",
              "    </tr>\n",
              "    <tr>\n",
              "      <th id=\"T_04011_level0_row20\" class=\"row_heading level0 row20\" >20</th>\n",
              "      <td id=\"T_04011_row20_col0\" class=\"data row20 col0\" >21</td>\n",
              "      <td id=\"T_04011_row20_col1\" class=\"data row20 col1\" >2692.050000</td>\n",
              "      <td id=\"T_04011_row20_col2\" class=\"data row20 col2\" >0.351930</td>\n",
              "      <td id=\"T_04011_row20_col3\" class=\"data row20 col3\" >1.126000</td>\n",
              "      <td id=\"T_04011_row20_col4\" class=\"data row20 col4\" >0.851220</td>\n",
              "      <td id=\"T_04011_row20_col5\" class=\"data row20 col5\" >0.986290</td>\n",
              "      <td id=\"T_04011_row20_col6\" class=\"data row20 col6\" >0.324170</td>\n",
              "      <td id=\"T_04011_row20_col7\" class=\"data row20 col7\" >0.500290</td>\n",
              "      <td id=\"T_04011_row20_col8\" class=\"data row20 col8\" >0.459640</td>\n",
              "      <td id=\"T_04011_row20_col9\" class=\"data row20 col9\" >0.717780</td>\n",
              "      <td id=\"T_04011_row20_col10\" class=\"data row20 col10\" >1.874330</td>\n",
              "      <td id=\"T_04011_row20_col11\" class=\"data row20 col11\" >1.148630</td>\n",
              "      <td id=\"T_04011_row20_col12\" class=\"data row20 col12\" >0.000505</td>\n",
              "      <td id=\"T_04011_row20_col13\" class=\"data row20 col13\" >0.000505</td>\n",
              "      <td id=\"T_04011_row20_col14\" class=\"data row20 col14\" >0.000505</td>\n",
              "    </tr>\n",
              "    <tr>\n",
              "      <th id=\"T_04011_level0_row21\" class=\"row_heading level0 row21\" >21</th>\n",
              "      <td id=\"T_04011_row21_col0\" class=\"data row21 col0\" >22</td>\n",
              "      <td id=\"T_04011_row21_col1\" class=\"data row21 col1\" >2819.710000</td>\n",
              "      <td id=\"T_04011_row21_col2\" class=\"data row21 col2\" >0.342980</td>\n",
              "      <td id=\"T_04011_row21_col3\" class=\"data row21 col3\" >0.965590</td>\n",
              "      <td id=\"T_04011_row21_col4\" class=\"data row21 col4\" >0.840360</td>\n",
              "      <td id=\"T_04011_row21_col5\" class=\"data row21 col5\" >0.942150</td>\n",
              "      <td id=\"T_04011_row21_col6\" class=\"data row21 col6\" >0.303270</td>\n",
              "      <td id=\"T_04011_row21_col7\" class=\"data row21 col7\" >0.486460</td>\n",
              "      <td id=\"T_04011_row21_col8\" class=\"data row21 col8\" >0.460190</td>\n",
              "      <td id=\"T_04011_row21_col9\" class=\"data row21 col9\" >0.700520</td>\n",
              "      <td id=\"T_04011_row21_col10\" class=\"data row21 col10\" >2.145460</td>\n",
              "      <td id=\"T_04011_row21_col11\" class=\"data row21 col11\" >1.151270</td>\n",
              "      <td id=\"T_04011_row21_col12\" class=\"data row21 col12\" >0.000480</td>\n",
              "      <td id=\"T_04011_row21_col13\" class=\"data row21 col13\" >0.000480</td>\n",
              "      <td id=\"T_04011_row21_col14\" class=\"data row21 col14\" >0.000480</td>\n",
              "    </tr>\n",
              "    <tr>\n",
              "      <th id=\"T_04011_level0_row22\" class=\"row_heading level0 row22\" >22</th>\n",
              "      <td id=\"T_04011_row22_col0\" class=\"data row22 col0\" >23</td>\n",
              "      <td id=\"T_04011_row22_col1\" class=\"data row22 col1\" >2942.030000</td>\n",
              "      <td id=\"T_04011_row22_col2\" class=\"data row22 col2\" >0.377330</td>\n",
              "      <td id=\"T_04011_row22_col3\" class=\"data row22 col3\" >1.199010</td>\n",
              "      <td id=\"T_04011_row22_col4\" class=\"data row22 col4\" >0.855570</td>\n",
              "      <td id=\"T_04011_row22_col5\" class=\"data row22 col5\" >0.915740</td>\n",
              "      <td id=\"T_04011_row22_col6\" class=\"data row22 col6\" >0.221780</td>\n",
              "      <td id=\"T_04011_row22_col7\" class=\"data row22 col7\" >0.438170</td>\n",
              "      <td id=\"T_04011_row22_col8\" class=\"data row22 col8\" >0.410120</td>\n",
              "      <td id=\"T_04011_row22_col9\" class=\"data row22 col9\" >0.694450</td>\n",
              "      <td id=\"T_04011_row22_col10\" class=\"data row22 col10\" >2.455100</td>\n",
              "      <td id=\"T_04011_row22_col11\" class=\"data row22 col11\" >1.127270</td>\n",
              "      <td id=\"T_04011_row22_col12\" class=\"data row22 col12\" >0.000456</td>\n",
              "      <td id=\"T_04011_row22_col13\" class=\"data row22 col13\" >0.000456</td>\n",
              "      <td id=\"T_04011_row22_col14\" class=\"data row22 col14\" >0.000456</td>\n",
              "    </tr>\n",
              "    <tr>\n",
              "      <th id=\"T_04011_level0_row23\" class=\"row_heading level0 row23\" >23</th>\n",
              "      <td id=\"T_04011_row23_col0\" class=\"data row23 col0\" >24</td>\n",
              "      <td id=\"T_04011_row23_col1\" class=\"data row23 col1\" >3066.950000</td>\n",
              "      <td id=\"T_04011_row23_col2\" class=\"data row23 col2\" >0.367680</td>\n",
              "      <td id=\"T_04011_row23_col3\" class=\"data row23 col3\" >1.517700</td>\n",
              "      <td id=\"T_04011_row23_col4\" class=\"data row23 col4\" >0.835730</td>\n",
              "      <td id=\"T_04011_row23_col5\" class=\"data row23 col5\" >0.679490</td>\n",
              "      <td id=\"T_04011_row23_col6\" class=\"data row23 col6\" >0.172760</td>\n",
              "      <td id=\"T_04011_row23_col7\" class=\"data row23 col7\" >0.360450</td>\n",
              "      <td id=\"T_04011_row23_col8\" class=\"data row23 col8\" >0.342580</td>\n",
              "      <td id=\"T_04011_row23_col9\" class=\"data row23 col9\" >0.658650</td>\n",
              "      <td id=\"T_04011_row23_col10\" class=\"data row23 col10\" >2.575550</td>\n",
              "      <td id=\"T_04011_row23_col11\" class=\"data row23 col11\" >1.101390</td>\n",
              "      <td id=\"T_04011_row23_col12\" class=\"data row23 col12\" >0.000431</td>\n",
              "      <td id=\"T_04011_row23_col13\" class=\"data row23 col13\" >0.000431</td>\n",
              "      <td id=\"T_04011_row23_col14\" class=\"data row23 col14\" >0.000431</td>\n",
              "    </tr>\n",
              "    <tr>\n",
              "      <th id=\"T_04011_level0_row24\" class=\"row_heading level0 row24\" >24</th>\n",
              "      <td id=\"T_04011_row24_col0\" class=\"data row24 col0\" >25</td>\n",
              "      <td id=\"T_04011_row24_col1\" class=\"data row24 col1\" >3192.700000</td>\n",
              "      <td id=\"T_04011_row24_col2\" class=\"data row24 col2\" >0.359240</td>\n",
              "      <td id=\"T_04011_row24_col3\" class=\"data row24 col3\" >1.119220</td>\n",
              "      <td id=\"T_04011_row24_col4\" class=\"data row24 col4\" >0.830300</td>\n",
              "      <td id=\"T_04011_row24_col5\" class=\"data row24 col5\" >0.767220</td>\n",
              "      <td id=\"T_04011_row24_col6\" class=\"data row24 col6\" >0.197730</td>\n",
              "      <td id=\"T_04011_row24_col7\" class=\"data row24 col7\" >0.350490</td>\n",
              "      <td id=\"T_04011_row24_col8\" class=\"data row24 col8\" >0.334180</td>\n",
              "      <td id=\"T_04011_row24_col9\" class=\"data row24 col9\" >0.644190</td>\n",
              "      <td id=\"T_04011_row24_col10\" class=\"data row24 col10\" >2.683090</td>\n",
              "      <td id=\"T_04011_row24_col11\" class=\"data row24 col11\" >1.096710</td>\n",
              "      <td id=\"T_04011_row24_col12\" class=\"data row24 col12\" >0.000406</td>\n",
              "      <td id=\"T_04011_row24_col13\" class=\"data row24 col13\" >0.000406</td>\n",
              "      <td id=\"T_04011_row24_col14\" class=\"data row24 col14\" >0.000406</td>\n",
              "    </tr>\n",
              "    <tr>\n",
              "      <th id=\"T_04011_level0_row25\" class=\"row_heading level0 row25\" >25</th>\n",
              "      <td id=\"T_04011_row25_col0\" class=\"data row25 col0\" >26</td>\n",
              "      <td id=\"T_04011_row25_col1\" class=\"data row25 col1\" >3318.700000</td>\n",
              "      <td id=\"T_04011_row25_col2\" class=\"data row25 col2\" >0.307480</td>\n",
              "      <td id=\"T_04011_row25_col3\" class=\"data row25 col3\" >1.130610</td>\n",
              "      <td id=\"T_04011_row25_col4\" class=\"data row25 col4\" >0.839190</td>\n",
              "      <td id=\"T_04011_row25_col5\" class=\"data row25 col5\" >0.767770</td>\n",
              "      <td id=\"T_04011_row25_col6\" class=\"data row25 col6\" >0.195140</td>\n",
              "      <td id=\"T_04011_row25_col7\" class=\"data row25 col7\" >0.351510</td>\n",
              "      <td id=\"T_04011_row25_col8\" class=\"data row25 col8\" >0.345090</td>\n",
              "      <td id=\"T_04011_row25_col9\" class=\"data row25 col9\" >0.624660</td>\n",
              "      <td id=\"T_04011_row25_col10\" class=\"data row25 col10\" >2.816800</td>\n",
              "      <td id=\"T_04011_row25_col11\" class=\"data row25 col11\" >1.072620</td>\n",
              "      <td id=\"T_04011_row25_col12\" class=\"data row25 col12\" >0.000381</td>\n",
              "      <td id=\"T_04011_row25_col13\" class=\"data row25 col13\" >0.000381</td>\n",
              "      <td id=\"T_04011_row25_col14\" class=\"data row25 col14\" >0.000381</td>\n",
              "    </tr>\n",
              "    <tr>\n",
              "      <th id=\"T_04011_level0_row26\" class=\"row_heading level0 row26\" >26</th>\n",
              "      <td id=\"T_04011_row26_col0\" class=\"data row26 col0\" >27</td>\n",
              "      <td id=\"T_04011_row26_col1\" class=\"data row26 col1\" >3443.050000</td>\n",
              "      <td id=\"T_04011_row26_col2\" class=\"data row26 col2\" >0.329440</td>\n",
              "      <td id=\"T_04011_row26_col3\" class=\"data row26 col3\" >1.315290</td>\n",
              "      <td id=\"T_04011_row26_col4\" class=\"data row26 col4\" >0.874430</td>\n",
              "      <td id=\"T_04011_row26_col5\" class=\"data row26 col5\" >0.967430</td>\n",
              "      <td id=\"T_04011_row26_col6\" class=\"data row26 col6\" >0.180470</td>\n",
              "      <td id=\"T_04011_row26_col7\" class=\"data row26 col7\" >0.387600</td>\n",
              "      <td id=\"T_04011_row26_col8\" class=\"data row26 col8\" >0.376830</td>\n",
              "      <td id=\"T_04011_row26_col9\" class=\"data row26 col9\" >0.636470</td>\n",
              "      <td id=\"T_04011_row26_col10\" class=\"data row26 col10\" >2.826160</td>\n",
              "      <td id=\"T_04011_row26_col11\" class=\"data row26 col11\" >1.082780</td>\n",
              "      <td id=\"T_04011_row26_col12\" class=\"data row26 col12\" >0.000356</td>\n",
              "      <td id=\"T_04011_row26_col13\" class=\"data row26 col13\" >0.000356</td>\n",
              "      <td id=\"T_04011_row26_col14\" class=\"data row26 col14\" >0.000356</td>\n",
              "    </tr>\n",
              "    <tr>\n",
              "      <th id=\"T_04011_level0_row27\" class=\"row_heading level0 row27\" >27</th>\n",
              "      <td id=\"T_04011_row27_col0\" class=\"data row27 col0\" >28</td>\n",
              "      <td id=\"T_04011_row27_col1\" class=\"data row27 col1\" >3568.060000</td>\n",
              "      <td id=\"T_04011_row27_col2\" class=\"data row27 col2\" >0.285120</td>\n",
              "      <td id=\"T_04011_row27_col3\" class=\"data row27 col3\" >0.924160</td>\n",
              "      <td id=\"T_04011_row27_col4\" class=\"data row27 col4\" >0.810150</td>\n",
              "      <td id=\"T_04011_row27_col5\" class=\"data row27 col5\" >0.706970</td>\n",
              "      <td id=\"T_04011_row27_col6\" class=\"data row27 col6\" >0.201860</td>\n",
              "      <td id=\"T_04011_row27_col7\" class=\"data row27 col7\" >0.446190</td>\n",
              "      <td id=\"T_04011_row27_col8\" class=\"data row27 col8\" >0.414180</td>\n",
              "      <td id=\"T_04011_row27_col9\" class=\"data row27 col9\" >0.690260</td>\n",
              "      <td id=\"T_04011_row27_col10\" class=\"data row27 col10\" >2.394230</td>\n",
              "      <td id=\"T_04011_row27_col11\" class=\"data row27 col11\" >1.111840</td>\n",
              "      <td id=\"T_04011_row27_col12\" class=\"data row27 col12\" >0.000332</td>\n",
              "      <td id=\"T_04011_row27_col13\" class=\"data row27 col13\" >0.000332</td>\n",
              "      <td id=\"T_04011_row27_col14\" class=\"data row27 col14\" >0.000332</td>\n",
              "    </tr>\n",
              "    <tr>\n",
              "      <th id=\"T_04011_level0_row28\" class=\"row_heading level0 row28\" >28</th>\n",
              "      <td id=\"T_04011_row28_col0\" class=\"data row28 col0\" >29</td>\n",
              "      <td id=\"T_04011_row28_col1\" class=\"data row28 col1\" >3693.730000</td>\n",
              "      <td id=\"T_04011_row28_col2\" class=\"data row28 col2\" >0.300810</td>\n",
              "      <td id=\"T_04011_row28_col3\" class=\"data row28 col3\" >0.912500</td>\n",
              "      <td id=\"T_04011_row28_col4\" class=\"data row28 col4\" >0.845510</td>\n",
              "      <td id=\"T_04011_row28_col5\" class=\"data row28 col5\" >0.725840</td>\n",
              "      <td id=\"T_04011_row28_col6\" class=\"data row28 col6\" >0.263990</td>\n",
              "      <td id=\"T_04011_row28_col7\" class=\"data row28 col7\" >0.462050</td>\n",
              "      <td id=\"T_04011_row28_col8\" class=\"data row28 col8\" >0.431380</td>\n",
              "      <td id=\"T_04011_row28_col9\" class=\"data row28 col9\" >0.764810</td>\n",
              "      <td id=\"T_04011_row28_col10\" class=\"data row28 col10\" >2.240780</td>\n",
              "      <td id=\"T_04011_row28_col11\" class=\"data row28 col11\" >1.151910</td>\n",
              "      <td id=\"T_04011_row28_col12\" class=\"data row28 col12\" >0.000307</td>\n",
              "      <td id=\"T_04011_row28_col13\" class=\"data row28 col13\" >0.000307</td>\n",
              "      <td id=\"T_04011_row28_col14\" class=\"data row28 col14\" >0.000307</td>\n",
              "    </tr>\n",
              "    <tr>\n",
              "      <th id=\"T_04011_level0_row29\" class=\"row_heading level0 row29\" >29</th>\n",
              "      <td id=\"T_04011_row29_col0\" class=\"data row29 col0\" >30</td>\n",
              "      <td id=\"T_04011_row29_col1\" class=\"data row29 col1\" >3819.030000</td>\n",
              "      <td id=\"T_04011_row29_col2\" class=\"data row29 col2\" >0.319410</td>\n",
              "      <td id=\"T_04011_row29_col3\" class=\"data row29 col3\" >0.987580</td>\n",
              "      <td id=\"T_04011_row29_col4\" class=\"data row29 col4\" >0.831150</td>\n",
              "      <td id=\"T_04011_row29_col5\" class=\"data row29 col5\" >0.717530</td>\n",
              "      <td id=\"T_04011_row29_col6\" class=\"data row29 col6\" >0.208330</td>\n",
              "      <td id=\"T_04011_row29_col7\" class=\"data row29 col7\" >0.443890</td>\n",
              "      <td id=\"T_04011_row29_col8\" class=\"data row29 col8\" >0.419560</td>\n",
              "      <td id=\"T_04011_row29_col9\" class=\"data row29 col9\" >0.731860</td>\n",
              "      <td id=\"T_04011_row29_col10\" class=\"data row29 col10\" >2.478510</td>\n",
              "      <td id=\"T_04011_row29_col11\" class=\"data row29 col11\" >1.144920</td>\n",
              "      <td id=\"T_04011_row29_col12\" class=\"data row29 col12\" >0.000282</td>\n",
              "      <td id=\"T_04011_row29_col13\" class=\"data row29 col13\" >0.000282</td>\n",
              "      <td id=\"T_04011_row29_col14\" class=\"data row29 col14\" >0.000282</td>\n",
              "    </tr>\n",
              "    <tr>\n",
              "      <th id=\"T_04011_level0_row30\" class=\"row_heading level0 row30\" >30</th>\n",
              "      <td id=\"T_04011_row30_col0\" class=\"data row30 col0\" >31</td>\n",
              "      <td id=\"T_04011_row30_col1\" class=\"data row30 col1\" >3944.130000</td>\n",
              "      <td id=\"T_04011_row30_col2\" class=\"data row30 col2\" >0.315730</td>\n",
              "      <td id=\"T_04011_row30_col3\" class=\"data row30 col3\" >11.510200</td>\n",
              "      <td id=\"T_04011_row30_col4\" class=\"data row30 col4\" >0.722610</td>\n",
              "      <td id=\"T_04011_row30_col5\" class=\"data row30 col5\" >0.776040</td>\n",
              "      <td id=\"T_04011_row30_col6\" class=\"data row30 col6\" >0.195620</td>\n",
              "      <td id=\"T_04011_row30_col7\" class=\"data row30 col7\" >0.419560</td>\n",
              "      <td id=\"T_04011_row30_col8\" class=\"data row30 col8\" >0.402870</td>\n",
              "      <td id=\"T_04011_row30_col9\" class=\"data row30 col9\" >0.655780</td>\n",
              "      <td id=\"T_04011_row30_col10\" class=\"data row30 col10\" >2.536980</td>\n",
              "      <td id=\"T_04011_row30_col11\" class=\"data row30 col11\" >1.107780</td>\n",
              "      <td id=\"T_04011_row30_col12\" class=\"data row30 col12\" >0.000258</td>\n",
              "      <td id=\"T_04011_row30_col13\" class=\"data row30 col13\" >0.000258</td>\n",
              "      <td id=\"T_04011_row30_col14\" class=\"data row30 col14\" >0.000258</td>\n",
              "    </tr>\n",
              "    <tr>\n",
              "      <th id=\"T_04011_level0_row31\" class=\"row_heading level0 row31\" >31</th>\n",
              "      <td id=\"T_04011_row31_col0\" class=\"data row31 col0\" >32</td>\n",
              "      <td id=\"T_04011_row31_col1\" class=\"data row31 col1\" >4069.550000</td>\n",
              "      <td id=\"T_04011_row31_col2\" class=\"data row31 col2\" >0.324190</td>\n",
              "      <td id=\"T_04011_row31_col3\" class=\"data row31 col3\" >6.763100</td>\n",
              "      <td id=\"T_04011_row31_col4\" class=\"data row31 col4\" >0.705920</td>\n",
              "      <td id=\"T_04011_row31_col5\" class=\"data row31 col5\" >0.792960</td>\n",
              "      <td id=\"T_04011_row31_col6\" class=\"data row31 col6\" >0.162770</td>\n",
              "      <td id=\"T_04011_row31_col7\" class=\"data row31 col7\" >0.354490</td>\n",
              "      <td id=\"T_04011_row31_col8\" class=\"data row31 col8\" >0.333860</td>\n",
              "      <td id=\"T_04011_row31_col9\" class=\"data row31 col9\" >0.676980</td>\n",
              "      <td id=\"T_04011_row31_col10\" class=\"data row31 col10\" >2.835390</td>\n",
              "      <td id=\"T_04011_row31_col11\" class=\"data row31 col11\" >1.109930</td>\n",
              "      <td id=\"T_04011_row31_col12\" class=\"data row31 col12\" >0.000233</td>\n",
              "      <td id=\"T_04011_row31_col13\" class=\"data row31 col13\" >0.000233</td>\n",
              "      <td id=\"T_04011_row31_col14\" class=\"data row31 col14\" >0.000233</td>\n",
              "    </tr>\n",
              "    <tr>\n",
              "      <th id=\"T_04011_level0_row32\" class=\"row_heading level0 row32\" >32</th>\n",
              "      <td id=\"T_04011_row32_col0\" class=\"data row32 col0\" >33</td>\n",
              "      <td id=\"T_04011_row32_col1\" class=\"data row32 col1\" >4197.270000</td>\n",
              "      <td id=\"T_04011_row32_col2\" class=\"data row32 col2\" >0.302460</td>\n",
              "      <td id=\"T_04011_row32_col3\" class=\"data row32 col3\" >1.470670</td>\n",
              "      <td id=\"T_04011_row32_col4\" class=\"data row32 col4\" >0.816670</td>\n",
              "      <td id=\"T_04011_row32_col5\" class=\"data row32 col5\" >0.768110</td>\n",
              "      <td id=\"T_04011_row32_col6\" class=\"data row32 col6\" >0.149220</td>\n",
              "      <td id=\"T_04011_row32_col7\" class=\"data row32 col7\" >0.356730</td>\n",
              "      <td id=\"T_04011_row32_col8\" class=\"data row32 col8\" >0.321220</td>\n",
              "      <td id=\"T_04011_row32_col9\" class=\"data row32 col9\" >0.735210</td>\n",
              "      <td id=\"T_04011_row32_col10\" class=\"data row32 col10\" >2.972370</td>\n",
              "      <td id=\"T_04011_row32_col11\" class=\"data row32 col11\" >1.140110</td>\n",
              "      <td id=\"T_04011_row32_col12\" class=\"data row32 col12\" >0.000208</td>\n",
              "      <td id=\"T_04011_row32_col13\" class=\"data row32 col13\" >0.000208</td>\n",
              "      <td id=\"T_04011_row32_col14\" class=\"data row32 col14\" >0.000208</td>\n",
              "    </tr>\n",
              "    <tr>\n",
              "      <th id=\"T_04011_level0_row33\" class=\"row_heading level0 row33\" >33</th>\n",
              "      <td id=\"T_04011_row33_col0\" class=\"data row33 col0\" >34</td>\n",
              "      <td id=\"T_04011_row33_col1\" class=\"data row33 col1\" >4325.240000</td>\n",
              "      <td id=\"T_04011_row33_col2\" class=\"data row33 col2\" >0.283800</td>\n",
              "      <td id=\"T_04011_row33_col3\" class=\"data row33 col3\" >5.954760</td>\n",
              "      <td id=\"T_04011_row33_col4\" class=\"data row33 col4\" >0.733580</td>\n",
              "      <td id=\"T_04011_row33_col5\" class=\"data row33 col5\" >0.768000</td>\n",
              "      <td id=\"T_04011_row33_col6\" class=\"data row33 col6\" >0.149420</td>\n",
              "      <td id=\"T_04011_row33_col7\" class=\"data row33 col7\" >0.362940</td>\n",
              "      <td id=\"T_04011_row33_col8\" class=\"data row33 col8\" >0.329730</td>\n",
              "      <td id=\"T_04011_row33_col9\" class=\"data row33 col9\" >0.739190</td>\n",
              "      <td id=\"T_04011_row33_col10\" class=\"data row33 col10\" >2.830210</td>\n",
              "      <td id=\"T_04011_row33_col11\" class=\"data row33 col11\" >1.138210</td>\n",
              "      <td id=\"T_04011_row33_col12\" class=\"data row33 col12\" >0.000183</td>\n",
              "      <td id=\"T_04011_row33_col13\" class=\"data row33 col13\" >0.000183</td>\n",
              "      <td id=\"T_04011_row33_col14\" class=\"data row33 col14\" >0.000183</td>\n",
              "    </tr>\n",
              "    <tr>\n",
              "      <th id=\"T_04011_level0_row34\" class=\"row_heading level0 row34\" >34</th>\n",
              "      <td id=\"T_04011_row34_col0\" class=\"data row34 col0\" >35</td>\n",
              "      <td id=\"T_04011_row34_col1\" class=\"data row34 col1\" >4455.050000</td>\n",
              "      <td id=\"T_04011_row34_col2\" class=\"data row34 col2\" >0.274400</td>\n",
              "      <td id=\"T_04011_row34_col3\" class=\"data row34 col3\" >1.143710</td>\n",
              "      <td id=\"T_04011_row34_col4\" class=\"data row34 col4\" >0.803550</td>\n",
              "      <td id=\"T_04011_row34_col5\" class=\"data row34 col5\" >0.767840</td>\n",
              "      <td id=\"T_04011_row34_col6\" class=\"data row34 col6\" >0.149540</td>\n",
              "      <td id=\"T_04011_row34_col7\" class=\"data row34 col7\" >0.363750</td>\n",
              "      <td id=\"T_04011_row34_col8\" class=\"data row34 col8\" >0.336310</td>\n",
              "      <td id=\"T_04011_row34_col9\" class=\"data row34 col9\" >0.723630</td>\n",
              "      <td id=\"T_04011_row34_col10\" class=\"data row34 col10\" >2.745510</td>\n",
              "      <td id=\"T_04011_row34_col11\" class=\"data row34 col11\" >1.135870</td>\n",
              "      <td id=\"T_04011_row34_col12\" class=\"data row34 col12\" >0.000159</td>\n",
              "      <td id=\"T_04011_row34_col13\" class=\"data row34 col13\" >0.000159</td>\n",
              "      <td id=\"T_04011_row34_col14\" class=\"data row34 col14\" >0.000159</td>\n",
              "    </tr>\n",
              "    <tr>\n",
              "      <th id=\"T_04011_level0_row35\" class=\"row_heading level0 row35\" >35</th>\n",
              "      <td id=\"T_04011_row35_col0\" class=\"data row35 col0\" >36</td>\n",
              "      <td id=\"T_04011_row35_col1\" class=\"data row35 col1\" >4583.010000</td>\n",
              "      <td id=\"T_04011_row35_col2\" class=\"data row35 col2\" >0.229750</td>\n",
              "      <td id=\"T_04011_row35_col3\" class=\"data row35 col3\" >5.193420</td>\n",
              "      <td id=\"T_04011_row35_col4\" class=\"data row35 col4\" >0.675290</td>\n",
              "      <td id=\"T_04011_row35_col5\" class=\"data row35 col5\" >0.767840</td>\n",
              "      <td id=\"T_04011_row35_col6\" class=\"data row35 col6\" >0.149610</td>\n",
              "      <td id=\"T_04011_row35_col7\" class=\"data row35 col7\" >0.374040</td>\n",
              "      <td id=\"T_04011_row35_col8\" class=\"data row35 col8\" >0.347500</td>\n",
              "      <td id=\"T_04011_row35_col9\" class=\"data row35 col9\" >0.719300</td>\n",
              "      <td id=\"T_04011_row35_col10\" class=\"data row35 col10\" >2.718370</td>\n",
              "      <td id=\"T_04011_row35_col11\" class=\"data row35 col11\" >1.148790</td>\n",
              "      <td id=\"T_04011_row35_col12\" class=\"data row35 col12\" >0.000134</td>\n",
              "      <td id=\"T_04011_row35_col13\" class=\"data row35 col13\" >0.000134</td>\n",
              "      <td id=\"T_04011_row35_col14\" class=\"data row35 col14\" >0.000134</td>\n",
              "    </tr>\n",
              "    <tr>\n",
              "      <th id=\"T_04011_level0_row36\" class=\"row_heading level0 row36\" >36</th>\n",
              "      <td id=\"T_04011_row36_col0\" class=\"data row36 col0\" >37</td>\n",
              "      <td id=\"T_04011_row36_col1\" class=\"data row36 col1\" >4712.350000</td>\n",
              "      <td id=\"T_04011_row36_col2\" class=\"data row36 col2\" >0.249910</td>\n",
              "      <td id=\"T_04011_row36_col3\" class=\"data row36 col3\" >6.458030</td>\n",
              "      <td id=\"T_04011_row36_col4\" class=\"data row36 col4\" >0.707030</td>\n",
              "      <td id=\"T_04011_row36_col5\" class=\"data row36 col5\" >0.767850</td>\n",
              "      <td id=\"T_04011_row36_col6\" class=\"data row36 col6\" >0.149600</td>\n",
              "      <td id=\"T_04011_row36_col7\" class=\"data row36 col7\" >0.395050</td>\n",
              "      <td id=\"T_04011_row36_col8\" class=\"data row36 col8\" >0.356750</td>\n",
              "      <td id=\"T_04011_row36_col9\" class=\"data row36 col9\" >0.723430</td>\n",
              "      <td id=\"T_04011_row36_col10\" class=\"data row36 col10\" >2.689520</td>\n",
              "      <td id=\"T_04011_row36_col11\" class=\"data row36 col11\" >1.153500</td>\n",
              "      <td id=\"T_04011_row36_col12\" class=\"data row36 col12\" >0.000109</td>\n",
              "      <td id=\"T_04011_row36_col13\" class=\"data row36 col13\" >0.000109</td>\n",
              "      <td id=\"T_04011_row36_col14\" class=\"data row36 col14\" >0.000109</td>\n",
              "    </tr>\n",
              "    <tr>\n",
              "      <th id=\"T_04011_level0_row37\" class=\"row_heading level0 row37\" >37</th>\n",
              "      <td id=\"T_04011_row37_col0\" class=\"data row37 col0\" >38</td>\n",
              "      <td id=\"T_04011_row37_col1\" class=\"data row37 col1\" >4844.430000</td>\n",
              "      <td id=\"T_04011_row37_col2\" class=\"data row37 col2\" >0.277370</td>\n",
              "      <td id=\"T_04011_row37_col3\" class=\"data row37 col3\" >1.321160</td>\n",
              "      <td id=\"T_04011_row37_col4\" class=\"data row37 col4\" >0.812160</td>\n",
              "      <td id=\"T_04011_row37_col5\" class=\"data row37 col5\" >0.800000</td>\n",
              "      <td id=\"T_04011_row37_col6\" class=\"data row37 col6\" >0.158350</td>\n",
              "      <td id=\"T_04011_row37_col7\" class=\"data row37 col7\" >0.419160</td>\n",
              "      <td id=\"T_04011_row37_col8\" class=\"data row37 col8\" >0.374760</td>\n",
              "      <td id=\"T_04011_row37_col9\" class=\"data row37 col9\" >0.740950</td>\n",
              "      <td id=\"T_04011_row37_col10\" class=\"data row37 col10\" >2.697950</td>\n",
              "      <td id=\"T_04011_row37_col11\" class=\"data row37 col11\" >1.170840</td>\n",
              "      <td id=\"T_04011_row37_col12\" class=\"data row37 col12\" >0.000084</td>\n",
              "      <td id=\"T_04011_row37_col13\" class=\"data row37 col13\" >0.000084</td>\n",
              "      <td id=\"T_04011_row37_col14\" class=\"data row37 col14\" >0.000084</td>\n",
              "    </tr>\n",
              "    <tr>\n",
              "      <th id=\"T_04011_level0_row38\" class=\"row_heading level0 row38\" >38</th>\n",
              "      <td id=\"T_04011_row38_col0\" class=\"data row38 col0\" >39</td>\n",
              "      <td id=\"T_04011_row38_col1\" class=\"data row38 col1\" >4972.300000</td>\n",
              "      <td id=\"T_04011_row38_col2\" class=\"data row38 col2\" >0.285930</td>\n",
              "      <td id=\"T_04011_row38_col3\" class=\"data row38 col3\" >1.064230</td>\n",
              "      <td id=\"T_04011_row38_col4\" class=\"data row38 col4\" >0.804980</td>\n",
              "      <td id=\"T_04011_row38_col5\" class=\"data row38 col5\" >0.800000</td>\n",
              "      <td id=\"T_04011_row38_col6\" class=\"data row38 col6\" >0.158280</td>\n",
              "      <td id=\"T_04011_row38_col7\" class=\"data row38 col7\" >0.417120</td>\n",
              "      <td id=\"T_04011_row38_col8\" class=\"data row38 col8\" >0.371340</td>\n",
              "      <td id=\"T_04011_row38_col9\" class=\"data row38 col9\" >0.752880</td>\n",
              "      <td id=\"T_04011_row38_col10\" class=\"data row38 col10\" >2.732440</td>\n",
              "      <td id=\"T_04011_row38_col11\" class=\"data row38 col11\" >1.177050</td>\n",
              "      <td id=\"T_04011_row38_col12\" class=\"data row38 col12\" >0.000060</td>\n",
              "      <td id=\"T_04011_row38_col13\" class=\"data row38 col13\" >0.000060</td>\n",
              "      <td id=\"T_04011_row38_col14\" class=\"data row38 col14\" >0.000060</td>\n",
              "    </tr>\n",
              "    <tr>\n",
              "      <th id=\"T_04011_level0_row39\" class=\"row_heading level0 row39\" >39</th>\n",
              "      <td id=\"T_04011_row39_col0\" class=\"data row39 col0\" >40</td>\n",
              "      <td id=\"T_04011_row39_col1\" class=\"data row39 col1\" >5098.470000</td>\n",
              "      <td id=\"T_04011_row39_col2\" class=\"data row39 col2\" >0.274180</td>\n",
              "      <td id=\"T_04011_row39_col3\" class=\"data row39 col3\" >1.424740</td>\n",
              "      <td id=\"T_04011_row39_col4\" class=\"data row39 col4\" >0.819820</td>\n",
              "      <td id=\"T_04011_row39_col5\" class=\"data row39 col5\" >0.767890</td>\n",
              "      <td id=\"T_04011_row39_col6\" class=\"data row39 col6\" >0.149540</td>\n",
              "      <td id=\"T_04011_row39_col7\" class=\"data row39 col7\" >0.419810</td>\n",
              "      <td id=\"T_04011_row39_col8\" class=\"data row39 col8\" >0.374650</td>\n",
              "      <td id=\"T_04011_row39_col9\" class=\"data row39 col9\" >0.748700</td>\n",
              "      <td id=\"T_04011_row39_col10\" class=\"data row39 col10\" >2.717870</td>\n",
              "      <td id=\"T_04011_row39_col11\" class=\"data row39 col11\" >1.168020</td>\n",
              "      <td id=\"T_04011_row39_col12\" class=\"data row39 col12\" >0.000035</td>\n",
              "      <td id=\"T_04011_row39_col13\" class=\"data row39 col13\" >0.000035</td>\n",
              "      <td id=\"T_04011_row39_col14\" class=\"data row39 col14\" >0.000035</td>\n",
              "    </tr>\n",
              "  </tbody>\n",
              "</table>\n"
            ]
          },
          "metadata": {}
        }
      ]
    },
    {
      "cell_type": "code",
      "source": [
        "import matplotlib.pyplot as plt\n",
        "import matplotlib.image as mpimg\n",
        "res_dir='/content/runs/detect/train19/'\n",
        "# List of YOLO result images you might have\n",
        "result_images = [\n",
        "    'results.png',          # Training metrics plot\n",
        "    'confusion_matrix.png', # Confusion matrix\n",
        "    'F1_curve.png',        # F1-score curve\n",
        "    'P_curve.png',         # Precision curve\n",
        "    'R_curve.png'          # Recall curve\n",
        "]\n",
        "\n",
        "# Display each image that exists\n",
        "for img_file in result_images:\n",
        "    try:\n",
        "        plt.figure(figsize=(10, 6))\n",
        "        img = mpimg.imread(res_dir+img_file)\n",
        "        plt.imshow(img)\n",
        "        plt.title(img_file.split('.')[0].replace('_', ' ').title())\n",
        "        plt.axis('off')\n",
        "        plt.show()\n",
        "    except FileNotFoundError:\n",
        "        print(f\"Note: {img_file} not found - skipping\")"
      ],
      "metadata": {
        "colab": {
          "base_uri": "https://localhost:8080/",
          "height": 1000
        },
        "id": "rR_cTZkZXHhH",
        "outputId": "8d8357a2-0857-4af8-cbe5-81a04e742718"
      },
      "execution_count": null,
      "outputs": [
        {
          "output_type": "display_data",
          "data": {
            "text/plain": [
              "<Figure size 1000x600 with 1 Axes>"
            ],
            "image/png": "[encoded data removed]"
          },
          "metadata": {}
        },
        {
          "output_type": "display_data",
          "data": {
            "text/plain": [
              "<Figure size 1000x600 with 1 Axes>"
            ],
            "image/png": "[encoded data removed]"
          },
          "metadata": {}
        },
        {
          "output_type": "display_data",
          "data": {
            "text/plain": [
              "<Figure size 1000x600 with 1 Axes>"
            ],
            "image/png": "[encoded data removed]"
          },
          "metadata": {}
        },
        {
          "output_type": "display_data",
          "data": {
            "text/plain": [
              "<Figure size 1000x600 with 1 Axes>"
            ],
            "image/png": "[encoded data removed]"
          },
          "metadata": {}
        },
        {
          "output_type": "display_data",
          "data": {
            "text/plain": [
              "<Figure size 1000x600 with 1 Axes>"
            ],
            "image/png": "[encoded data removed]"
          },
          "metadata": {}
        }
      ]
    },
    {
      "cell_type": "markdown",
      "source": [
        "Second Training for 60 Epoch"
      ],
      "metadata": {
        "id": "02HIPfpVboYu"
      }
    },
    {
      "cell_type": "code",
      "source": [
        "# Train the model\n",
        "results = model.train(\n",
        "    data= dataset_dir+'Dinner_dataset.yaml',\n",
        "    epochs=40,\n",
        "    imgsz=640,\n",
        "    batch=16,\n",
        "    device='cpu',\n",
        "    val=True,       # Enable validation\n",
        "    plots=True,    # Generate metric plots\n",
        "    save_json=True  # Save metrics to JSON\n",
        ")\n"
      ],
      "metadata": {
        "colab": {
          "base_uri": "https://localhost:8080/"
        },
        "id": "DkaU1N2rbtQF",
        "outputId": "c3958d99-38d7-4283-fe0b-50f5bd7aa3c0"
      },
      "execution_count": null,
      "outputs": [
        {
          "output_type": "stream",
          "name": "stdout",
          "text": [
            "New https://pypi.org/project/ultralytics/8.3.159 available 😃 Update with 'pip install -U ultralytics'\n",
            "Ultralytics 8.3.158 🚀 Python-3.11.13 torch-2.6.0+cu124 CPU (Intel Xeon 2.20GHz)\n",
            "\u001b[34m\u001b[1mengine/trainer: \u001b[0magnostic_nms=False, amp=True, augment=False, auto_augment=randaugment, batch=16, bgr=0.0, box=7.5, cache=False, cfg=None, classes=None, close_mosaic=10, cls=0.5, conf=None, copy_paste=0.0, copy_paste_mode=flip, cos_lr=False, cutmix=0.0, data=/content/drive/My Drive/Dataset/Dinner_dataset.yaml, degrees=0.0, deterministic=True, device=cpu, dfl=1.5, dnn=False, dropout=0.0, dynamic=False, embed=None, epochs=40, erasing=0.4, exist_ok=False, fliplr=0.5, flipud=0.0, format=torchscript, fraction=1.0, freeze=None, half=False, hsv_h=0.015, hsv_s=0.7, hsv_v=0.4, imgsz=640, int8=False, iou=0.7, keras=False, kobj=1.0, line_width=None, lr0=0.01, lrf=0.01, mask_ratio=4, max_det=300, mixup=0.0, mode=train, model=yolo11n.pt, momentum=0.937, mosaic=1.0, multi_scale=False, name=train192, nbs=64, nms=False, opset=None, optimize=False, optimizer=auto, overlap_mask=True, patience=100, perspective=0.0, plots=True, pose=12.0, pretrained=True, profile=False, project=None, rect=False, resume=False, retina_masks=False, save=True, save_conf=False, save_crop=False, save_dir=runs/detect/train192, save_frames=False, save_json=True, save_period=-1, save_txt=False, scale=0.5, seed=0, shear=0.0, show=False, show_boxes=True, show_conf=True, show_labels=True, simplify=True, single_cls=False, source=None, split=val, stream_buffer=False, task=detect, time=None, tracker=botsort.yaml, translate=0.1, val=True, verbose=True, vid_stride=1, visualize=False, warmup_bias_lr=0.0, warmup_epochs=3.0, warmup_momentum=0.8, weight_decay=0.0005, workers=0, workspace=None\n",
            "\n",
            "                   from  n    params  module                                       arguments                     \n",
            "  0                  -1  1       464  ultralytics.nn.modules.conv.Conv             [3, 16, 3, 2]                 \n",
            "  1                  -1  1      4672  ultralytics.nn.modules.conv.Conv             [16, 32, 3, 2]                \n",
            "  2                  -1  1      6640  ultralytics.nn.modules.block.C3k2            [32, 64, 1, False, 0.25]      \n",
            "  3                  -1  1     36992  ultralytics.nn.modules.conv.Conv             [64, 64, 3, 2]                \n",
            "  4                  -1  1     26080  ultralytics.nn.modules.block.C3k2            [64, 128, 1, False, 0.25]     \n",
            "  5                  -1  1    147712  ultralytics.nn.modules.conv.Conv             [128, 128, 3, 2]              \n",
            "  6                  -1  1     87040  ultralytics.nn.modules.block.C3k2            [128, 128, 1, True]           \n",
            "  7                  -1  1    295424  ultralytics.nn.modules.conv.Conv             [128, 256, 3, 2]              \n",
            "  8                  -1  1    346112  ultralytics.nn.modules.block.C3k2            [256, 256, 1, True]           \n",
            "  9                  -1  1    164608  ultralytics.nn.modules.block.SPPF            [256, 256, 5]                 \n",
            " 10                  -1  1    249728  ultralytics.nn.modules.block.C2PSA           [256, 256, 1]                 \n",
            " 11                  -1  1         0  torch.nn.modules.upsampling.Upsample         [None, 2, 'nearest']          \n",
            " 12             [-1, 6]  1         0  ultralytics.nn.modules.conv.Concat           [1]                           \n",
            " 13                  -1  1    111296  ultralytics.nn.modules.block.C3k2            [384, 128, 1, False]          \n",
            " 14                  -1  1         0  torch.nn.modules.upsampling.Upsample         [None, 2, 'nearest']          \n",
            " 15             [-1, 4]  1         0  ultralytics.nn.modules.conv.Concat           [1]                           \n",
            " 16                  -1  1     32096  ultralytics.nn.modules.block.C3k2            [256, 64, 1, False]           \n",
            " 17                  -1  1     36992  ultralytics.nn.modules.conv.Conv             [64, 64, 3, 2]                \n",
            " 18            [-1, 13]  1         0  ultralytics.nn.modules.conv.Concat           [1]                           \n",
            " 19                  -1  1     86720  ultralytics.nn.modules.block.C3k2            [192, 128, 1, False]          \n",
            " 20                  -1  1    147712  ultralytics.nn.modules.conv.Conv             [128, 128, 3, 2]              \n",
            " 21            [-1, 10]  1         0  ultralytics.nn.modules.conv.Concat           [1]                           \n",
            " 22                  -1  1    378880  ultralytics.nn.modules.block.C3k2            [384, 256, 1, True]           \n",
            " 23        [16, 19, 22]  1    431842  ultralytics.nn.modules.head.Detect           [6, [64, 128, 256]]           \n",
            "YOLO11n summary: 181 layers, 2,591,010 parameters, 2,590,994 gradients, 6.4 GFLOPs\n",
            "\n",
            "Transferred 499/499 items from pretrained weights\n",
            "Freezing layer 'model.23.dfl.conv.weight'\n",
            "\u001b[34m\u001b[1mtrain: \u001b[0mFast image access ✅ (ping: 0.8±0.4 ms, read: 94.8±82.6 MB/s, size: 2057.1 KB)\n"
          ]
        },
        {
          "output_type": "stream",
          "name": "stderr",
          "text": [
            "\u001b[34m\u001b[1mtrain: \u001b[0mScanning /content/drive/My Drive/Dataset/labels/train.cache... 23 images, 120 backgrounds, 0 corrupt: 100%|██████████| 143/143 [00:00<?, ?it/s]"
          ]
        },
        {
          "output_type": "stream",
          "name": "stdout",
          "text": [
            "\u001b[34m\u001b[1malbumentations: \u001b[0mBlur(p=0.01, blur_limit=(3, 7)), MedianBlur(p=0.01, blur_limit=(3, 7)), ToGray(p=0.01, method='weighted_average', num_output_channels=3), CLAHE(p=0.01, clip_limit=(1.0, 4.0), tile_grid_size=(8, 8))\n",
            "\u001b[34m\u001b[1mval: \u001b[0mFast image access ✅ (ping: 0.6±0.1 ms, read: 287.3±84.6 MB/s, size: 2059.8 KB)\n"
          ]
        },
        {
          "output_type": "stream",
          "name": "stderr",
          "text": [
            "\n",
            "\u001b[34m\u001b[1mval: \u001b[0mScanning /content/drive/My Drive/Dataset/labels/val.cache... 22 images, 0 backgrounds, 0 corrupt: 100%|██████████| 22/22 [00:00<?, ?it/s]"
          ]
        },
        {
          "output_type": "stream",
          "name": "stdout",
          "text": [
            "Plotting labels to runs/detect/train192/labels.jpg... \n"
          ]
        },
        {
          "output_type": "stream",
          "name": "stderr",
          "text": [
            "\n"
          ]
        },
        {
          "output_type": "stream",
          "name": "stdout",
          "text": [
            "\u001b[34m\u001b[1moptimizer:\u001b[0m 'optimizer=auto' found, ignoring 'lr0=0.01' and 'momentum=0.937' and determining best 'optimizer', 'lr0' and 'momentum' automatically... \n",
            "\u001b[34m\u001b[1moptimizer:\u001b[0m AdamW(lr=0.001, momentum=0.9) with parameter groups 81 weight(decay=0.0), 88 weight(decay=0.0005), 87 bias(decay=0.0)\n",
            "Image sizes 640 train, 640 val\n",
            "Using 0 dataloader workers\n",
            "Logging results to \u001b[1mruns/detect/train192\u001b[0m\n",
            "Starting training for 40 epochs...\n",
            "\n",
            "      Epoch    GPU_mem   box_loss   cls_loss   dfl_loss  Instances       Size\n"
          ]
        },
        {
          "output_type": "stream",
          "name": "stderr",
          "text": [
            "       1/40         0G     0.3424      1.005     0.8552         34        640: 100%|██████████| 9/9 [02:15<00:00, 15.09s/it]\n",
            "                 Class     Images  Instances      Box(P          R      mAP50  mAP50-95): 100%|██████████| 1/1 [00:05<00:00,  5.81s/it]"
          ]
        },
        {
          "output_type": "stream",
          "name": "stdout",
          "text": [
            "                   all         22        106      0.968       0.15      0.426      0.392\n"
          ]
        },
        {
          "output_type": "stream",
          "name": "stderr",
          "text": [
            "\n"
          ]
        },
        {
          "output_type": "stream",
          "name": "stdout",
          "text": [
            "\n",
            "      Epoch    GPU_mem   box_loss   cls_loss   dfl_loss  Instances       Size\n"
          ]
        },
        {
          "output_type": "stream",
          "name": "stderr",
          "text": [
            "       2/40         0G     0.3346      1.013     0.8666         26        640: 100%|██████████| 9/9 [01:57<00:00, 13.08s/it]\n",
            "                 Class     Images  Instances      Box(P          R      mAP50  mAP50-95): 100%|██████████| 1/1 [00:05<00:00,  5.73s/it]"
          ]
        },
        {
          "output_type": "stream",
          "name": "stdout",
          "text": [
            "                   all         22        106      0.768      0.149      0.375      0.359\n"
          ]
        },
        {
          "output_type": "stream",
          "name": "stderr",
          "text": [
            "\n"
          ]
        },
        {
          "output_type": "stream",
          "name": "stdout",
          "text": [
            "\n",
            "      Epoch    GPU_mem   box_loss   cls_loss   dfl_loss  Instances       Size\n"
          ]
        },
        {
          "output_type": "stream",
          "name": "stderr",
          "text": [
            "       3/40         0G      0.312      0.858       0.82         27        640: 100%|██████████| 9/9 [01:59<00:00, 13.27s/it]\n",
            "                 Class     Images  Instances      Box(P          R      mAP50  mAP50-95): 100%|██████████| 1/1 [00:05<00:00,  5.77s/it]"
          ]
        },
        {
          "output_type": "stream",
          "name": "stdout",
          "text": [
            "                   all         22        106        0.8      0.158      0.397      0.381\n"
          ]
        },
        {
          "output_type": "stream",
          "name": "stderr",
          "text": [
            "\n"
          ]
        },
        {
          "output_type": "stream",
          "name": "stdout",
          "text": [
            "\n",
            "      Epoch    GPU_mem   box_loss   cls_loss   dfl_loss  Instances       Size\n"
          ]
        },
        {
          "output_type": "stream",
          "name": "stderr",
          "text": [
            "       4/40         0G     0.3384     0.9498     0.8597         18        640: 100%|██████████| 9/9 [01:57<00:00, 13.06s/it]\n",
            "                 Class     Images  Instances      Box(P          R      mAP50  mAP50-95): 100%|██████████| 1/1 [00:04<00:00,  4.72s/it]"
          ]
        },
        {
          "output_type": "stream",
          "name": "stdout",
          "text": [
            "                   all         22        106       0.78      0.286      0.375      0.361\n"
          ]
        },
        {
          "output_type": "stream",
          "name": "stderr",
          "text": [
            "\n"
          ]
        },
        {
          "output_type": "stream",
          "name": "stdout",
          "text": [
            "\n",
            "      Epoch    GPU_mem   box_loss   cls_loss   dfl_loss  Instances       Size\n"
          ]
        },
        {
          "output_type": "stream",
          "name": "stderr",
          "text": [
            "       5/40         0G     0.3221     0.9772     0.8262         16        640:  89%|████████▉ | 8/9 [01:46<00:13, 13.46s/it]"
          ]
        }
      ]
    }
  ]
}